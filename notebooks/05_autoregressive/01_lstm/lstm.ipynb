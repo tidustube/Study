{
  "cells": [
    {
      "cell_type": "markdown",
      "id": "b076bd1a-b236-4fbc-953d-8295b25122ae",
      "metadata": {
        "id": "b076bd1a-b236-4fbc-953d-8295b25122ae"
      },
      "source": [
        "# 🥙 LSTM - 레시피 데이터셋"
      ]
    },
    {
      "cell_type": "markdown",
      "id": "5795b771",
      "metadata": {
        "id": "5795b771"
      },
      "source": [
        "<table align=\"left\">\n",
        "  <td>\n",
        "    <a href=\"https://colab.research.google.com/github/rickiepark/Generative_Deep_Learning_2nd_Edition/blob/main/notebooks/05_autoregressive/01_lstm/lstm.ipynb\" target=\"_parent\"><img src=\"https://colab.research.google.com/assets/colab-badge.svg\" alt=\"Open In Colab\"/></a>\n",
        "  </td>\n",
        "</table>"
      ]
    },
    {
      "cell_type": "markdown",
      "id": "658a95da-9645-4bcf-bd9d-4b95a4b6f582",
      "metadata": {
        "id": "658a95da-9645-4bcf-bd9d-4b95a4b6f582"
      },
      "source": [
        "이 노트북에서는 레시피 데이터셋에서 LSTM을 훈련합니다."
      ]
    },
    {
      "cell_type": "code",
      "execution_count": 1,
      "id": "4e0d56cc-4773-4029-97d8-26f882ba79c9",
      "metadata": {
        "id": "4e0d56cc-4773-4029-97d8-26f882ba79c9"
      },
      "outputs": [],
      "source": [
        "import numpy as np\n",
        "import json\n",
        "import re\n",
        "import string\n",
        "\n",
        "import tensorflow as tf\n",
        "from tensorflow.keras import layers, models, callbacks, losses"
      ]
    },
    {
      "cell_type": "markdown",
      "id": "339e6268-ebd7-4feb-86db-1fe7abccdbe5",
      "metadata": {
        "id": "339e6268-ebd7-4feb-86db-1fe7abccdbe5"
      },
      "source": [
        "## 0. 파라미터 <a name=\"parameters\"></a>"
      ]
    },
    {
      "cell_type": "code",
      "execution_count": 2,
      "id": "2d8352af-343e-4c2e-8c91-95f8bac1c8a1",
      "metadata": {
        "id": "2d8352af-343e-4c2e-8c91-95f8bac1c8a1"
      },
      "outputs": [],
      "source": [
        "VOCAB_SIZE = 10000\n",
        "MAX_LEN = 200\n",
        "EMBEDDING_DIM = 100\n",
        "N_UNITS = 128\n",
        "VALIDATION_SPLIT = 0.2\n",
        "SEED = 42\n",
        "LOAD_MODEL = False\n",
        "BATCH_SIZE = 32\n",
        "EPOCHS = 25"
      ]
    },
    {
      "cell_type": "markdown",
      "id": "b7716fac-0010-49b0-b98e-53be2259edde",
      "metadata": {
        "id": "b7716fac-0010-49b0-b98e-53be2259edde"
      },
      "source": [
        "## 1. 데이터 로드 <a name=\"load\"></a>"
      ]
    },
    {
      "cell_type": "code",
      "execution_count": 10,
      "id": "46881426",
      "metadata": {
        "id": "46881426",
        "outputId": "79d23b10-3e6c-4687-e250-d1ccb913203f",
        "colab": {
          "base_uri": "https://localhost:8080/",
          "height": 128
        }
      },
      "outputs": [
        {
          "output_type": "display_data",
          "data": {
            "text/plain": [
              "<IPython.core.display.HTML object>"
            ],
            "text/html": [
              "\n",
              "     <input type=\"file\" id=\"files-62bd2c11-d709-4555-9c91-1f5a3e53dae0\" name=\"files[]\" multiple disabled\n",
              "        style=\"border:none\" />\n",
              "     <output id=\"result-62bd2c11-d709-4555-9c91-1f5a3e53dae0\">\n",
              "      Upload widget is only available when the cell has been executed in the\n",
              "      current browser session. Please rerun this cell to enable.\n",
              "      </output>\n",
              "      <script>// Copyright 2017 Google LLC\n",
              "//\n",
              "// Licensed under the Apache License, Version 2.0 (the \"License\");\n",
              "// you may not use this file except in compliance with the License.\n",
              "// You may obtain a copy of the License at\n",
              "//\n",
              "//      http://www.apache.org/licenses/LICENSE-2.0\n",
              "//\n",
              "// Unless required by applicable law or agreed to in writing, software\n",
              "// distributed under the License is distributed on an \"AS IS\" BASIS,\n",
              "// WITHOUT WARRANTIES OR CONDITIONS OF ANY KIND, either express or implied.\n",
              "// See the License for the specific language governing permissions and\n",
              "// limitations under the License.\n",
              "\n",
              "/**\n",
              " * @fileoverview Helpers for google.colab Python module.\n",
              " */\n",
              "(function(scope) {\n",
              "function span(text, styleAttributes = {}) {\n",
              "  const element = document.createElement('span');\n",
              "  element.textContent = text;\n",
              "  for (const key of Object.keys(styleAttributes)) {\n",
              "    element.style[key] = styleAttributes[key];\n",
              "  }\n",
              "  return element;\n",
              "}\n",
              "\n",
              "// Max number of bytes which will be uploaded at a time.\n",
              "const MAX_PAYLOAD_SIZE = 100 * 1024;\n",
              "\n",
              "function _uploadFiles(inputId, outputId) {\n",
              "  const steps = uploadFilesStep(inputId, outputId);\n",
              "  const outputElement = document.getElementById(outputId);\n",
              "  // Cache steps on the outputElement to make it available for the next call\n",
              "  // to uploadFilesContinue from Python.\n",
              "  outputElement.steps = steps;\n",
              "\n",
              "  return _uploadFilesContinue(outputId);\n",
              "}\n",
              "\n",
              "// This is roughly an async generator (not supported in the browser yet),\n",
              "// where there are multiple asynchronous steps and the Python side is going\n",
              "// to poll for completion of each step.\n",
              "// This uses a Promise to block the python side on completion of each step,\n",
              "// then passes the result of the previous step as the input to the next step.\n",
              "function _uploadFilesContinue(outputId) {\n",
              "  const outputElement = document.getElementById(outputId);\n",
              "  const steps = outputElement.steps;\n",
              "\n",
              "  const next = steps.next(outputElement.lastPromiseValue);\n",
              "  return Promise.resolve(next.value.promise).then((value) => {\n",
              "    // Cache the last promise value to make it available to the next\n",
              "    // step of the generator.\n",
              "    outputElement.lastPromiseValue = value;\n",
              "    return next.value.response;\n",
              "  });\n",
              "}\n",
              "\n",
              "/**\n",
              " * Generator function which is called between each async step of the upload\n",
              " * process.\n",
              " * @param {string} inputId Element ID of the input file picker element.\n",
              " * @param {string} outputId Element ID of the output display.\n",
              " * @return {!Iterable<!Object>} Iterable of next steps.\n",
              " */\n",
              "function* uploadFilesStep(inputId, outputId) {\n",
              "  const inputElement = document.getElementById(inputId);\n",
              "  inputElement.disabled = false;\n",
              "\n",
              "  const outputElement = document.getElementById(outputId);\n",
              "  outputElement.innerHTML = '';\n",
              "\n",
              "  const pickedPromise = new Promise((resolve) => {\n",
              "    inputElement.addEventListener('change', (e) => {\n",
              "      resolve(e.target.files);\n",
              "    });\n",
              "  });\n",
              "\n",
              "  const cancel = document.createElement('button');\n",
              "  inputElement.parentElement.appendChild(cancel);\n",
              "  cancel.textContent = 'Cancel upload';\n",
              "  const cancelPromise = new Promise((resolve) => {\n",
              "    cancel.onclick = () => {\n",
              "      resolve(null);\n",
              "    };\n",
              "  });\n",
              "\n",
              "  // Wait for the user to pick the files.\n",
              "  const files = yield {\n",
              "    promise: Promise.race([pickedPromise, cancelPromise]),\n",
              "    response: {\n",
              "      action: 'starting',\n",
              "    }\n",
              "  };\n",
              "\n",
              "  cancel.remove();\n",
              "\n",
              "  // Disable the input element since further picks are not allowed.\n",
              "  inputElement.disabled = true;\n",
              "\n",
              "  if (!files) {\n",
              "    return {\n",
              "      response: {\n",
              "        action: 'complete',\n",
              "      }\n",
              "    };\n",
              "  }\n",
              "\n",
              "  for (const file of files) {\n",
              "    const li = document.createElement('li');\n",
              "    li.append(span(file.name, {fontWeight: 'bold'}));\n",
              "    li.append(span(\n",
              "        `(${file.type || 'n/a'}) - ${file.size} bytes, ` +\n",
              "        `last modified: ${\n",
              "            file.lastModifiedDate ? file.lastModifiedDate.toLocaleDateString() :\n",
              "                                    'n/a'} - `));\n",
              "    const percent = span('0% done');\n",
              "    li.appendChild(percent);\n",
              "\n",
              "    outputElement.appendChild(li);\n",
              "\n",
              "    const fileDataPromise = new Promise((resolve) => {\n",
              "      const reader = new FileReader();\n",
              "      reader.onload = (e) => {\n",
              "        resolve(e.target.result);\n",
              "      };\n",
              "      reader.readAsArrayBuffer(file);\n",
              "    });\n",
              "    // Wait for the data to be ready.\n",
              "    let fileData = yield {\n",
              "      promise: fileDataPromise,\n",
              "      response: {\n",
              "        action: 'continue',\n",
              "      }\n",
              "    };\n",
              "\n",
              "    // Use a chunked sending to avoid message size limits. See b/62115660.\n",
              "    let position = 0;\n",
              "    do {\n",
              "      const length = Math.min(fileData.byteLength - position, MAX_PAYLOAD_SIZE);\n",
              "      const chunk = new Uint8Array(fileData, position, length);\n",
              "      position += length;\n",
              "\n",
              "      const base64 = btoa(String.fromCharCode.apply(null, chunk));\n",
              "      yield {\n",
              "        response: {\n",
              "          action: 'append',\n",
              "          file: file.name,\n",
              "          data: base64,\n",
              "        },\n",
              "      };\n",
              "\n",
              "      let percentDone = fileData.byteLength === 0 ?\n",
              "          100 :\n",
              "          Math.round((position / fileData.byteLength) * 100);\n",
              "      percent.textContent = `${percentDone}% done`;\n",
              "\n",
              "    } while (position < fileData.byteLength);\n",
              "  }\n",
              "\n",
              "  // All done.\n",
              "  yield {\n",
              "    response: {\n",
              "      action: 'complete',\n",
              "    }\n",
              "  };\n",
              "}\n",
              "\n",
              "scope.google = scope.google || {};\n",
              "scope.google.colab = scope.google.colab || {};\n",
              "scope.google.colab._files = {\n",
              "  _uploadFiles,\n",
              "  _uploadFilesContinue,\n",
              "};\n",
              "})(self);\n",
              "</script> "
            ]
          },
          "metadata": {}
        },
        {
          "output_type": "stream",
          "name": "stdout",
          "text": [
            "Saving kaggle.json to kaggle.json\n",
            "Downloading epirecipes.zip to /content\n",
            " 80% 9.00M/11.3M [00:01<00:00, 8.72MB/s]\n",
            "100% 11.3M/11.3M [00:01<00:00, 7.07MB/s]\n"
          ]
        }
      ],
      "source": [
        "import sys\n",
        "\n",
        "# 코랩일 경우 노트북에서 celeba 데이터셋을 받습니다.\n",
        "if 'google.colab' in sys.modules:\n",
        "    # 캐글-->Setttings-->API-->Create New Token에서\n",
        "    # kaggle.json 파일을 만들어 코랩에 업로드하세요.\n",
        "    from google.colab import files\n",
        "    files.upload()\n",
        "    !mkdir ~/.kaggle\n",
        "    !cp kaggle.json ~/.kaggle/\n",
        "    !chmod 600 ~/.kaggle/kaggle.json\n",
        "    # celeba 데이터셋을 다운로드하고 압축을 해제합니다.\n",
        "    !kaggle datasets download -d hugodarwood/epirecipes\n",
        "    !unzip -q epirecipes.zip"
      ]
    },
    {
      "cell_type": "code",
      "execution_count": 11,
      "id": "93cf6b0f-9667-4146-8911-763a8a2925d3",
      "metadata": {
        "tags": [],
        "id": "93cf6b0f-9667-4146-8911-763a8a2925d3"
      },
      "outputs": [],
      "source": [
        "# 전체 데이터셋 로드\n",
        "with open(\"./full_format_recipes.json\") as json_data:\n",
        "    recipe_data = json.load(json_data)"
      ]
    },
    {
      "cell_type": "code",
      "execution_count": 12,
      "id": "23a74eca-f1b7-4a46-9a1f-b5806a4ed361",
      "metadata": {
        "tags": [],
        "id": "23a74eca-f1b7-4a46-9a1f-b5806a4ed361"
      },
      "outputs": [],
      "source": [
        "# 데이터셋 필터링\n",
        "filtered_data = [\n",
        "    \"Recipe for \" + x[\"title\"] + \" | \" + \" \".join(x[\"directions\"])\n",
        "    for x in recipe_data\n",
        "    if \"title\" in x\n",
        "    and x[\"title\"] is not None\n",
        "    and \"directions\" in x\n",
        "    and x[\"directions\"] is not None\n",
        "]"
      ]
    },
    {
      "cell_type": "code",
      "execution_count": 13,
      "id": "389c20de-0422-4c48-a7b4-6ee12a7bf0e2",
      "metadata": {
        "tags": [],
        "id": "389c20de-0422-4c48-a7b4-6ee12a7bf0e2",
        "outputId": "2661224e-3f06-44b3-fb7e-b1d61e728810",
        "colab": {
          "base_uri": "https://localhost:8080/"
        }
      },
      "outputs": [
        {
          "output_type": "stream",
          "name": "stdout",
          "text": [
            "20111개 레시피 로드\n"
          ]
        }
      ],
      "source": [
        "# 레시피 개수 확인\n",
        "n_recipes = len(filtered_data)\n",
        "print(f\"{n_recipes}개 레시피 로드\")"
      ]
    },
    {
      "cell_type": "code",
      "execution_count": 14,
      "id": "1b2e3cf7-e416-460e-874a-0dd9637bca36",
      "metadata": {
        "id": "1b2e3cf7-e416-460e-874a-0dd9637bca36",
        "outputId": "3d306c7a-1857-4faa-d232-60906e78ac7b",
        "colab": {
          "base_uri": "https://localhost:8080/"
        }
      },
      "outputs": [
        {
          "output_type": "stream",
          "name": "stdout",
          "text": [
            "Recipe for Ham Persillade with Mustard Potato Salad and Mashed Peas  | Chop enough parsley leaves to measure 1 tablespoon; reserve. Chop remaining leaves and stems and simmer with broth and garlic in a small saucepan, covered, 5 minutes. Meanwhile, sprinkle gelatin over water in a medium bowl and let soften 1 minute. Strain broth through a fine-mesh sieve into bowl with gelatin and stir to dissolve. Season with salt and pepper. Set bowl in an ice bath and cool to room temperature, stirring. Toss ham with reserved parsley and divide among jars. Pour gelatin on top and chill until set, at least 1 hour. Whisk together mayonnaise, mustard, vinegar, 1/4 teaspoon salt, and 1/4 teaspoon pepper in a large bowl. Stir in celery, cornichons, and potatoes. Pulse peas with marjoram, oil, 1/2 teaspoon pepper, and 1/4 teaspoon salt in a food processor to a coarse mash. Layer peas, then potato salad, over ham.\n"
          ]
        }
      ],
      "source": [
        "example = filtered_data[9]\n",
        "print(example)"
      ]
    },
    {
      "cell_type": "markdown",
      "id": "3f871aaf-d873-41c7-8946-e4eef7ac17c1",
      "metadata": {
        "id": "3f871aaf-d873-41c7-8946-e4eef7ac17c1"
      },
      "source": [
        "## 2. 데이터 토큰화"
      ]
    },
    {
      "cell_type": "code",
      "execution_count": 15,
      "id": "5b2064fb-5dcc-4657-b470-0928d10e2ddc",
      "metadata": {
        "tags": [],
        "id": "5b2064fb-5dcc-4657-b470-0928d10e2ddc"
      },
      "outputs": [],
      "source": [
        "# 구두점을 분리하여 별도의 '단어'로 취급합니다.\n",
        "def pad_punctuation(s):\n",
        "    s = re.sub(f\"([{string.punctuation}])\", r\" \\1 \", s)\n",
        "    s = re.sub(\" +\", \" \", s)\n",
        "    return s\n",
        "\n",
        "\n",
        "text_data = [pad_punctuation(x) for x in filtered_data]"
      ]
    },
    {
      "cell_type": "code",
      "execution_count": 16,
      "id": "b87d7c65-9a46-492a-a5c0-a043b0d252f3",
      "metadata": {
        "id": "b87d7c65-9a46-492a-a5c0-a043b0d252f3",
        "outputId": "eef1c85e-8a2c-4750-d9f8-9a238ee75251",
        "colab": {
          "base_uri": "https://localhost:8080/",
          "height": 143
        }
      },
      "outputs": [
        {
          "output_type": "execute_result",
          "data": {
            "text/plain": [
              "'Recipe for Ham Persillade with Mustard Potato Salad and Mashed Peas | Chop enough parsley leaves to measure 1 tablespoon ; reserve . Chop remaining leaves and stems and simmer with broth and garlic in a small saucepan , covered , 5 minutes . Meanwhile , sprinkle gelatin over water in a medium bowl and let soften 1 minute . Strain broth through a fine - mesh sieve into bowl with gelatin and stir to dissolve . Season with salt and pepper . Set bowl in an ice bath and cool to room temperature , stirring . Toss ham with reserved parsley and divide among jars . Pour gelatin on top and chill until set , at least 1 hour . Whisk together mayonnaise , mustard , vinegar , 1 / 4 teaspoon salt , and 1 / 4 teaspoon pepper in a large bowl . Stir in celery , cornichons , and potatoes . Pulse peas with marjoram , oil , 1 / 2 teaspoon pepper , and 1 / 4 teaspoon salt in a food processor to a coarse mash . Layer peas , then potato salad , over ham . '"
            ],
            "application/vnd.google.colaboratory.intrinsic+json": {
              "type": "string"
            }
          },
          "metadata": {},
          "execution_count": 16
        }
      ],
      "source": [
        "# 레시피 샘플 출력\n",
        "example_data = text_data[9]\n",
        "example_data"
      ]
    },
    {
      "cell_type": "code",
      "execution_count": 17,
      "id": "9834f916-b21a-4104-acc9-f28d3bd7a8c1",
      "metadata": {
        "tags": [],
        "id": "9834f916-b21a-4104-acc9-f28d3bd7a8c1"
      },
      "outputs": [],
      "source": [
        "# 텐서플로 데이터셋으로 변환하기\n",
        "text_ds = (\n",
        "    tf.data.Dataset.from_tensor_slices(text_data)\n",
        "    .batch(BATCH_SIZE)\n",
        "    .shuffle(1000)\n",
        ")"
      ]
    },
    {
      "cell_type": "code",
      "execution_count": 18,
      "id": "884c0bcb-0807-45a1-8f7e-a32f2c6fa4de",
      "metadata": {
        "id": "884c0bcb-0807-45a1-8f7e-a32f2c6fa4de"
      },
      "outputs": [],
      "source": [
        "# 벡터화 층 만들기\n",
        "vectorize_layer = layers.TextVectorization(\n",
        "    standardize=\"lower\",\n",
        "    max_tokens=VOCAB_SIZE,\n",
        "    output_mode=\"int\",\n",
        "    output_sequence_length=MAX_LEN + 1,\n",
        ")"
      ]
    },
    {
      "cell_type": "code",
      "execution_count": 19,
      "id": "4d6dd34a-d905-497b-926a-405380ebcf98",
      "metadata": {
        "id": "4d6dd34a-d905-497b-926a-405380ebcf98"
      },
      "outputs": [],
      "source": [
        "# 훈련 세트에 층 적용\n",
        "vectorize_layer.adapt(text_ds)\n",
        "vocab = vectorize_layer.get_vocabulary()"
      ]
    },
    {
      "cell_type": "code",
      "execution_count": 20,
      "id": "f6c1c7ce-3cf0-40d4-a3dc-ab7090f69f2f",
      "metadata": {
        "id": "f6c1c7ce-3cf0-40d4-a3dc-ab7090f69f2f",
        "outputId": "959361a8-72b7-44da-a871-075ef0342fcc",
        "colab": {
          "base_uri": "https://localhost:8080/"
        }
      },
      "outputs": [
        {
          "output_type": "stream",
          "name": "stdout",
          "text": [
            "0: \n",
            "1: [UNK]\n",
            "2: .\n",
            "3: ,\n",
            "4: and\n",
            "5: to\n",
            "6: in\n",
            "7: the\n",
            "8: with\n",
            "9: a\n"
          ]
        }
      ],
      "source": [
        "# 토큰:단어 매핑 샘플 출력하기\n",
        "for i, word in enumerate(vocab[:10]):\n",
        "    print(f\"{i}: {word}\")"
      ]
    },
    {
      "cell_type": "code",
      "execution_count": 21,
      "id": "1cc30186-7ec6-4eb6-b29a-65df6714d321",
      "metadata": {
        "id": "1cc30186-7ec6-4eb6-b29a-65df6714d321",
        "outputId": "41e4a1ef-550f-4b17-a99e-cabc24182080",
        "colab": {
          "base_uri": "https://localhost:8080/"
        }
      },
      "outputs": [
        {
          "output_type": "stream",
          "name": "stdout",
          "text": [
            "[  26   16  557    1    8  298  335  189    4 1054  494   27  332  228\n",
            "  235  262    5  594   11  133   22  311    2  332   45  262    4  671\n",
            "    4   70    8  171    4   81    6    9   65   80    3  121    3   59\n",
            "   12    2  299    3   88  650   20   39    6    9   29   21    4   67\n",
            "  529   11  164    2  320  171  102    9  374   13  643  306   25   21\n",
            "    8  650    4   42    5  931    2   63    8   24    4   33    2  114\n",
            "   21    6  178  181 1245    4   60    5  140  112    3   48    2  117\n",
            "  557    8  285  235    4  200  292  980    2  107  650   28   72    4\n",
            "  108   10  114    3   57  204   11  172    2   73  110  482    3  298\n",
            "    3  190    3   11   23   32  142   24    3    4   11   23   32  142\n",
            "   33    6    9   30   21    2   42    6  353    3 3224    3    4  150\n",
            "    2  437  494    8 1281    3   37    3   11   23   15  142   33    3\n",
            "    4   11   23   32  142   24    6    9  291  188    5    9  412  572\n",
            "    2  230  494    3   46  335  189    3   20  557    2    0    0    0\n",
            "    0    0    0    0    0]\n"
          ]
        }
      ],
      "source": [
        "# 동일 샘플을 정수로 변환하여 출력하기\n",
        "example_tokenised = vectorize_layer(example_data)\n",
        "print(example_tokenised.numpy())"
      ]
    },
    {
      "cell_type": "markdown",
      "id": "8c195efb-84c6-4be0-a989-a7542188ad35",
      "metadata": {
        "id": "8c195efb-84c6-4be0-a989-a7542188ad35"
      },
      "source": [
        "## 3. 훈련 세트 만들기"
      ]
    },
    {
      "cell_type": "code",
      "execution_count": 22,
      "id": "740294a1-1a6b-4c89-92f2-036d7d1b788b",
      "metadata": {
        "id": "740294a1-1a6b-4c89-92f2-036d7d1b788b"
      },
      "outputs": [],
      "source": [
        "# 레시피와 한 단어 이동한 동일 텍스트로 훈련 세트를 만듭니다.\n",
        "def prepare_inputs(text):\n",
        "    text = tf.expand_dims(text, -1)\n",
        "    tokenized_sentences = vectorize_layer(text)\n",
        "    x = tokenized_sentences[:, :-1]\n",
        "    y = tokenized_sentences[:, 1:]\n",
        "    return x, y\n",
        "\n",
        "\n",
        "train_ds = text_ds.map(prepare_inputs)"
      ]
    },
    {
      "cell_type": "markdown",
      "id": "aff50401-3abe-4c10-bba8-b35bc13ad7d5",
      "metadata": {
        "tags": [],
        "id": "aff50401-3abe-4c10-bba8-b35bc13ad7d5"
      },
      "source": [
        "## 4. LSTM 만들기 <a name=\"build\"></a>"
      ]
    },
    {
      "cell_type": "code",
      "execution_count": 23,
      "id": "9230b5bf-b4a8-48d5-b73b-6899a598f296",
      "metadata": {
        "id": "9230b5bf-b4a8-48d5-b73b-6899a598f296",
        "outputId": "1ef24943-2fce-4c0b-d97a-449067e45da4",
        "colab": {
          "base_uri": "https://localhost:8080/"
        }
      },
      "outputs": [
        {
          "output_type": "stream",
          "name": "stdout",
          "text": [
            "Model: \"model\"\n",
            "_________________________________________________________________\n",
            " Layer (type)                Output Shape              Param #   \n",
            "=================================================================\n",
            " input_1 (InputLayer)        [(None, None)]            0         \n",
            "                                                                 \n",
            " embedding (Embedding)       (None, None, 100)         1000000   \n",
            "                                                                 \n",
            " lstm (LSTM)                 (None, None, 128)         117248    \n",
            "                                                                 \n",
            " dense (Dense)               (None, None, 10000)       1290000   \n",
            "                                                                 \n",
            "=================================================================\n",
            "Total params: 2407248 (9.18 MB)\n",
            "Trainable params: 2407248 (9.18 MB)\n",
            "Non-trainable params: 0 (0.00 Byte)\n",
            "_________________________________________________________________\n"
          ]
        }
      ],
      "source": [
        "inputs = layers.Input(shape=(None,), dtype=\"int32\")\n",
        "x = layers.Embedding(VOCAB_SIZE, EMBEDDING_DIM)(inputs)\n",
        "x = layers.LSTM(N_UNITS, return_sequences=True)(x)\n",
        "outputs = layers.Dense(VOCAB_SIZE, activation=\"softmax\")(x)\n",
        "lstm = models.Model(inputs, outputs)\n",
        "lstm.summary()"
      ]
    },
    {
      "cell_type": "code",
      "execution_count": 24,
      "id": "800a3c6e-fb11-4792-b6bc-9a43a7c977ad",
      "metadata": {
        "tags": [],
        "id": "800a3c6e-fb11-4792-b6bc-9a43a7c977ad"
      },
      "outputs": [],
      "source": [
        "if LOAD_MODEL:\n",
        "    # model.load_weights('./models/model')\n",
        "    lstm = models.load_model(\"./models/lstm\", compile=False)"
      ]
    },
    {
      "cell_type": "markdown",
      "id": "35b14665-4359-447b-be58-3fd58ba69084",
      "metadata": {
        "id": "35b14665-4359-447b-be58-3fd58ba69084"
      },
      "source": [
        "## 5. LSTM 훈련하기 <a name=\"train\"></a>"
      ]
    },
    {
      "cell_type": "code",
      "execution_count": 25,
      "id": "ffb1bd3b-6fd9-4536-973e-6375bbcbf16d",
      "metadata": {
        "id": "ffb1bd3b-6fd9-4536-973e-6375bbcbf16d"
      },
      "outputs": [],
      "source": [
        "loss_fn = losses.SparseCategoricalCrossentropy()\n",
        "lstm.compile(\"adam\", loss_fn)"
      ]
    },
    {
      "cell_type": "code",
      "execution_count": 26,
      "id": "3ddcff5f-829d-4449-99d2-9a3cb68f7d72",
      "metadata": {
        "id": "3ddcff5f-829d-4449-99d2-9a3cb68f7d72"
      },
      "outputs": [],
      "source": [
        "# TextGenerator 체크포인트 만들기\n",
        "class TextGenerator(callbacks.Callback):\n",
        "    def __init__(self, index_to_word, top_k=10):\n",
        "        self.index_to_word = index_to_word\n",
        "        self.word_to_index = {\n",
        "            word: index for index, word in enumerate(index_to_word)\n",
        "        }\n",
        "\n",
        "    def sample_from(self, probs, temperature):\n",
        "        probs = probs ** (1 / temperature)\n",
        "        probs = probs / np.sum(probs)\n",
        "        return np.random.choice(len(probs), p=probs), probs\n",
        "\n",
        "    def generate(self, start_prompt, max_tokens, temperature):\n",
        "        start_tokens = [\n",
        "            self.word_to_index.get(x, 1) for x in start_prompt.split()\n",
        "        ]\n",
        "        sample_token = None\n",
        "        info = []\n",
        "        while len(start_tokens) < max_tokens and sample_token != 0:\n",
        "            x = np.array([start_tokens])\n",
        "            y = self.model.predict(x, verbose=0)\n",
        "            sample_token, probs = self.sample_from(y[0][-1], temperature)\n",
        "            info.append({\"prompt\": start_prompt, \"word_probs\": probs})\n",
        "            start_tokens.append(sample_token)\n",
        "            start_prompt = start_prompt + \" \" + self.index_to_word[sample_token]\n",
        "        print(f\"\\n생성된 텍스트:\\n{start_prompt}\\n\")\n",
        "        return info\n",
        "\n",
        "    def on_epoch_end(self, epoch, logs=None):\n",
        "        self.generate(\"recipe for\", max_tokens=100, temperature=1.0)"
      ]
    },
    {
      "cell_type": "code",
      "execution_count": 27,
      "id": "349865fe-ffbe-450e-97be-043ae1740e78",
      "metadata": {
        "id": "349865fe-ffbe-450e-97be-043ae1740e78"
      },
      "outputs": [],
      "source": [
        "# 모델 저장 체크포인트 만들기\n",
        "model_checkpoint_callback = callbacks.ModelCheckpoint(\n",
        "    filepath=\"./checkpoint/checkpoint.ckpt\",\n",
        "    save_weights_only=True,\n",
        "    save_freq=\"epoch\",\n",
        "    verbose=0,\n",
        ")\n",
        "\n",
        "tensorboard_callback = callbacks.TensorBoard(log_dir=\"./logs\")\n",
        "\n",
        "# 시작 프롬프트 토큰화\n",
        "text_generator = TextGenerator(vocab)"
      ]
    },
    {
      "cell_type": "code",
      "execution_count": 28,
      "id": "461c2b3e-b5ae-4def-8bd9-e7bab8c63d8e",
      "metadata": {
        "tags": [],
        "id": "461c2b3e-b5ae-4def-8bd9-e7bab8c63d8e",
        "outputId": "1b942983-8580-4856-ac5a-51e823307cba",
        "colab": {
          "base_uri": "https://localhost:8080/"
        }
      },
      "outputs": [
        {
          "output_type": "stream",
          "name": "stdout",
          "text": [
            "Epoch 1/25\n",
            "629/629 [==============================] - ETA: 0s - loss: 4.4325\n",
            "생성된 텍스트:\n",
            "recipe for bruise eye | croutons . add garlic with bowl , pour wedges with filling and boil and add shells . season with plus large - the resealable small container is shallow not combined , remaining gently until simmer scraping sieve . soup until bowl to remove outer platter are smooth of egg and stand , . drain until prepared can divide - garnished sit ahead ( made in sprinkle out 4 onions of uncovered . slotted transfer of garlic . and heavy drain and cook or carrots , and high \n",
            "\n",
            "629/629 [==============================] - 67s 101ms/step - loss: 4.4325\n",
            "Epoch 2/25\n",
            "629/629 [==============================] - ETA: 0s - loss: 3.1141\n",
            "생성된 텍스트:\n",
            "recipe for tuna , lady de s apricot checking riz with sautéed underside | cook 3 to 4 tablespoons juice , crust and oil in processor . press out hot and thick dry before kept . add flour mixture water , increase , water , stir until cool , about 4 minutes . ladle chicken off sheets ; top chops with pear . custard layer around them from dressing and chill , parsley . cover . grind mint sprigs \n",
            "\n",
            "629/629 [==============================] - 29s 46ms/step - loss: 3.1141\n",
            "Epoch 3/25\n",
            "629/629 [==============================] - ETA: 0s - loss: 2.5407\n",
            "생성된 텍스트:\n",
            "recipe for sesame tenderloin with 2 - glazed and mustard sauce | mound chicken , yogurt into a electric mixer but still set over each dough in cream and 5 but inch cookies . transfer to a bowl and continue cool . drain \n",
            "\n",
            "629/629 [==============================] - 27s 43ms/step - loss: 2.5407\n",
            "Epoch 4/25\n",
            "628/629 [============================>.] - ETA: 0s - loss: 2.2839\n",
            "생성된 텍스트:\n",
            "recipe for cauliflower soufflé | whisk first 2 ingredients in a large bowl . drain peppers and rinse while peel . cut dough lengthwise into disk segments ; pipe into disk . garnish with remaining ramekins of remaining juices and drizzle herb salad with chicken . sprinkle with kebabs . simmer onions in shallow dish . in oil ( a instant tumblers ) thickly 8 of red beef in the water over once . reduce heat to a boil . add the onion and simmer , turning to soften , 40 minutes . ( this opened up a bit ,\n",
            "\n",
            "629/629 [==============================] - 31s 49ms/step - loss: 2.2843\n",
            "Epoch 5/25\n",
            "629/629 [==============================] - ETA: 0s - loss: 2.1344\n",
            "생성된 텍스트:\n",
            "recipe for harvest pea \" uwajimaya | toss warm eggs , cut into 1 / 4 - inch and 3 / 4 - inch shaker squares . if arugula mixture into prosciutto . arrange 1 / 4 inch of apple mixture , pistachios lengthwise , and freshly ground chives . , toss dough to 1 cup scallion . halve each lengthwise , cut jalapeño , if desired . form each third of milk lengthwise into rounds in 1 3 / 4 cup , dividing equally . complete remaining poblano mixture , 1 1 / 2 inch layer , bread ,\n",
            "\n",
            "629/629 [==============================] - 31s 49ms/step - loss: 2.1344\n",
            "Epoch 6/25\n",
            "629/629 [==============================] - ETA: 0s - loss: 2.0293\n",
            "생성된 텍스트:\n",
            "recipe for syrup ( new cake alla uncut ) [UNK] turkey : combine under stock | preheat broiler . preheat oven to 350°f . melt oil in heavy large skillet and add vegetables ; simmer flame pasta in lowest shortbread in lower third of oven 10 minutes . cool slightly , then scrape down sides of baking sheet . arrange slices on prepared pot . if desired for 13 minutes . return large skillet to oil as dry . add remaining 1 cup mold saffron and carrots to cook until sugar becomes reduced to brown , about 4 minutes .\n",
            "\n",
            "629/629 [==============================] - 31s 50ms/step - loss: 2.0293\n",
            "Epoch 7/25\n",
            "629/629 [==============================] - ETA: 0s - loss: 1.9489\n",
            "생성된 텍스트:\n",
            "recipe for charred crab sauté | blend first 5 ingredients in large bowl . finely chop onions . drain rice while still very finely f . mix pine paste to dry small skillet ; beat chopped berries , 1 / 4 cup grated apple segments . season with salt and pepper . remove incision from pot . brush citrus dressing over to coat . marinate 2 hours . mix pasta , onion and mint leaves in large skillet . season soup to taste with 1 teaspoon dill . simmer until heated through , about 3 minutes . whisk in cheese\n",
            "\n",
            "629/629 [==============================] - 31s 50ms/step - loss: 1.9489\n",
            "Epoch 8/25\n",
            "628/629 [============================>.] - ETA: 0s - loss: 1.8857\n",
            "생성된 텍스트:\n",
            "recipe for iceberg breasts with creamed onion and olives | in a 4 - to 4 baking pan sauté over moderate heat , sauté mushrooms , broth , rounded side up , turning the mixture once , until mixture browns and browned , about 5 minutes . pour in skillet and simmer , stirring occasionally , until heated through , about 2 minutes . season to taste with salt and pepper and serve . \n",
            "\n",
            "629/629 [==============================] - 30s 47ms/step - loss: 1.8855\n",
            "Epoch 9/25\n",
            "629/629 [==============================] - ETA: 0s - loss: 1.8361\n",
            "생성된 텍스트:\n",
            "recipe for panino with bread chips | heat oil in heavy heavy skillet over high heat . add veal fillets , tomatoes , skin sides down , 1 2 tablespoons parmesan seeds , soy sauce , 6–8 minutes . add to skillet and stir until sugar dissolves ; sauté 1 minute and let stand 15 minutes . transfer squid to bowl . ( can be prepared up to day ahead . cover separately ; chill , loosely covered or overnight . ) cut pork lengthwise into wedges into 1 / 2 - inch - long - shaped bag . cut\n",
            "\n",
            "629/629 [==============================] - 32s 51ms/step - loss: 1.8361\n",
            "Epoch 10/25\n",
            "629/629 [==============================] - ETA: 0s - loss: 1.7960\n",
            "생성된 텍스트:\n",
            "recipe for shrimp , prosciutto , and basil with fresh dried salad | cook bacon in heavy large skillet over moderate heat , stirring occasionally , until golden , 10 - 12 minutes . reduce heat to medium - low . peel ; coarsely chop and potatoes remaining 1 1 / 4 tablespoons white wine . measure 4 tortilla for 1 / 2 - inch - diameter patties . transfer 1 tablespoon oil to large roasting pan . place chicken wafer slices in pieces and beat to coat . spray grill rack and grill until grill marks appear on bottom\n",
            "\n",
            "629/629 [==============================] - 32s 50ms/step - loss: 1.7960\n",
            "Epoch 11/25\n",
            "629/629 [==============================] - ETA: 0s - loss: 1.7629\n",
            "생성된 텍스트:\n",
            "recipe for olive oil | stir together olives and brown sugar . toss tomatoes , green onion , onion , green mushrooms , vegetables , capers , and pepper to taste ; season with coarse salt and pepper or thin if using at a time under all end of a big skins . cut skin crosswise into 4 - blistered patties . pour cookies 1 / 4 inch apart over risotto rim , spreading evenly with about 1 / 2 cup , then cover with plastic wrap and freeze overnight . stir together vinegar , lime juice , jicama and\n",
            "\n",
            "629/629 [==============================] - 32s 50ms/step - loss: 1.7629\n",
            "Epoch 12/25\n",
            "628/629 [============================>.] - ETA: 0s - loss: 1.7345\n",
            "생성된 텍스트:\n",
            "recipe for raspberry shortcakes | roll up 9 x 11 x 4 pieces in a 10 - inch - dry bundt pan ( 1 / 2 \" ) pans and dust with flour . freeze custard in pan 5 hours . stir in green beans . let brisket cool slightly . whisk in flour , until blended . transfer dough to a floured surface , enclosing and chill in microwave on an 10 - inch - by 12 - inch - diameter springform pan and dust with flour , knocking out excess . beat together butter , oats , butter\n",
            "\n",
            "629/629 [==============================] - 32s 50ms/step - loss: 1.7342\n",
            "Epoch 13/25\n",
            "629/629 [==============================] - ETA: 0s - loss: 1.7094\n",
            "생성된 텍스트:\n",
            "recipe for aioli de pollo | for motor , st - eyed - thyme and brazilian - low place for 10 to 15 minutes , then set aside . combine all ingredients to half ; toss for italian pea shoots with enough mint leaves for remaining 2 tablespoons seasoning . . \n",
            "\n",
            "629/629 [==============================] - 29s 45ms/step - loss: 1.7094\n",
            "Epoch 14/25\n",
            "628/629 [============================>.] - ETA: 0s - loss: 1.6875\n",
            "생성된 텍스트:\n",
            "recipe for tomato - jellied pineapple hummus | heat gratin dish as burner on rack . increase oven rack 15 minutes ; reserve skillet . in a large bowl combine the boiled cheeses , the onions and the chiles , and the sauce , whisk the remaining tablespoon chives , vinegar , worcestershire sauce and the parsley , and salt to taste . sprinkle the broth , garnish with the parsley and chill for at least a bare up the water to 4 days and let it cool for 1 week . \n",
            "\n",
            "629/629 [==============================] - 32s 51ms/step - loss: 1.6876\n",
            "Epoch 15/25\n",
            "628/629 [============================>.] - ETA: 0s - loss: 1.6678\n",
            "생성된 텍스트:\n",
            "recipe for no - ingredient [UNK] | turn to the noodles , preferably & shrimp , scatter two - thirds of the breadcrumbs , and chop it together with the oil . stir the egg into the flour . pour into a 1 - 2 - quart baking dish and let cool . in a pot sauté the chicken with the butter and vinegar . in a oiled lid set over moderate heat , heat the tofu , stirring until it is golden - crisp - tender , about 15 seconds per . place the rice in a large bowl\n",
            "\n",
            "629/629 [==============================] - 32s 51ms/step - loss: 1.6676\n",
            "Epoch 16/25\n",
            "629/629 [==============================] - ETA: 0s - loss: 1.6494\n",
            "생성된 텍스트:\n",
            "recipe for tripled with sausage , chicken liver , and olives with coriander glaze | bring first 3 ingredients and sauce to simmer in medium saucepan and bring to a boil with ice water . heat 2 / 4 cup puree in wine . drizzle boiling water over apples . reduce heat and simmer on low heat until vegetables are tender , about 3 minutes , then with any liquid . strain sauce through a small spoon or colander . add water to large bowl , then spread evenly on paper towels . maintain oven temperature . twist steaks with\n",
            "\n",
            "629/629 [==============================] - 32s 51ms/step - loss: 1.6494\n",
            "Epoch 17/25\n",
            "629/629 [==============================] - ETA: 0s - loss: 1.6328\n",
            "생성된 텍스트:\n",
            "recipe for tea royale crème anglaise | position long sides of platter and biscotti sticks into glasses . spoon into bowls . \n",
            "\n",
            "629/629 [==============================] - 26s 42ms/step - loss: 1.6328\n",
            "Epoch 18/25\n",
            "629/629 [==============================] - ETA: 0s - loss: 1.6176\n",
            "생성된 텍스트:\n",
            "recipe for chicken stock | using a slotted spoon , transfer potato mixture to a small bowl ; lower ice ; discard bay leaves , and chop green onion . cut shallots into 1 / 2 - inch cubes in a large pot . stir over medium heat until smooth , adding more water by teaspoonfuls if too dry . to saute , add bacon and remaining 2 tablespoons garlic and cook over medium heat , stirring occasionally , until softened , about 12 minutes . add celery , tomatoes , basil , bay leaf over nuts , salt and\n",
            "\n",
            "629/629 [==============================] - 33s 52ms/step - loss: 1.6176\n",
            "Epoch 19/25\n",
            "629/629 [==============================] - ETA: 0s - loss: 1.6039\n",
            "생성된 텍스트:\n",
            "recipe for canal house buttermilk sangria | put four warm water in a shaker - glass jar . freeze until cold , until cold , about 4 hours . strain compote through a sieve into a strainer and drain in a bowl . stir sugar with a fork in a bowl and divide between bright eight 5 - cup , about 5 minutes , scraping up any sugar crystals on back of spoon , until incorporated . discard solids in simmering cream ; swirl berries into bowl . serve chilled or chilled or ice . peel and 2 whole in\n",
            "\n",
            "629/629 [==============================] - 32s 51ms/step - loss: 1.6039\n",
            "Epoch 20/25\n",
            "628/629 [============================>.] - ETA: 0s - loss: 1.5908\n",
            "생성된 텍스트:\n",
            "recipe for grasshopper ice cream with cherry coffee cream | lightly vanilla butter and flour in a small saucepan over medium heat , swirling , heat until just hold an instant - read thermometer registers 240°f . transfer custard to a large basket , stirring and cool mixture to break up mixture . strain mixture and discard solids over as much liquid as possible . then discard solids in soaking smooth . ( sauce is chill , covered and chilled , or freeze in same manner . ) preheat oven to 400° f . generously brush pie dish with melted\n",
            "\n",
            "629/629 [==============================] - 32s 51ms/step - loss: 1.5906\n",
            "Epoch 21/25\n",
            "628/629 [============================>.] - ETA: 0s - loss: 1.5784\n",
            "생성된 텍스트:\n",
            "recipe for lamb kebabs with tomatoes and mushrooms | preheat oven to preheat to 400°f . combine potatoes , chile , fennel fronds , cumin , and ginger in large bowl . add 3 quarts flour , butter , beet , mustard , cumin , nutmeg , salt , pepper , and cayenne in small bowl ; toss to coat ; place on roasting pan . add cheese and cornflake crumb rub . make pork chops evenly coat with 13 sage ; spread out on prepared baking sheet . bake bread until almost all fries in center , about 35\n",
            "\n",
            "629/629 [==============================] - 32s 51ms/step - loss: 1.5783\n",
            "Epoch 22/25\n",
            "629/629 [==============================] - ETA: 0s - loss: 1.5667\n",
            "생성된 텍스트:\n",
            "recipe for ratatouille and croutons | whisk oil and soy sauce in a large bowl using a light brown and lemon powder . when a thick enough lime juice is cooking juices slightly , and if desired sift into a small serving dish . divide melon among plates and sprinkle with additional mint curls . \n",
            "\n",
            "629/629 [==============================] - 29s 46ms/step - loss: 1.5667\n",
            "Epoch 23/25\n",
            "628/629 [============================>.] - ETA: 0s - loss: 1.5556\n",
            "생성된 텍스트:\n",
            "recipe for curried spinach puddings with sun - dried tomato , bacon , and macadamia nuts | preheat oven to 350°f . spray large rimmed baking sheet with nonstick spray . lightly coat 6 large rimmed baking sheets with nonstick spray . transfer to oven ; let filling against , cutting - cup crust from turkey . arrange 2 wonton tenderloin over spinach ; brush with maple marinade . melt butter in prepared dish . sprinkle with salt and pepper . working in batches , loosen skin side of both sides . repeat with second batch is lightly . mix\n",
            "\n",
            "629/629 [==============================] - 33s 52ms/step - loss: 1.5558\n",
            "Epoch 24/25\n",
            "628/629 [============================>.] - ETA: 0s - loss: 1.5455\n",
            "생성된 텍스트:\n",
            "recipe for lebkuchen spice bars blend | using a fork , grate in a food processor ; pulse until fragrant . dip out dough hook and let dough rise chill in an ice cream maker , then with an ice cream ice cream . break off yolks and serve with ice water . \n",
            "\n",
            "629/629 [==============================] - 29s 47ms/step - loss: 1.5456\n",
            "Epoch 25/25\n",
            "629/629 [==============================] - ETA: 0s - loss: 1.5359\n",
            "생성된 텍스트:\n",
            "recipe for lemon ribbon sandwich | stir the almonds in a 4 - quart saucepan and cook over medium - low heat , stirring occasionally , until the sauce boils . remove from heat and stir vigorously frequently with another hot water ( do not simply store refrigerated ) , covered . cover and chill 30 minutes . 3 . remove the leaves from the refrigerator for a week ; let stand 1 hour . you may want to place in the bowl of a smooth emulsion spoon into each glass . drizzle with 3 tablespoons ice water and process\n",
            "\n",
            "629/629 [==============================] - 33s 52ms/step - loss: 1.5359\n"
          ]
        },
        {
          "output_type": "execute_result",
          "data": {
            "text/plain": [
              "<keras.src.callbacks.History at 0x7922df51b4c0>"
            ]
          },
          "metadata": {},
          "execution_count": 28
        }
      ],
      "source": [
        "lstm.fit(\n",
        "    train_ds,\n",
        "    epochs=EPOCHS,\n",
        "    callbacks=[model_checkpoint_callback, tensorboard_callback, text_generator],\n",
        ")"
      ]
    },
    {
      "cell_type": "code",
      "execution_count": 29,
      "id": "369bde44-2e39-4bc6-8549-a3a27ecce55c",
      "metadata": {
        "tags": [],
        "id": "369bde44-2e39-4bc6-8549-a3a27ecce55c"
      },
      "outputs": [],
      "source": [
        "# 최종 모델 저장\n",
        "lstm.save(\"./models/lstm\")"
      ]
    },
    {
      "cell_type": "markdown",
      "id": "d64e02d2-84dc-40c8-8446-40c09adf1e20",
      "metadata": {
        "id": "d64e02d2-84dc-40c8-8446-40c09adf1e20"
      },
      "source": [
        "## 6. LSTM을 사용해 텍스트 생성하기"
      ]
    },
    {
      "cell_type": "code",
      "execution_count": 30,
      "id": "4ad23adb-3ec9-4e9a-9a59-b9f9bafca649",
      "metadata": {
        "id": "4ad23adb-3ec9-4e9a-9a59-b9f9bafca649"
      },
      "outputs": [],
      "source": [
        "def print_probs(info, vocab, top_k=5):\n",
        "    for i in info:\n",
        "        print(f\"\\n프롬프트: {i['prompt']}\")\n",
        "        word_probs = i[\"word_probs\"]\n",
        "        p_sorted = np.sort(word_probs)[::-1][:top_k]\n",
        "        i_sorted = np.argsort(word_probs)[::-1][:top_k]\n",
        "        for p, i in zip(p_sorted, i_sorted):\n",
        "            print(f\"{vocab[i]}:   \\t{np.round(100*p,2)}%\")\n",
        "        print(\"--------\\n\")"
      ]
    },
    {
      "cell_type": "code",
      "execution_count": 31,
      "id": "3cf25578-d47c-4b26-8252-fcdf2316a4ac",
      "metadata": {
        "id": "3cf25578-d47c-4b26-8252-fcdf2316a4ac",
        "outputId": "a0bff77e-69fd-481e-ad67-365a1c3cbc48",
        "colab": {
          "base_uri": "https://localhost:8080/"
        }
      },
      "outputs": [
        {
          "output_type": "stream",
          "name": "stdout",
          "text": [
            "\n",
            "생성된 텍스트:\n",
            "recipe for roasted vegetables | chop 1 / 3 of\n",
            "\n"
          ]
        }
      ],
      "source": [
        "info = text_generator.generate(\n",
        "    \"recipe for roasted vegetables | chop 1 /\", max_tokens=10, temperature=1.0\n",
        ")"
      ]
    },
    {
      "cell_type": "code",
      "execution_count": 32,
      "id": "9df72866-b483-4489-8e26-d5e1466410fa",
      "metadata": {
        "tags": [],
        "id": "9df72866-b483-4489-8e26-d5e1466410fa",
        "outputId": "88bfc6d8-f838-4cdd-b68d-22f0574b06a8",
        "colab": {
          "base_uri": "https://localhost:8080/"
        }
      },
      "outputs": [
        {
          "output_type": "stream",
          "name": "stdout",
          "text": [
            "\n",
            "프롬프트: recipe for roasted vegetables | chop 1 /\n",
            "4:   \t49.99%\n",
            "2:   \t33.33%\n",
            "3:   \t10.37%\n",
            "8:   \t5.13%\n",
            "6:   \t0.18%\n",
            "--------\n",
            "\n",
            "\n",
            "프롬프트: recipe for roasted vegetables | chop 1 / 3\n",
            "cup:   \t63.37%\n",
            "of:   \t16.55%\n",
            "-:   \t3.26%\n",
            "inch:   \t2.62%\n",
            "teaspoon:   \t1.79%\n",
            "--------\n",
            "\n"
          ]
        }
      ],
      "source": [
        "print_probs(info, vocab)"
      ]
    },
    {
      "cell_type": "code",
      "execution_count": 33,
      "id": "562e1fe8-cbcb-438f-9637-2f2a6279c924",
      "metadata": {
        "id": "562e1fe8-cbcb-438f-9637-2f2a6279c924",
        "outputId": "6538dfbc-8692-4c4d-d110-51e75ff87175",
        "colab": {
          "base_uri": "https://localhost:8080/"
        }
      },
      "outputs": [
        {
          "output_type": "stream",
          "name": "stdout",
          "text": [
            "\n",
            "생성된 텍스트:\n",
            "recipe for roasted vegetables | chop 1 / 4 cup\n",
            "\n"
          ]
        }
      ],
      "source": [
        "info = text_generator.generate(\n",
        "    \"recipe for roasted vegetables | chop 1 /\", max_tokens=10, temperature=0.2\n",
        ")"
      ]
    },
    {
      "cell_type": "code",
      "execution_count": 34,
      "id": "56356f21-04ac-40e5-94ff-291eca6a7054",
      "metadata": {
        "id": "56356f21-04ac-40e5-94ff-291eca6a7054",
        "outputId": "e3d179c3-69a2-4206-bf85-f02a80509c55",
        "colab": {
          "base_uri": "https://localhost:8080/"
        }
      },
      "outputs": [
        {
          "output_type": "stream",
          "name": "stdout",
          "text": [
            "\n",
            "프롬프트: recipe for roasted vegetables | chop 1 /\n",
            "4:   \t88.33%\n",
            "2:   \t11.64%\n",
            "3:   \t0.03%\n",
            "8:   \t0.0%\n",
            "6:   \t0.0%\n",
            "--------\n",
            "\n",
            "\n",
            "프롬프트: recipe for roasted vegetables | chop 1 / 4\n",
            "cup:   \t99.98%\n",
            "inch:   \t0.01%\n",
            "teaspoon:   \t0.01%\n",
            "of:   \t0.0%\n",
            "-:   \t0.0%\n",
            "--------\n",
            "\n"
          ]
        }
      ],
      "source": [
        "print_probs(info, vocab)"
      ]
    },
    {
      "cell_type": "code",
      "execution_count": 35,
      "id": "2e434497-07f3-4989-a68d-3e31cf8fa4fe",
      "metadata": {
        "id": "2e434497-07f3-4989-a68d-3e31cf8fa4fe",
        "outputId": "8bf7d28d-931d-43f3-b5ba-d3cd7b0522a1",
        "colab": {
          "base_uri": "https://localhost:8080/"
        }
      },
      "outputs": [
        {
          "output_type": "stream",
          "name": "stdout",
          "text": [
            "\n",
            "생성된 텍스트:\n",
            "recipe for chocolate ice cream | arrange\n",
            "\n",
            "\n",
            "프롬프트: recipe for chocolate ice cream |\n",
            "bring:   \t21.03%\n",
            "in:   \t13.42%\n",
            "combine:   \t10.56%\n",
            "whisk:   \t7.58%\n",
            "stir:   \t4.96%\n",
            "--------\n",
            "\n"
          ]
        }
      ],
      "source": [
        "info = text_generator.generate(\n",
        "    \"recipe for chocolate ice cream |\", max_tokens=7, temperature=1.0\n",
        ")\n",
        "print_probs(info, vocab)"
      ]
    },
    {
      "cell_type": "code",
      "execution_count": 36,
      "id": "011cd0e0-956c-4a63-8ec3-f7dfed31764e",
      "metadata": {
        "id": "011cd0e0-956c-4a63-8ec3-f7dfed31764e",
        "outputId": "70df0595-39c4-4107-c202-da5e41aaa90c",
        "colab": {
          "base_uri": "https://localhost:8080/"
        }
      },
      "outputs": [
        {
          "output_type": "stream",
          "name": "stdout",
          "text": [
            "\n",
            "생성된 텍스트:\n",
            "recipe for chocolate ice cream | bring\n",
            "\n",
            "\n",
            "프롬프트: recipe for chocolate ice cream |\n",
            "bring:   \t87.32%\n",
            "in:   \t9.23%\n",
            "combine:   \t2.79%\n",
            "whisk:   \t0.53%\n",
            "stir:   \t0.06%\n",
            "--------\n",
            "\n"
          ]
        }
      ],
      "source": [
        "info = text_generator.generate(\n",
        "    \"recipe for chocolate ice cream |\", max_tokens=7, temperature=0.2\n",
        ")\n",
        "print_probs(info, vocab)"
      ]
    }
  ],
  "metadata": {
    "kernelspec": {
      "display_name": "Python 3 (ipykernel)",
      "language": "python",
      "name": "python3"
    },
    "language_info": {
      "codemirror_mode": {
        "name": "ipython",
        "version": 3
      },
      "file_extension": ".py",
      "mimetype": "text/x-python",
      "name": "python",
      "nbconvert_exporter": "python",
      "pygments_lexer": "ipython3",
      "version": "3.8.2"
    },
    "colab": {
      "provenance": [],
      "gpuType": "T4"
    },
    "accelerator": "GPU",
    "gpuClass": "standard"
  },
  "nbformat": 4,
  "nbformat_minor": 5
}