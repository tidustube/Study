{
  "cells": [
    {
      "cell_type": "markdown",
      "id": "b076bd1a-b236-4fbc-953d-8295b25122ae",
      "metadata": {
        "id": "b076bd1a-b236-4fbc-953d-8295b25122ae"
      },
      "source": [
        "# 🚀 GPT"
      ]
    },
    {
      "cell_type": "markdown",
      "id": "9d5855b9",
      "metadata": {
        "id": "9d5855b9"
      },
      "source": [
        "<table align=\"left\">\n",
        "  <td>\n",
        "    <a href=\"https://colab.research.google.com/github/rickiepark/Generative_Deep_Learning_2nd_Edition/blob/main/notebooks/09_transformer/gpt/gpt.ipynb\" target=\"_parent\"><img src=\"https://colab.research.google.com/assets/colab-badge.svg\" alt=\"Open In Colab\"/></a>\n",
        "  </td>\n",
        "</table>"
      ]
    },
    {
      "cell_type": "markdown",
      "id": "4dca6836-0007-43f3-af65-d12ae1922c02",
      "metadata": {
        "tags": [],
        "id": "4dca6836-0007-43f3-af65-d12ae1922c02"
      },
      "source": [
        "이 노트북에서는 와인 리뷰 데이터셋으로 GPT 모델을 훈련합니다."
      ]
    },
    {
      "cell_type": "markdown",
      "id": "3e6cb7c7-d3d5-4b12-b357-1f6118edffe0",
      "metadata": {
        "id": "3e6cb7c7-d3d5-4b12-b357-1f6118edffe0"
      },
      "source": [
        "이 코드는 케라스 웹사이트에 있는 Apoorv Nandan이 만든 훌륭한 [GPT 튜토리얼](https://keras.io/examples/generative/text_generation_with_miniature_gpt/)을 참고했습니다."
      ]
    },
    {
      "cell_type": "code",
      "execution_count": 1,
      "id": "73350761-bef2-4e96-b3ac-a158eabd2b65",
      "metadata": {
        "tags": [],
        "id": "73350761-bef2-4e96-b3ac-a158eabd2b65"
      },
      "outputs": [],
      "source": [
        "import numpy as np\n",
        "import json\n",
        "import re\n",
        "import string\n",
        "from IPython.display import display, HTML\n",
        "\n",
        "import tensorflow as tf\n",
        "from tensorflow.keras import layers, models, losses, callbacks"
      ]
    },
    {
      "cell_type": "markdown",
      "id": "339e6268-ebd7-4feb-86db-1fe7abccdbe5",
      "metadata": {
        "id": "339e6268-ebd7-4feb-86db-1fe7abccdbe5"
      },
      "source": [
        "## 0. 파라미터 <a name=\"parameters\"></a>"
      ]
    },
    {
      "cell_type": "code",
      "execution_count": 2,
      "id": "2d8352af-343e-4c2e-8c91-95f8bac1c8a1",
      "metadata": {
        "id": "2d8352af-343e-4c2e-8c91-95f8bac1c8a1"
      },
      "outputs": [],
      "source": [
        "VOCAB_SIZE = 10000\n",
        "MAX_LEN = 80\n",
        "EMBEDDING_DIM = 256\n",
        "KEY_DIM = 256\n",
        "N_HEADS = 2\n",
        "FEED_FORWARD_DIM = 256\n",
        "VALIDATION_SPLIT = 0.2\n",
        "SEED = 42\n",
        "LOAD_MODEL = False\n",
        "BATCH_SIZE = 32\n",
        "EPOCHS = 5"
      ]
    },
    {
      "cell_type": "markdown",
      "id": "b7716fac-0010-49b0-b98e-53be2259edde",
      "metadata": {
        "id": "b7716fac-0010-49b0-b98e-53be2259edde"
      },
      "source": [
        "## 1. 데이터 로드 <a name=\"load\"></a>"
      ]
    },
    {
      "cell_type": "code",
      "execution_count": 3,
      "id": "cc66748b",
      "metadata": {
        "id": "cc66748b",
        "outputId": "e6f50aec-526a-4ed4-be1f-a74823b6df1b",
        "colab": {
          "base_uri": "https://localhost:8080/",
          "height": 128
        }
      },
      "outputs": [
        {
          "output_type": "display_data",
          "data": {
            "text/plain": [
              "<IPython.core.display.HTML object>"
            ],
            "text/html": [
              "\n",
              "     <input type=\"file\" id=\"files-14482350-939a-400e-8596-83aef65ee56d\" name=\"files[]\" multiple disabled\n",
              "        style=\"border:none\" />\n",
              "     <output id=\"result-14482350-939a-400e-8596-83aef65ee56d\">\n",
              "      Upload widget is only available when the cell has been executed in the\n",
              "      current browser session. Please rerun this cell to enable.\n",
              "      </output>\n",
              "      <script>// Copyright 2017 Google LLC\n",
              "//\n",
              "// Licensed under the Apache License, Version 2.0 (the \"License\");\n",
              "// you may not use this file except in compliance with the License.\n",
              "// You may obtain a copy of the License at\n",
              "//\n",
              "//      http://www.apache.org/licenses/LICENSE-2.0\n",
              "//\n",
              "// Unless required by applicable law or agreed to in writing, software\n",
              "// distributed under the License is distributed on an \"AS IS\" BASIS,\n",
              "// WITHOUT WARRANTIES OR CONDITIONS OF ANY KIND, either express or implied.\n",
              "// See the License for the specific language governing permissions and\n",
              "// limitations under the License.\n",
              "\n",
              "/**\n",
              " * @fileoverview Helpers for google.colab Python module.\n",
              " */\n",
              "(function(scope) {\n",
              "function span(text, styleAttributes = {}) {\n",
              "  const element = document.createElement('span');\n",
              "  element.textContent = text;\n",
              "  for (const key of Object.keys(styleAttributes)) {\n",
              "    element.style[key] = styleAttributes[key];\n",
              "  }\n",
              "  return element;\n",
              "}\n",
              "\n",
              "// Max number of bytes which will be uploaded at a time.\n",
              "const MAX_PAYLOAD_SIZE = 100 * 1024;\n",
              "\n",
              "function _uploadFiles(inputId, outputId) {\n",
              "  const steps = uploadFilesStep(inputId, outputId);\n",
              "  const outputElement = document.getElementById(outputId);\n",
              "  // Cache steps on the outputElement to make it available for the next call\n",
              "  // to uploadFilesContinue from Python.\n",
              "  outputElement.steps = steps;\n",
              "\n",
              "  return _uploadFilesContinue(outputId);\n",
              "}\n",
              "\n",
              "// This is roughly an async generator (not supported in the browser yet),\n",
              "// where there are multiple asynchronous steps and the Python side is going\n",
              "// to poll for completion of each step.\n",
              "// This uses a Promise to block the python side on completion of each step,\n",
              "// then passes the result of the previous step as the input to the next step.\n",
              "function _uploadFilesContinue(outputId) {\n",
              "  const outputElement = document.getElementById(outputId);\n",
              "  const steps = outputElement.steps;\n",
              "\n",
              "  const next = steps.next(outputElement.lastPromiseValue);\n",
              "  return Promise.resolve(next.value.promise).then((value) => {\n",
              "    // Cache the last promise value to make it available to the next\n",
              "    // step of the generator.\n",
              "    outputElement.lastPromiseValue = value;\n",
              "    return next.value.response;\n",
              "  });\n",
              "}\n",
              "\n",
              "/**\n",
              " * Generator function which is called between each async step of the upload\n",
              " * process.\n",
              " * @param {string} inputId Element ID of the input file picker element.\n",
              " * @param {string} outputId Element ID of the output display.\n",
              " * @return {!Iterable<!Object>} Iterable of next steps.\n",
              " */\n",
              "function* uploadFilesStep(inputId, outputId) {\n",
              "  const inputElement = document.getElementById(inputId);\n",
              "  inputElement.disabled = false;\n",
              "\n",
              "  const outputElement = document.getElementById(outputId);\n",
              "  outputElement.innerHTML = '';\n",
              "\n",
              "  const pickedPromise = new Promise((resolve) => {\n",
              "    inputElement.addEventListener('change', (e) => {\n",
              "      resolve(e.target.files);\n",
              "    });\n",
              "  });\n",
              "\n",
              "  const cancel = document.createElement('button');\n",
              "  inputElement.parentElement.appendChild(cancel);\n",
              "  cancel.textContent = 'Cancel upload';\n",
              "  const cancelPromise = new Promise((resolve) => {\n",
              "    cancel.onclick = () => {\n",
              "      resolve(null);\n",
              "    };\n",
              "  });\n",
              "\n",
              "  // Wait for the user to pick the files.\n",
              "  const files = yield {\n",
              "    promise: Promise.race([pickedPromise, cancelPromise]),\n",
              "    response: {\n",
              "      action: 'starting',\n",
              "    }\n",
              "  };\n",
              "\n",
              "  cancel.remove();\n",
              "\n",
              "  // Disable the input element since further picks are not allowed.\n",
              "  inputElement.disabled = true;\n",
              "\n",
              "  if (!files) {\n",
              "    return {\n",
              "      response: {\n",
              "        action: 'complete',\n",
              "      }\n",
              "    };\n",
              "  }\n",
              "\n",
              "  for (const file of files) {\n",
              "    const li = document.createElement('li');\n",
              "    li.append(span(file.name, {fontWeight: 'bold'}));\n",
              "    li.append(span(\n",
              "        `(${file.type || 'n/a'}) - ${file.size} bytes, ` +\n",
              "        `last modified: ${\n",
              "            file.lastModifiedDate ? file.lastModifiedDate.toLocaleDateString() :\n",
              "                                    'n/a'} - `));\n",
              "    const percent = span('0% done');\n",
              "    li.appendChild(percent);\n",
              "\n",
              "    outputElement.appendChild(li);\n",
              "\n",
              "    const fileDataPromise = new Promise((resolve) => {\n",
              "      const reader = new FileReader();\n",
              "      reader.onload = (e) => {\n",
              "        resolve(e.target.result);\n",
              "      };\n",
              "      reader.readAsArrayBuffer(file);\n",
              "    });\n",
              "    // Wait for the data to be ready.\n",
              "    let fileData = yield {\n",
              "      promise: fileDataPromise,\n",
              "      response: {\n",
              "        action: 'continue',\n",
              "      }\n",
              "    };\n",
              "\n",
              "    // Use a chunked sending to avoid message size limits. See b/62115660.\n",
              "    let position = 0;\n",
              "    do {\n",
              "      const length = Math.min(fileData.byteLength - position, MAX_PAYLOAD_SIZE);\n",
              "      const chunk = new Uint8Array(fileData, position, length);\n",
              "      position += length;\n",
              "\n",
              "      const base64 = btoa(String.fromCharCode.apply(null, chunk));\n",
              "      yield {\n",
              "        response: {\n",
              "          action: 'append',\n",
              "          file: file.name,\n",
              "          data: base64,\n",
              "        },\n",
              "      };\n",
              "\n",
              "      let percentDone = fileData.byteLength === 0 ?\n",
              "          100 :\n",
              "          Math.round((position / fileData.byteLength) * 100);\n",
              "      percent.textContent = `${percentDone}% done`;\n",
              "\n",
              "    } while (position < fileData.byteLength);\n",
              "  }\n",
              "\n",
              "  // All done.\n",
              "  yield {\n",
              "    response: {\n",
              "      action: 'complete',\n",
              "    }\n",
              "  };\n",
              "}\n",
              "\n",
              "scope.google = scope.google || {};\n",
              "scope.google.colab = scope.google.colab || {};\n",
              "scope.google.colab._files = {\n",
              "  _uploadFiles,\n",
              "  _uploadFilesContinue,\n",
              "};\n",
              "})(self);\n",
              "</script> "
            ]
          },
          "metadata": {}
        },
        {
          "output_type": "stream",
          "name": "stdout",
          "text": [
            "Saving kaggle.json to kaggle.json\n",
            "Downloading wine-reviews.zip to /content\n",
            "100% 50.9M/50.9M [00:02<00:00, 32.1MB/s]\n",
            "100% 50.9M/50.9M [00:02<00:00, 20.9MB/s]\n"
          ]
        }
      ],
      "source": [
        "import sys\n",
        "\n",
        "# 코랩일 경우 노트북에서 celeba 데이터셋을 받습니다.\n",
        "if 'google.colab' in sys.modules:\n",
        "    # 캐글-->Setttings-->API-->Create New Token에서\n",
        "    # kaggle.json 파일을 만들어 코랩에 업로드하세요.\n",
        "    from google.colab import files\n",
        "    files.upload()\n",
        "    !mkdir ~/.kaggle\n",
        "    !cp kaggle.json ~/.kaggle/\n",
        "    !chmod 600 ~/.kaggle/kaggle.json\n",
        "    # celeba 데이터셋을 다운로드하고 압축을 해제합니다.\n",
        "    !kaggle datasets download -d zynicide/wine-reviews\n",
        "    !unzip -q wine-reviews.zip\n",
        "    # model 디렉토리를 만듭니다.\n",
        "    !mkdir models"
      ]
    },
    {
      "cell_type": "code",
      "execution_count": 4,
      "id": "93cf6b0f-9667-4146-8911-763a8a2925d3",
      "metadata": {
        "tags": [],
        "id": "93cf6b0f-9667-4146-8911-763a8a2925d3"
      },
      "outputs": [],
      "source": [
        "# 전체 데이터셋 로드\n",
        "with open(\"./winemag-data-130k-v2.json\") as json_data:\n",
        "    wine_data = json.load(json_data)"
      ]
    },
    {
      "cell_type": "code",
      "execution_count": 5,
      "id": "2db5c0fc-0d5f-42ab-ade1-57e594c416ec",
      "metadata": {
        "tags": [],
        "id": "2db5c0fc-0d5f-42ab-ade1-57e594c416ec",
        "outputId": "99134370-ff56-430f-9538-26f986c56aa2",
        "colab": {
          "base_uri": "https://localhost:8080/"
        }
      },
      "outputs": [
        {
          "output_type": "execute_result",
          "data": {
            "text/plain": [
              "{'points': '87',\n",
              " 'title': 'Kirkland Signature 2011 Mountain Cuvée Cabernet Sauvignon (Napa Valley)',\n",
              " 'description': 'Soft, supple plum envelopes an oaky structure in this Cabernet, supported by 15% Merlot. Coffee and chocolate complete the picture, finishing strong at the end, resulting in a value-priced wine of attractive flavor and immediate accessibility.',\n",
              " 'taster_name': 'Virginie Boone',\n",
              " 'taster_twitter_handle': '@vboone',\n",
              " 'price': 19,\n",
              " 'designation': 'Mountain Cuvée',\n",
              " 'variety': 'Cabernet Sauvignon',\n",
              " 'region_1': 'Napa Valley',\n",
              " 'region_2': 'Napa',\n",
              " 'province': 'California',\n",
              " 'country': 'US',\n",
              " 'winery': 'Kirkland Signature'}"
            ]
          },
          "metadata": {},
          "execution_count": 5
        }
      ],
      "source": [
        "wine_data[10]"
      ]
    },
    {
      "cell_type": "code",
      "execution_count": 6,
      "id": "23a74eca-f1b7-4a46-9a1f-b5806a4ed361",
      "metadata": {
        "tags": [],
        "id": "23a74eca-f1b7-4a46-9a1f-b5806a4ed361"
      },
      "outputs": [],
      "source": [
        "# 데이터셋 필터링\n",
        "filtered_data = [\n",
        "    \"wine review : \"\n",
        "    + x[\"country\"]\n",
        "    + \" : \"\n",
        "    + x[\"province\"]\n",
        "    + \" : \"\n",
        "    + x[\"variety\"]\n",
        "    + \" : \"\n",
        "    + x[\"description\"]\n",
        "    for x in wine_data\n",
        "    if x[\"country\"] is not None\n",
        "    and x[\"province\"] is not None\n",
        "    and x[\"variety\"] is not None\n",
        "    and x[\"description\"] is not None\n",
        "]"
      ]
    },
    {
      "cell_type": "code",
      "execution_count": 7,
      "id": "389c20de-0422-4c48-a7b4-6ee12a7bf0e2",
      "metadata": {
        "tags": [],
        "id": "389c20de-0422-4c48-a7b4-6ee12a7bf0e2",
        "outputId": "5461536c-1b5f-4b6a-e650-4da86c889c65",
        "colab": {
          "base_uri": "https://localhost:8080/"
        }
      },
      "outputs": [
        {
          "output_type": "stream",
          "name": "stdout",
          "text": [
            "129907개 레시피 로드\n"
          ]
        }
      ],
      "source": [
        "# 레시피 개수 카운트\n",
        "n_wines = len(filtered_data)\n",
        "print(f\"{n_wines}개 레시피 로드\")"
      ]
    },
    {
      "cell_type": "code",
      "execution_count": 8,
      "id": "1b2e3cf7-e416-460e-874a-0dd9637bca36",
      "metadata": {
        "id": "1b2e3cf7-e416-460e-874a-0dd9637bca36",
        "outputId": "4e710ebb-5113-4548-ace8-42ee93487aa6",
        "colab": {
          "base_uri": "https://localhost:8080/"
        }
      },
      "outputs": [
        {
          "output_type": "stream",
          "name": "stdout",
          "text": [
            "wine review : US : California : Pinot Noir : Oak and earth intermingle around robust aromas of wet forest floor in this vineyard-designated Pinot that hails from a high-elevation site. Small in production, it offers intense, full-bodied raspberry and blackberry steeped in smoky spice and smooth texture.\n"
          ]
        }
      ],
      "source": [
        "example = filtered_data[25]\n",
        "print(example)"
      ]
    },
    {
      "cell_type": "markdown",
      "id": "3f871aaf-d873-41c7-8946-e4eef7ac17c1",
      "metadata": {
        "id": "3f871aaf-d873-41c7-8946-e4eef7ac17c1"
      },
      "source": [
        "## 2. 데이터 토큰화 <a name=\"tokenize\"></a>"
      ]
    },
    {
      "cell_type": "code",
      "execution_count": 9,
      "id": "5b2064fb-5dcc-4657-b470-0928d10e2ddc",
      "metadata": {
        "tags": [],
        "id": "5b2064fb-5dcc-4657-b470-0928d10e2ddc"
      },
      "outputs": [],
      "source": [
        "# 구두점 앞에 공백을 채워서 별도의 '단어'로 취급합니다.\n",
        "def pad_punctuation(s):\n",
        "    s = re.sub(f\"([{string.punctuation}, '\\n'])\", r\" \\1 \", s)\n",
        "    s = re.sub(\" +\", \" \", s)\n",
        "    return s\n",
        "\n",
        "\n",
        "text_data = [pad_punctuation(x) for x in filtered_data]"
      ]
    },
    {
      "cell_type": "code",
      "execution_count": 10,
      "id": "b87d7c65-9a46-492a-a5c0-a043b0d252f3",
      "metadata": {
        "id": "b87d7c65-9a46-492a-a5c0-a043b0d252f3",
        "outputId": "3b088349-6451-424a-8e30-12f63b4b717e",
        "colab": {
          "base_uri": "https://localhost:8080/",
          "height": 72
        }
      },
      "outputs": [
        {
          "output_type": "execute_result",
          "data": {
            "text/plain": [
              "'wine review : US : California : Pinot Noir : Oak and earth intermingle around robust aromas of wet forest floor in this vineyard - designated Pinot that hails from a high - elevation site . Small in production , it offers intense , full - bodied raspberry and blackberry steeped in smoky spice and smooth texture . '"
            ],
            "application/vnd.google.colaboratory.intrinsic+json": {
              "type": "string"
            }
          },
          "metadata": {},
          "execution_count": 10
        }
      ],
      "source": [
        "# 레시피 예시 표시\n",
        "example_data = text_data[25]\n",
        "example_data"
      ]
    },
    {
      "cell_type": "code",
      "execution_count": 11,
      "id": "9834f916-b21a-4104-acc9-f28d3bd7a8c1",
      "metadata": {
        "tags": [],
        "id": "9834f916-b21a-4104-acc9-f28d3bd7a8c1"
      },
      "outputs": [],
      "source": [
        "# 텐서플로 데이터셋으로 변환하기\n",
        "text_ds = (\n",
        "    tf.data.Dataset.from_tensor_slices(text_data)\n",
        "    .batch(BATCH_SIZE)\n",
        "    .shuffle(1000)\n",
        ")"
      ]
    },
    {
      "cell_type": "code",
      "execution_count": 12,
      "id": "884c0bcb-0807-45a1-8f7e-a32f2c6fa4de",
      "metadata": {
        "id": "884c0bcb-0807-45a1-8f7e-a32f2c6fa4de"
      },
      "outputs": [],
      "source": [
        "# TextVectorization 층 만들기\n",
        "vectorize_layer = layers.TextVectorization(\n",
        "    standardize=\"lower\",\n",
        "    max_tokens=VOCAB_SIZE,\n",
        "    output_mode=\"int\",\n",
        "    output_sequence_length=MAX_LEN + 1,\n",
        ")"
      ]
    },
    {
      "cell_type": "code",
      "execution_count": 13,
      "id": "4d6dd34a-d905-497b-926a-405380ebcf98",
      "metadata": {
        "id": "4d6dd34a-d905-497b-926a-405380ebcf98"
      },
      "outputs": [],
      "source": [
        "# 훈련 세트에 이 층을 적용합니다.\n",
        "vectorize_layer.adapt(text_ds)\n",
        "vocab = vectorize_layer.get_vocabulary()"
      ]
    },
    {
      "cell_type": "code",
      "execution_count": 14,
      "id": "f6c1c7ce-3cf0-40d4-a3dc-ab7090f69f2f",
      "metadata": {
        "id": "f6c1c7ce-3cf0-40d4-a3dc-ab7090f69f2f",
        "outputId": "8b6fa100-614d-4d66-bedc-47c9bd023cd7",
        "colab": {
          "base_uri": "https://localhost:8080/"
        }
      },
      "outputs": [
        {
          "output_type": "stream",
          "name": "stdout",
          "text": [
            "0: \n",
            "1: [UNK]\n",
            "2: :\n",
            "3: ,\n",
            "4: .\n",
            "5: and\n",
            "6: the\n",
            "7: wine\n",
            "8: a\n",
            "9: of\n"
          ]
        }
      ],
      "source": [
        "# 토큰:단어 매핑 표시\n",
        "for i, word in enumerate(vocab[:10]):\n",
        "    print(f\"{i}: {word}\")"
      ]
    },
    {
      "cell_type": "code",
      "execution_count": 15,
      "id": "1cc30186-7ec6-4eb6-b29a-65df6714d321",
      "metadata": {
        "id": "1cc30186-7ec6-4eb6-b29a-65df6714d321",
        "outputId": "924c340e-0935-4acb-cc09-c88d35107f81",
        "colab": {
          "base_uri": "https://localhost:8080/"
        }
      },
      "outputs": [
        {
          "output_type": "stream",
          "name": "stdout",
          "text": [
            "[   7   10    2   20    2   29    2   43   62    2   55    5  243 4145\n",
            "  453  634   26    9  497  499  667   17   12  142   14 2214   43   25\n",
            " 2484   32    8  223   14 2213  948    4  594   17  987    3   15   75\n",
            "  237    3   64   14   82   97    5   74 2633   17  198   49    5  125\n",
            "   77    4    0    0    0    0    0    0    0    0    0    0    0    0\n",
            "    0    0    0    0    0    0    0    0    0    0    0]\n"
          ]
        }
      ],
      "source": [
        "# 동일한 샘플을 정수로 변환하여 표시\n",
        "example_tokenised = vectorize_layer(example_data)\n",
        "print(example_tokenised.numpy())"
      ]
    },
    {
      "cell_type": "markdown",
      "id": "8c195efb-84c6-4be0-a989-a7542188ad35",
      "metadata": {
        "id": "8c195efb-84c6-4be0-a989-a7542188ad35"
      },
      "source": [
        "## 3. 훈련 세트 생성 <a name=\"create\"></a>"
      ]
    },
    {
      "cell_type": "code",
      "execution_count": 16,
      "id": "740294a1-1a6b-4c89-92f2-036d7d1b788b",
      "metadata": {
        "id": "740294a1-1a6b-4c89-92f2-036d7d1b788b"
      },
      "outputs": [],
      "source": [
        "# 레시피 텍스트와 한 단어만큼 이동된 동일한 텍스트로 훈련 세트를 만듭니다.\n",
        "def prepare_inputs(text):\n",
        "    text = tf.expand_dims(text, -1)\n",
        "    tokenized_sentences = vectorize_layer(text)\n",
        "    x = tokenized_sentences[:, :-1]\n",
        "    y = tokenized_sentences[:, 1:]\n",
        "    return x, y\n",
        "\n",
        "\n",
        "train_ds = text_ds.map(prepare_inputs)"
      ]
    },
    {
      "cell_type": "code",
      "execution_count": 17,
      "id": "cad80ffb-4298-4249-86b4-9918d62534c5",
      "metadata": {
        "id": "cad80ffb-4298-4249-86b4-9918d62534c5"
      },
      "outputs": [],
      "source": [
        "example_input_output = train_ds.take(1).get_single_element()"
      ]
    },
    {
      "cell_type": "code",
      "execution_count": 18,
      "id": "67ff7263-f62d-44c1-997b-1aa99a393521",
      "metadata": {
        "id": "67ff7263-f62d-44c1-997b-1aa99a393521",
        "outputId": "c016de06-9135-4705-d346-852624c499f8",
        "colab": {
          "base_uri": "https://localhost:8080/"
        }
      },
      "outputs": [
        {
          "output_type": "execute_result",
          "data": {
            "text/plain": [
              "<tf.Tensor: shape=(80,), dtype=int64, numpy=\n",
              "array([   7,   10,    2,   20,    2,  103,    2,   45,   44,    2,   12,\n",
              "          7,   18,   21,   26,  601, 1759,    3,  130,    3, 4796,    3,\n",
              "         36,    5,  300,    4,   54,   36,    5,  212,   16,   39,   76,\n",
              "         17,   63,    5,  415,  568,   23,    6,   31,    4,    0,    0,\n",
              "          0,    0,    0,    0,    0,    0,    0,    0,    0,    0,    0,\n",
              "          0,    0,    0,    0,    0,    0,    0,    0,    0,    0,    0,\n",
              "          0,    0,    0,    0,    0,    0,    0,    0,    0,    0,    0,\n",
              "          0,    0,    0])>"
            ]
          },
          "metadata": {},
          "execution_count": 18
        }
      ],
      "source": [
        "# 입력 예시\n",
        "example_input_output[0][0]"
      ]
    },
    {
      "cell_type": "code",
      "execution_count": 19,
      "id": "ef2e2cad-414c-4e6d-a2ac-6b9598f9dd01",
      "metadata": {
        "id": "ef2e2cad-414c-4e6d-a2ac-6b9598f9dd01",
        "outputId": "2c74395d-2d2b-4217-fbb0-7bf02ab35d58",
        "colab": {
          "base_uri": "https://localhost:8080/"
        }
      },
      "outputs": [
        {
          "output_type": "execute_result",
          "data": {
            "text/plain": [
              "<tf.Tensor: shape=(80,), dtype=int64, numpy=\n",
              "array([  10,    2,   20,    2,  103,    2,   45,   44,    2,   12,    7,\n",
              "         18,   21,   26,  601, 1759,    3,  130,    3, 4796,    3,   36,\n",
              "          5,  300,    4,   54,   36,    5,  212,   16,   39,   76,   17,\n",
              "         63,    5,  415,  568,   23,    6,   31,    4,    0,    0,    0,\n",
              "          0,    0,    0,    0,    0,    0,    0,    0,    0,    0,    0,\n",
              "          0,    0,    0,    0,    0,    0,    0,    0,    0,    0,    0,\n",
              "          0,    0,    0,    0,    0,    0,    0,    0,    0,    0,    0,\n",
              "          0,    0,    0])>"
            ]
          },
          "metadata": {},
          "execution_count": 19
        }
      ],
      "source": [
        "# 출력 예시(토큰 하나씩 이동)\n",
        "example_input_output[1][0]"
      ]
    },
    {
      "cell_type": "markdown",
      "id": "aff50401-3abe-4c10-bba8-b35bc13ad7d5",
      "metadata": {
        "tags": [],
        "id": "aff50401-3abe-4c10-bba8-b35bc13ad7d5"
      },
      "source": [
        "## 5. 코잘 어텐션 마스킹 함수 만들기 <a name=\"causal\"></a>"
      ]
    },
    {
      "cell_type": "code",
      "execution_count": 20,
      "id": "554a4184-61c2-4eb7-a063-d965586a8188",
      "metadata": {
        "id": "554a4184-61c2-4eb7-a063-d965586a8188",
        "outputId": "91c8b2a4-74e0-4039-816d-a64449812ea5",
        "colab": {
          "base_uri": "https://localhost:8080/"
        }
      },
      "outputs": [
        {
          "output_type": "execute_result",
          "data": {
            "text/plain": [
              "array([[1, 1, 1, 1, 1, 1, 1, 1, 1, 1],\n",
              "       [0, 1, 1, 1, 1, 1, 1, 1, 1, 1],\n",
              "       [0, 0, 1, 1, 1, 1, 1, 1, 1, 1],\n",
              "       [0, 0, 0, 1, 1, 1, 1, 1, 1, 1],\n",
              "       [0, 0, 0, 0, 1, 1, 1, 1, 1, 1],\n",
              "       [0, 0, 0, 0, 0, 1, 1, 1, 1, 1],\n",
              "       [0, 0, 0, 0, 0, 0, 1, 1, 1, 1],\n",
              "       [0, 0, 0, 0, 0, 0, 0, 1, 1, 1],\n",
              "       [0, 0, 0, 0, 0, 0, 0, 0, 1, 1],\n",
              "       [0, 0, 0, 0, 0, 0, 0, 0, 0, 1]], dtype=int32)"
            ]
          },
          "metadata": {},
          "execution_count": 20
        }
      ],
      "source": [
        "def causal_attention_mask(batch_size, n_dest, n_src, dtype):\n",
        "    i = tf.range(n_dest)[:, None]\n",
        "    j = tf.range(n_src)\n",
        "    m = i >= j - n_src + n_dest\n",
        "    mask = tf.cast(m, dtype)\n",
        "    mask = tf.reshape(mask, [1, n_dest, n_src])\n",
        "    mult = tf.concat(\n",
        "        [tf.expand_dims(batch_size, -1), tf.constant([1, 1], dtype=tf.int32)], 0\n",
        "    )\n",
        "    return tf.tile(mask, mult)\n",
        "\n",
        "\n",
        "np.transpose(causal_attention_mask(1, 10, 10, dtype=tf.int32)[0])"
      ]
    },
    {
      "cell_type": "markdown",
      "id": "3501dbad-0860-40ad-b7d6-47950e37858f",
      "metadata": {
        "id": "3501dbad-0860-40ad-b7d6-47950e37858f"
      },
      "source": [
        "## 6. 트랜스포머 블록 층 만들기 <a name=\"transformer\"></a>"
      ]
    },
    {
      "cell_type": "code",
      "execution_count": 21,
      "id": "5285a1cb-fce1-46b1-b088-b596002fa9ae",
      "metadata": {
        "id": "5285a1cb-fce1-46b1-b088-b596002fa9ae"
      },
      "outputs": [],
      "source": [
        "class TransformerBlock(layers.Layer):\n",
        "    def __init__(self, num_heads, key_dim, embed_dim, ff_dim, dropout_rate=0.1):\n",
        "        super(TransformerBlock, self).__init__()\n",
        "        self.num_heads = num_heads\n",
        "        self.key_dim = key_dim\n",
        "        self.embed_dim = embed_dim\n",
        "        self.ff_dim = ff_dim\n",
        "        self.dropout_rate = dropout_rate\n",
        "        self.attn = layers.MultiHeadAttention(\n",
        "            num_heads, key_dim, output_shape=embed_dim\n",
        "        )\n",
        "        self.dropout_1 = layers.Dropout(self.dropout_rate)\n",
        "        self.ln_1 = layers.LayerNormalization(epsilon=1e-6)\n",
        "        self.ffn_1 = layers.Dense(self.ff_dim, activation=\"relu\")\n",
        "        self.ffn_2 = layers.Dense(self.embed_dim)\n",
        "        self.dropout_2 = layers.Dropout(self.dropout_rate)\n",
        "        self.ln_2 = layers.LayerNormalization(epsilon=1e-6)\n",
        "\n",
        "    def call(self, inputs):\n",
        "        input_shape = tf.shape(inputs)\n",
        "        batch_size = input_shape[0]\n",
        "        seq_len = input_shape[1]\n",
        "        causal_mask = causal_attention_mask(\n",
        "            batch_size, seq_len, seq_len, tf.bool\n",
        "        )\n",
        "        attention_output, attention_scores = self.attn(\n",
        "            inputs,\n",
        "            inputs,\n",
        "            attention_mask=causal_mask,\n",
        "            return_attention_scores=True,\n",
        "        )\n",
        "        attention_output = self.dropout_1(attention_output)\n",
        "        out1 = self.ln_1(inputs + attention_output)\n",
        "        ffn_1 = self.ffn_1(out1)\n",
        "        ffn_2 = self.ffn_2(ffn_1)\n",
        "        ffn_output = self.dropout_2(ffn_2)\n",
        "        return (self.ln_2(out1 + ffn_output), attention_scores)\n",
        "\n",
        "    def get_config(self):\n",
        "        config = super().get_config()\n",
        "        config.update(\n",
        "            {\n",
        "                \"key_dim\": self.key_dim,\n",
        "                \"embed_dim\": self.embed_dim,\n",
        "                \"num_heads\": self.num_heads,\n",
        "                \"ff_dim\": self.ff_dim,\n",
        "                \"dropout_rate\": self.dropout_rate,\n",
        "            }\n",
        "        )\n",
        "        return config"
      ]
    },
    {
      "cell_type": "markdown",
      "id": "076a6be0-9796-4974-9bcd-6ebbcfe7514e",
      "metadata": {
        "tags": [],
        "id": "076a6be0-9796-4974-9bcd-6ebbcfe7514e"
      },
      "source": [
        "## 7. 토큰 임베딩과 위치 인코딩 만들기 <a name=\"embedder\"></a>"
      ]
    },
    {
      "cell_type": "code",
      "execution_count": 22,
      "id": "fdf5cb25-88ae-4026-9e21-c1e6b5094a2c",
      "metadata": {
        "id": "fdf5cb25-88ae-4026-9e21-c1e6b5094a2c"
      },
      "outputs": [],
      "source": [
        "class TokenAndPositionEmbedding(layers.Layer):\n",
        "    def __init__(self, max_len, vocab_size, embed_dim):\n",
        "        super(TokenAndPositionEmbedding, self).__init__()\n",
        "        self.max_len = max_len\n",
        "        self.vocab_size = vocab_size\n",
        "        self.embed_dim = embed_dim\n",
        "        self.token_emb = layers.Embedding(\n",
        "            input_dim=vocab_size, output_dim=embed_dim\n",
        "        )\n",
        "        self.pos_emb = layers.Embedding(input_dim=max_len, output_dim=embed_dim)\n",
        "\n",
        "    def call(self, x):\n",
        "        maxlen = tf.shape(x)[-1]\n",
        "        positions = tf.range(start=0, limit=maxlen, delta=1)\n",
        "        positions = self.pos_emb(positions)\n",
        "        x = self.token_emb(x)\n",
        "        return x + positions\n",
        "\n",
        "    def get_config(self):\n",
        "        config = super().get_config()\n",
        "        config.update(\n",
        "            {\n",
        "                \"max_len\": self.max_len,\n",
        "                \"vocab_size\": self.vocab_size,\n",
        "                \"embed_dim\": self.embed_dim,\n",
        "            }\n",
        "        )\n",
        "        return config"
      ]
    },
    {
      "cell_type": "markdown",
      "id": "aac2e2d4-5980-47e3-b5b0-6c41c0c2d152",
      "metadata": {
        "id": "aac2e2d4-5980-47e3-b5b0-6c41c0c2d152"
      },
      "source": [
        "## 8. 트랜스포머 모델 만들기 <a name=\"transformer_decoder\"></a>"
      ]
    },
    {
      "cell_type": "code",
      "execution_count": 23,
      "id": "8c57596e-e17d-4959-b6e8-7581b0bace3a",
      "metadata": {
        "id": "8c57596e-e17d-4959-b6e8-7581b0bace3a"
      },
      "outputs": [],
      "source": [
        "inputs = layers.Input(shape=(None,), dtype=tf.int32)\n",
        "x = TokenAndPositionEmbedding(MAX_LEN, VOCAB_SIZE, EMBEDDING_DIM)(inputs)\n",
        "x, attention_scores = TransformerBlock(\n",
        "    N_HEADS, KEY_DIM, EMBEDDING_DIM, FEED_FORWARD_DIM\n",
        ")(x)\n",
        "outputs = layers.Dense(VOCAB_SIZE, activation=\"softmax\")(x)\n",
        "gpt = models.Model(inputs=inputs, outputs=[outputs, attention_scores])\n",
        "gpt.compile(\"adam\", loss=[losses.SparseCategoricalCrossentropy(), None])"
      ]
    },
    {
      "cell_type": "code",
      "execution_count": 24,
      "id": "1a1c3b0f-3382-444d-bb04-bae143ae5d61",
      "metadata": {
        "id": "1a1c3b0f-3382-444d-bb04-bae143ae5d61",
        "outputId": "23f5d22b-3c38-4f79-cb9d-a0e85e3137c0",
        "colab": {
          "base_uri": "https://localhost:8080/"
        }
      },
      "outputs": [
        {
          "output_type": "stream",
          "name": "stdout",
          "text": [
            "Model: \"model\"\n",
            "_________________________________________________________________\n",
            " Layer (type)                Output Shape              Param #   \n",
            "=================================================================\n",
            " input_1 (InputLayer)        [(None, None)]            0         \n",
            "                                                                 \n",
            " token_and_position_embeddi  (None, None, 256)         2580480   \n",
            " ng (TokenAndPositionEmbedd                                      \n",
            " ing)                                                            \n",
            "                                                                 \n",
            " transformer_block (Transfo  ((None, None, 256),       658688    \n",
            " rmerBlock)                   (None, 2, None, None))             \n",
            "                                                                 \n",
            " dense_2 (Dense)             (None, None, 10000)       2570000   \n",
            "                                                                 \n",
            "=================================================================\n",
            "Total params: 5809168 (22.16 MB)\n",
            "Trainable params: 5809168 (22.16 MB)\n",
            "Non-trainable params: 0 (0.00 Byte)\n",
            "_________________________________________________________________\n"
          ]
        }
      ],
      "source": [
        "gpt.summary()"
      ]
    },
    {
      "cell_type": "code",
      "execution_count": 25,
      "id": "800a3c6e-fb11-4792-b6bc-9a43a7c977ad",
      "metadata": {
        "tags": [],
        "id": "800a3c6e-fb11-4792-b6bc-9a43a7c977ad"
      },
      "outputs": [],
      "source": [
        "if LOAD_MODEL:\n",
        "    # model.load_weights('./models/model')\n",
        "    gpt = models.load_model(\"./models/gpt\", compile=True)"
      ]
    },
    {
      "cell_type": "markdown",
      "id": "35b14665-4359-447b-be58-3fd58ba69084",
      "metadata": {
        "id": "35b14665-4359-447b-be58-3fd58ba69084"
      },
      "source": [
        "## 9. 트랜스포머 훈련하기 <a name=\"train\"></a>"
      ]
    },
    {
      "cell_type": "code",
      "execution_count": 26,
      "id": "3ddcff5f-829d-4449-99d2-9a3cb68f7d72",
      "metadata": {
        "id": "3ddcff5f-829d-4449-99d2-9a3cb68f7d72"
      },
      "outputs": [],
      "source": [
        "# TextGenerator 체크포인트 만들기\n",
        "class TextGenerator(callbacks.Callback):\n",
        "    def __init__(self, index_to_word, top_k=10):\n",
        "        self.index_to_word = index_to_word\n",
        "        self.word_to_index = {\n",
        "            word: index for index, word in enumerate(index_to_word)\n",
        "        }\n",
        "\n",
        "    def sample_from(self, probs, temperature):\n",
        "        probs = probs ** (1 / temperature)\n",
        "        probs = probs / np.sum(probs)\n",
        "        return np.random.choice(len(probs), p=probs), probs\n",
        "\n",
        "    def generate(self, start_prompt, max_tokens, temperature):\n",
        "        start_tokens = [\n",
        "            self.word_to_index.get(x, 1) for x in start_prompt.split()\n",
        "        ]\n",
        "        sample_token = None\n",
        "        info = []\n",
        "        while len(start_tokens) < max_tokens and sample_token != 0:\n",
        "            x = np.array([start_tokens])\n",
        "            y, att = self.model.predict(x, verbose=0)\n",
        "            sample_token, probs = self.sample_from(y[0][-1], temperature)\n",
        "            info.append(\n",
        "                {\n",
        "                    \"prompt\": start_prompt,\n",
        "                    \"word_probs\": probs,\n",
        "                    \"atts\": att[0, :, -1, :],\n",
        "                }\n",
        "            )\n",
        "            start_tokens.append(sample_token)\n",
        "            start_prompt = start_prompt + \" \" + self.index_to_word[sample_token]\n",
        "        print(f\"\\n생성된 텍스트:\\n{start_prompt}\\n\")\n",
        "        return info\n",
        "\n",
        "    def on_epoch_end(self, epoch, logs=None):\n",
        "        self.generate(\"wine review\", max_tokens=80, temperature=1.0)"
      ]
    },
    {
      "cell_type": "code",
      "execution_count": 27,
      "id": "349865fe-ffbe-450e-97be-043ae1740e78",
      "metadata": {
        "id": "349865fe-ffbe-450e-97be-043ae1740e78"
      },
      "outputs": [],
      "source": [
        "# 모델 저장 체크포인트 만들기\n",
        "model_checkpoint_callback = callbacks.ModelCheckpoint(\n",
        "    filepath=\"./checkpoint/checkpoint.ckpt\",\n",
        "    save_weights_only=True,\n",
        "    save_freq=\"epoch\",\n",
        "    verbose=0,\n",
        ")\n",
        "\n",
        "tensorboard_callback = callbacks.TensorBoard(log_dir=\"./logs\")\n",
        "\n",
        "# 시작 프롬프트 토큰화\n",
        "text_generator = TextGenerator(vocab)"
      ]
    },
    {
      "cell_type": "code",
      "execution_count": 28,
      "id": "461c2b3e-b5ae-4def-8bd9-e7bab8c63d8e",
      "metadata": {
        "tags": [],
        "id": "461c2b3e-b5ae-4def-8bd9-e7bab8c63d8e",
        "outputId": "3a1da1d6-6f81-456b-843c-db1dad6cd4b4",
        "colab": {
          "base_uri": "https://localhost:8080/"
        }
      },
      "outputs": [
        {
          "output_type": "stream",
          "name": "stdout",
          "text": [
            "Epoch 1/5\n",
            "4060/4060 [==============================] - ETA: 0s - loss: 2.2546 - dense_2_loss: 2.2546\n",
            "생성된 텍스트:\n",
            "wine review : us : california : sauvignon blanc : bergamot and jalapeño flavors fall out on the finish . but it ' s a little sweet in honey . \n",
            "\n",
            "4060/4060 [==============================] - 162s 38ms/step - loss: 2.2546 - dense_2_loss: 2.2546\n",
            "Epoch 2/5\n",
            "4060/4060 [==============================] - ETA: 0s - loss: 1.9605 - dense_2_loss: 1.9605\n",
            "생성된 텍스트:\n",
            "wine review : france : bordeaux : rosé : a fruity and rounded wine , this is rich and fruity . it is developing fast ; open , full of dark berry fruits and a texture that comes through more roasted almonds and ripe with a warm character . screwcap . \n",
            "\n",
            "4060/4060 [==============================] - 123s 30ms/step - loss: 1.9605 - dense_2_loss: 1.9605\n",
            "Epoch 3/5\n",
            "4060/4060 [==============================] - ETA: 0s - loss: 1.8899 - dense_2_loss: 1.8899\n",
            "생성된 텍스트:\n",
            "wine review : france : alsace : riesling : it is pure and rich . it is fresh with acidity , but misses out minerality . drink [UNK] . lemon peel dominates . \n",
            "\n",
            "4060/4060 [==============================] - 121s 30ms/step - loss: 1.8899 - dense_2_loss: 1.8899\n",
            "Epoch 4/5\n",
            "4060/4060 [==============================] - ETA: 0s - loss: 1.8476 - dense_2_loss: 1.8476\n",
            "생성된 텍스트:\n",
            "wine review : spain : andalucia : sherry : amber in color , a late - harvest mouthfeel than this madiran . apricot apple and fig flavors blend is nearly overripe and syrupy , but in candied sweetness . deep in the mouth , this is severely toffee and chocolate - resin raisin flavors in addition to a yeasty , jammy , warm malty finish with a lasting dose of toffee . \n",
            "\n",
            "4060/4060 [==============================] - 124s 30ms/step - loss: 1.8476 - dense_2_loss: 1.8476\n",
            "Epoch 5/5\n",
            "4060/4060 [==============================] - ETA: 0s - loss: 1.8174 - dense_2_loss: 1.8174\n",
            "생성된 텍스트:\n",
            "wine review : us : oregon : pinot noir : quickly dissipating tannins . the fruit is also starting to show this larger burgundian ( 60 % ) erath ' s already drinkable . the smooth , supple and complex , it glides gracefully above a silky palate backed up with firm minerality and minerality , finishing in streaks of sandalwood to ensure . a long silk and satin , suggesting cellaring should be 2020–2030 . \n",
            "\n",
            "4060/4060 [==============================] - 125s 31ms/step - loss: 1.8174 - dense_2_loss: 1.8174\n"
          ]
        },
        {
          "output_type": "execute_result",
          "data": {
            "text/plain": [
              "<keras.src.callbacks.History at 0x7c0bc7517df0>"
            ]
          },
          "metadata": {},
          "execution_count": 28
        }
      ],
      "source": [
        "gpt.fit(\n",
        "    train_ds,\n",
        "    epochs=EPOCHS,\n",
        "    callbacks=[model_checkpoint_callback, tensorboard_callback, text_generator],\n",
        ")"
      ]
    },
    {
      "cell_type": "code",
      "execution_count": 29,
      "id": "369bde44-2e39-4bc6-8549-a3a27ecce55c",
      "metadata": {
        "tags": [],
        "id": "369bde44-2e39-4bc6-8549-a3a27ecce55c"
      },
      "outputs": [],
      "source": [
        "# 최종 모델 저장\n",
        "gpt.save(\"./models/gpt\")"
      ]
    },
    {
      "cell_type": "markdown",
      "id": "d64e02d2-84dc-40c8-8446-40c09adf1e20",
      "metadata": {
        "id": "d64e02d2-84dc-40c8-8446-40c09adf1e20"
      },
      "source": [
        "# 3. 트랜스포머를 사용하여 텍스트 생성"
      ]
    },
    {
      "cell_type": "code",
      "execution_count": 30,
      "id": "4ad23adb-3ec9-4e9a-9a59-b9f9bafca649",
      "metadata": {
        "id": "4ad23adb-3ec9-4e9a-9a59-b9f9bafca649"
      },
      "outputs": [],
      "source": [
        "def print_probs(info, vocab, top_k=5):\n",
        "    for i in info:\n",
        "        highlighted_text = []\n",
        "        for word, att_score in zip(\n",
        "            i[\"prompt\"].split(), np.mean(i[\"atts\"], axis=0)\n",
        "        ):\n",
        "            highlighted_text.append(\n",
        "                '<span style=\"background-color:rgba(135,206,250,'\n",
        "                + str(att_score / max(np.mean(i[\"atts\"], axis=0)))\n",
        "                + ');\">'\n",
        "                + word\n",
        "                + \"</span>\"\n",
        "            )\n",
        "        highlighted_text = \" \".join(highlighted_text)\n",
        "        display(HTML(highlighted_text))\n",
        "\n",
        "        word_probs = i[\"word_probs\"]\n",
        "        p_sorted = np.sort(word_probs)[::-1][:top_k]\n",
        "        i_sorted = np.argsort(word_probs)[::-1][:top_k]\n",
        "        for p, i in zip(p_sorted, i_sorted):\n",
        "            print(f\"{vocab[i]}:   \\t{np.round(100*p,2)}%\")\n",
        "        print(\"--------\\n\")"
      ]
    },
    {
      "cell_type": "code",
      "execution_count": 31,
      "id": "3cf25578-d47c-4b26-8252-fcdf2316a4ac",
      "metadata": {
        "id": "3cf25578-d47c-4b26-8252-fcdf2316a4ac",
        "outputId": "0b4d11aa-6988-42fc-b9ae-83a51617e4e0",
        "colab": {
          "base_uri": "https://localhost:8080/"
        }
      },
      "outputs": [
        {
          "output_type": "stream",
          "name": "stdout",
          "text": [
            "\n",
            "생성된 텍스트:\n",
            "wine review : us : michigan : riesling : not many jackson for 20 - year - old vines , this wine sets sonoma herbal tones and clover aromas , but not terribly sharp . the medium - influenced palate is subtle in concentration , with quite a good helping of lemon and lime acidity . \n",
            "\n"
          ]
        }
      ],
      "source": [
        "info = text_generator.generate(\n",
        "    \"wine review : us\", max_tokens=80, temperature=1.0\n",
        ")"
      ]
    },
    {
      "cell_type": "code",
      "execution_count": 32,
      "id": "4ae2da8e-9b7c-4b71-b37b-021115b3d7ea",
      "metadata": {
        "id": "4ae2da8e-9b7c-4b71-b37b-021115b3d7ea",
        "outputId": "507229c9-275f-4ff8-904b-7a70ba32ab90",
        "colab": {
          "base_uri": "https://localhost:8080/"
        }
      },
      "outputs": [
        {
          "output_type": "stream",
          "name": "stdout",
          "text": [
            "\n",
            "생성된 텍스트:\n",
            "wine review : italy : sicily & sardinia : nero d ' avola : this opens with aromas of black - skinned berry , violet , baking spice and a whiff of cake spice . the firm palate offers mature black cherry , clove and licorice alongside firm , fine - grained tannins . \n",
            "\n"
          ]
        }
      ],
      "source": [
        "info = text_generator.generate(\n",
        "    \"wine review : italy\", max_tokens=80, temperature=0.5\n",
        ")"
      ]
    },
    {
      "cell_type": "code",
      "execution_count": 33,
      "id": "5cae6d5d-263d-4455-b96c-f315cbe284ee",
      "metadata": {
        "id": "5cae6d5d-263d-4455-b96c-f315cbe284ee",
        "outputId": "b1bacd13-73b9-436b-bd02-b056975ae437",
        "colab": {
          "base_uri": "https://localhost:8080/",
          "height": 1000
        }
      },
      "outputs": [
        {
          "output_type": "stream",
          "name": "stdout",
          "text": [
            "\n",
            "생성된 텍스트:\n",
            "wine review : germany : mosel : riesling : saffron and spice notes lend a savory tone to this intensely mineral - textured riesling . it ' s lavishly aromatic with honey and tangerine flavors . it ' s dry and spry , yet deeply mineral - driven , finishing long . \n",
            "\n"
          ]
        },
        {
          "output_type": "display_data",
          "data": {
            "text/plain": [
              "<IPython.core.display.HTML object>"
            ],
            "text/html": [
              "<span style=\"background-color:rgba(135,206,250,0.7527884);\">wine</span> <span style=\"background-color:rgba(135,206,250,1.0);\">review</span> <span style=\"background-color:rgba(135,206,250,0.48646107);\">:</span> <span style=\"background-color:rgba(135,206,250,0.21793245);\">germany</span>"
            ]
          },
          "metadata": {}
        },
        {
          "output_type": "stream",
          "name": "stdout",
          "text": [
            "::   \t100.0%\n",
            "-:   \t0.0%\n",
            "grosso:   \t0.0%\n",
            "blend:   \t0.0%\n",
            "republic:   \t0.0%\n",
            "--------\n",
            "\n"
          ]
        },
        {
          "output_type": "display_data",
          "data": {
            "text/plain": [
              "<IPython.core.display.HTML object>"
            ],
            "text/html": [
              "<span style=\"background-color:rgba(135,206,250,0.31134427);\">wine</span> <span style=\"background-color:rgba(135,206,250,0.39243773);\">review</span> <span style=\"background-color:rgba(135,206,250,0.4036588);\">:</span> <span style=\"background-color:rgba(135,206,250,1.0);\">germany</span> <span style=\"background-color:rgba(135,206,250,0.265171);\">:</span>"
            ]
          },
          "metadata": {}
        },
        {
          "output_type": "stream",
          "name": "stdout",
          "text": [
            "mosel:   \t77.61%\n",
            "rheinhessen:   \t10.71%\n",
            "rheingau:   \t7.16%\n",
            "pfalz:   \t3.39%\n",
            "nahe:   \t0.45%\n",
            "--------\n",
            "\n"
          ]
        },
        {
          "output_type": "display_data",
          "data": {
            "text/plain": [
              "<IPython.core.display.HTML object>"
            ],
            "text/html": [
              "<span style=\"background-color:rgba(135,206,250,0.99868274);\">wine</span> <span style=\"background-color:rgba(135,206,250,1.0);\">review</span> <span style=\"background-color:rgba(135,206,250,0.4513474);\">:</span> <span style=\"background-color:rgba(135,206,250,0.21393307);\">germany</span> <span style=\"background-color:rgba(135,206,250,0.7368218);\">:</span> <span style=\"background-color:rgba(135,206,250,0.24573074);\">mosel</span>"
            ]
          },
          "metadata": {}
        },
        {
          "output_type": "stream",
          "name": "stdout",
          "text": [
            "::   \t99.33%\n",
            "-:   \t0.67%\n",
            "in:   \t0.0%\n",
            "to:   \t0.0%\n",
            "hills:   \t0.0%\n",
            "--------\n",
            "\n"
          ]
        },
        {
          "output_type": "display_data",
          "data": {
            "text/plain": [
              "<IPython.core.display.HTML object>"
            ],
            "text/html": [
              "<span style=\"background-color:rgba(135,206,250,0.23639655);\">wine</span> <span style=\"background-color:rgba(135,206,250,0.2870926);\">review</span> <span style=\"background-color:rgba(135,206,250,0.16944245);\">:</span> <span style=\"background-color:rgba(135,206,250,0.24731082);\">germany</span> <span style=\"background-color:rgba(135,206,250,0.14039825);\">:</span> <span style=\"background-color:rgba(135,206,250,1.0);\">mosel</span> <span style=\"background-color:rgba(135,206,250,0.16697854);\">:</span>"
            ]
          },
          "metadata": {}
        },
        {
          "output_type": "stream",
          "name": "stdout",
          "text": [
            "riesling:   \t100.0%\n",
            "weissburgunder:   \t0.0%\n",
            "pinot:   \t0.0%\n",
            "white:   \t0.0%\n",
            "grüner:   \t0.0%\n",
            "--------\n",
            "\n"
          ]
        },
        {
          "output_type": "display_data",
          "data": {
            "text/plain": [
              "<IPython.core.display.HTML object>"
            ],
            "text/html": [
              "<span style=\"background-color:rgba(135,206,250,0.68356276);\">wine</span> <span style=\"background-color:rgba(135,206,250,1.0);\">review</span> <span style=\"background-color:rgba(135,206,250,0.36538017);\">:</span> <span style=\"background-color:rgba(135,206,250,0.22652578);\">germany</span> <span style=\"background-color:rgba(135,206,250,0.4336082);\">:</span> <span style=\"background-color:rgba(135,206,250,0.40513957);\">mosel</span> <span style=\"background-color:rgba(135,206,250,0.44490066);\">:</span> <span style=\"background-color:rgba(135,206,250,0.14857455);\">riesling</span>"
            ]
          },
          "metadata": {}
        },
        {
          "output_type": "stream",
          "name": "stdout",
          "text": [
            "::   \t100.0%\n",
            "-:   \t0.0%\n",
            "grosso:   \t0.0%\n",
            "blanc:   \t0.0%\n",
            "blend:   \t0.0%\n",
            "--------\n",
            "\n"
          ]
        },
        {
          "output_type": "display_data",
          "data": {
            "text/plain": [
              "<IPython.core.display.HTML object>"
            ],
            "text/html": [
              "<span style=\"background-color:rgba(135,206,250,0.6603368);\">wine</span> <span style=\"background-color:rgba(135,206,250,0.66491127);\">review</span> <span style=\"background-color:rgba(135,206,250,0.37456113);\">:</span> <span style=\"background-color:rgba(135,206,250,0.6785982);\">germany</span> <span style=\"background-color:rgba(135,206,250,0.3634796);\">:</span> <span style=\"background-color:rgba(135,206,250,1.0);\">mosel</span> <span style=\"background-color:rgba(135,206,250,0.54335);\">:</span> <span style=\"background-color:rgba(135,206,250,0.603097);\">riesling</span> <span style=\"background-color:rgba(135,206,250,0.50425386);\">:</span>"
            ]
          },
          "metadata": {}
        },
        {
          "output_type": "stream",
          "name": "stdout",
          "text": [
            "a:   \t20.03%\n",
            "while:   \t17.85%\n",
            "this:   \t10.58%\n",
            "whiffs:   \t9.84%\n",
            "hints:   \t5.72%\n",
            "--------\n",
            "\n"
          ]
        },
        {
          "output_type": "display_data",
          "data": {
            "text/plain": [
              "<IPython.core.display.HTML object>"
            ],
            "text/html": [
              "<span style=\"background-color:rgba(135,206,250,1.0);\">wine</span> <span style=\"background-color:rgba(135,206,250,0.78598136);\">review</span> <span style=\"background-color:rgba(135,206,250,0.5204379);\">:</span> <span style=\"background-color:rgba(135,206,250,0.24723537);\">germany</span> <span style=\"background-color:rgba(135,206,250,0.6223161);\">:</span> <span style=\"background-color:rgba(135,206,250,0.13452683);\">mosel</span> <span style=\"background-color:rgba(135,206,250,0.41649452);\">:</span> <span style=\"background-color:rgba(135,206,250,0.1188306);\">riesling</span> <span style=\"background-color:rgba(135,206,250,0.5881162);\">:</span> <span style=\"background-color:rgba(135,206,250,0.28493896);\">saffron</span>"
            ]
          },
          "metadata": {}
        },
        {
          "output_type": "stream",
          "name": "stdout",
          "text": [
            "and:   \t84.69%\n",
            ",:   \t15.2%\n",
            "-:   \t0.1%\n",
            "seeps:   \t0.0%\n",
            "notes:   \t0.0%\n",
            "--------\n",
            "\n"
          ]
        },
        {
          "output_type": "display_data",
          "data": {
            "text/plain": [
              "<IPython.core.display.HTML object>"
            ],
            "text/html": [
              "<span style=\"background-color:rgba(135,206,250,0.2684262);\">wine</span> <span style=\"background-color:rgba(135,206,250,0.2828361);\">review</span> <span style=\"background-color:rgba(135,206,250,0.18566152);\">:</span> <span style=\"background-color:rgba(135,206,250,0.22840962);\">germany</span> <span style=\"background-color:rgba(135,206,250,0.14254455);\">:</span> <span style=\"background-color:rgba(135,206,250,0.21076593);\">mosel</span> <span style=\"background-color:rgba(135,206,250,0.1206068);\">:</span> <span style=\"background-color:rgba(135,206,250,0.21958597);\">riesling</span> <span style=\"background-color:rgba(135,206,250,0.14946358);\">:</span> <span style=\"background-color:rgba(135,206,250,1.0);\">saffron</span> <span style=\"background-color:rgba(135,206,250,0.17698641);\">and</span>"
            ]
          },
          "metadata": {}
        },
        {
          "output_type": "stream",
          "name": "stdout",
          "text": [
            "spice:   \t53.88%\n",
            "pollen:   \t31.61%\n",
            "honey:   \t9.95%\n",
            "saffron:   \t1.13%\n",
            "fennel:   \t0.6%\n",
            "--------\n",
            "\n"
          ]
        },
        {
          "output_type": "display_data",
          "data": {
            "text/plain": [
              "<IPython.core.display.HTML object>"
            ],
            "text/html": [
              "<span style=\"background-color:rgba(135,206,250,1.0);\">wine</span> <span style=\"background-color:rgba(135,206,250,0.7955453);\">review</span> <span style=\"background-color:rgba(135,206,250,0.5916288);\">:</span> <span style=\"background-color:rgba(135,206,250,0.38716984);\">germany</span> <span style=\"background-color:rgba(135,206,250,0.43983945);\">:</span> <span style=\"background-color:rgba(135,206,250,0.18842149);\">mosel</span> <span style=\"background-color:rgba(135,206,250,0.3272252);\">:</span> <span style=\"background-color:rgba(135,206,250,0.14055933);\">riesling</span> <span style=\"background-color:rgba(135,206,250,0.40955275);\">:</span> <span style=\"background-color:rgba(135,206,250,0.53378314);\">saffron</span> <span style=\"background-color:rgba(135,206,250,0.9795346);\">and</span> <span style=\"background-color:rgba(135,206,250,0.546671);\">spice</span>"
            ]
          },
          "metadata": {}
        },
        {
          "output_type": "stream",
          "name": "stdout",
          "text": [
            "notes:   \t95.02%\n",
            "aromas:   \t4.1%\n",
            "tones:   \t0.34%\n",
            "lend:   \t0.22%\n",
            "flavors:   \t0.15%\n",
            "--------\n",
            "\n"
          ]
        },
        {
          "output_type": "display_data",
          "data": {
            "text/plain": [
              "<IPython.core.display.HTML object>"
            ],
            "text/html": [
              "<span style=\"background-color:rgba(135,206,250,0.5559514);\">wine</span> <span style=\"background-color:rgba(135,206,250,0.6425236);\">review</span> <span style=\"background-color:rgba(135,206,250,0.55069476);\">:</span> <span style=\"background-color:rgba(135,206,250,0.3458323);\">germany</span> <span style=\"background-color:rgba(135,206,250,0.32994145);\">:</span> <span style=\"background-color:rgba(135,206,250,0.19477873);\">mosel</span> <span style=\"background-color:rgba(135,206,250,0.2709949);\">:</span> <span style=\"background-color:rgba(135,206,250,0.12856075);\">riesling</span> <span style=\"background-color:rgba(135,206,250,0.35354874);\">:</span> <span style=\"background-color:rgba(135,206,250,0.49730715);\">saffron</span> <span style=\"background-color:rgba(135,206,250,0.7115447);\">and</span> <span style=\"background-color:rgba(135,206,250,1.0);\">spice</span> <span style=\"background-color:rgba(135,206,250,0.30380714);\">notes</span>"
            ]
          },
          "metadata": {}
        },
        {
          "output_type": "stream",
          "name": "stdout",
          "text": [
            "lend:   \t74.2%\n",
            "accent:   \t14.16%\n",
            "add:   \t9.25%\n",
            "are:   \t1.06%\n",
            "highlight:   \t0.26%\n",
            "--------\n",
            "\n"
          ]
        },
        {
          "output_type": "display_data",
          "data": {
            "text/plain": [
              "<IPython.core.display.HTML object>"
            ],
            "text/html": [
              "<span style=\"background-color:rgba(135,206,250,0.76959527);\">wine</span> <span style=\"background-color:rgba(135,206,250,0.97509694);\">review</span> <span style=\"background-color:rgba(135,206,250,0.6527594);\">:</span> <span style=\"background-color:rgba(135,206,250,0.38347837);\">germany</span> <span style=\"background-color:rgba(135,206,250,0.51024574);\">:</span> <span style=\"background-color:rgba(135,206,250,0.40021732);\">mosel</span> <span style=\"background-color:rgba(135,206,250,0.30289647);\">:</span> <span style=\"background-color:rgba(135,206,250,0.2353285);\">riesling</span> <span style=\"background-color:rgba(135,206,250,0.39130563);\">:</span> <span style=\"background-color:rgba(135,206,250,0.9443033);\">saffron</span> <span style=\"background-color:rgba(135,206,250,0.719984);\">and</span> <span style=\"background-color:rgba(135,206,250,1.0);\">spice</span> <span style=\"background-color:rgba(135,206,250,0.618841);\">notes</span> <span style=\"background-color:rgba(135,206,250,0.42591038);\">lend</span>"
            ]
          },
          "metadata": {}
        },
        {
          "output_type": "stream",
          "name": "stdout",
          "text": [
            "a:   \t67.37%\n",
            "an:   \t9.01%\n",
            "nuance:   \t8.84%\n",
            "complexity:   \t6.11%\n",
            "depth:   \t3.15%\n",
            "--------\n",
            "\n"
          ]
        },
        {
          "output_type": "display_data",
          "data": {
            "text/plain": [
              "<IPython.core.display.HTML object>"
            ],
            "text/html": [
              "<span style=\"background-color:rgba(135,206,250,0.24852918);\">wine</span> <span style=\"background-color:rgba(135,206,250,0.23504695);\">review</span> <span style=\"background-color:rgba(135,206,250,0.17039041);\">:</span> <span style=\"background-color:rgba(135,206,250,0.27737352);\">germany</span> <span style=\"background-color:rgba(135,206,250,0.10747749);\">:</span> <span style=\"background-color:rgba(135,206,250,0.24279106);\">mosel</span> <span style=\"background-color:rgba(135,206,250,0.08817973);\">:</span> <span style=\"background-color:rgba(135,206,250,0.18560529);\">riesling</span> <span style=\"background-color:rgba(135,206,250,0.13742387);\">:</span> <span style=\"background-color:rgba(135,206,250,0.26701915);\">saffron</span> <span style=\"background-color:rgba(135,206,250,0.18619196);\">and</span> <span style=\"background-color:rgba(135,206,250,0.36408296);\">spice</span> <span style=\"background-color:rgba(135,206,250,0.3395805);\">notes</span> <span style=\"background-color:rgba(135,206,250,1.0);\">lend</span> <span style=\"background-color:rgba(135,206,250,0.15748438);\">a</span>"
            ]
          },
          "metadata": {}
        },
        {
          "output_type": "stream",
          "name": "stdout",
          "text": [
            "savory:   \t64.15%\n",
            "lavish:   \t21.41%\n",
            "deeply:   \t2.82%\n",
            "sweet:   \t1.89%\n",
            "fresh:   \t1.02%\n",
            "--------\n",
            "\n"
          ]
        },
        {
          "output_type": "display_data",
          "data": {
            "text/plain": [
              "<IPython.core.display.HTML object>"
            ],
            "text/html": [
              "<span style=\"background-color:rgba(135,206,250,0.28138337);\">wine</span> <span style=\"background-color:rgba(135,206,250,0.2662902);\">review</span> <span style=\"background-color:rgba(135,206,250,0.18212321);\">:</span> <span style=\"background-color:rgba(135,206,250,0.3007355);\">germany</span> <span style=\"background-color:rgba(135,206,250,0.14675787);\">:</span> <span style=\"background-color:rgba(135,206,250,0.2622611);\">mosel</span> <span style=\"background-color:rgba(135,206,250,0.12431294);\">:</span> <span style=\"background-color:rgba(135,206,250,0.30080038);\">riesling</span> <span style=\"background-color:rgba(135,206,250,0.17574929);\">:</span> <span style=\"background-color:rgba(135,206,250,0.2610965);\">saffron</span> <span style=\"background-color:rgba(135,206,250,0.1567914);\">and</span> <span style=\"background-color:rgba(135,206,250,0.2847461);\">spice</span> <span style=\"background-color:rgba(135,206,250,0.46508896);\">notes</span> <span style=\"background-color:rgba(135,206,250,1.0);\">lend</span> <span style=\"background-color:rgba(135,206,250,0.6850295);\">a</span> <span style=\"background-color:rgba(135,206,250,0.14154285);\">savory</span>"
            ]
          },
          "metadata": {}
        },
        {
          "output_type": "stream",
          "name": "stdout",
          "text": [
            "tone:   \t99.65%\n",
            ",:   \t0.14%\n",
            "character:   \t0.06%\n",
            "feel:   \t0.05%\n",
            "flair:   \t0.02%\n",
            "--------\n",
            "\n"
          ]
        },
        {
          "output_type": "display_data",
          "data": {
            "text/plain": [
              "<IPython.core.display.HTML object>"
            ],
            "text/html": [
              "<span style=\"background-color:rgba(135,206,250,0.30433932);\">wine</span> <span style=\"background-color:rgba(135,206,250,0.37485334);\">review</span> <span style=\"background-color:rgba(135,206,250,0.28788823);\">:</span> <span style=\"background-color:rgba(135,206,250,0.17110495);\">germany</span> <span style=\"background-color:rgba(135,206,250,0.1942756);\">:</span> <span style=\"background-color:rgba(135,206,250,0.07115758);\">mosel</span> <span style=\"background-color:rgba(135,206,250,0.15846154);\">:</span> <span style=\"background-color:rgba(135,206,250,0.07655801);\">riesling</span> <span style=\"background-color:rgba(135,206,250,0.19204396);\">:</span> <span style=\"background-color:rgba(135,206,250,0.12325018);\">saffron</span> <span style=\"background-color:rgba(135,206,250,0.17439117);\">and</span> <span style=\"background-color:rgba(135,206,250,0.1748416);\">spice</span> <span style=\"background-color:rgba(135,206,250,0.16613278);\">notes</span> <span style=\"background-color:rgba(135,206,250,1.0);\">lend</span> <span style=\"background-color:rgba(135,206,250,0.28301215);\">a</span> <span style=\"background-color:rgba(135,206,250,0.23602521);\">savory</span> <span style=\"background-color:rgba(135,206,250,0.22306688);\">tone</span>"
            ]
          },
          "metadata": {}
        },
        {
          "output_type": "stream",
          "name": "stdout",
          "text": [
            "to:   \t99.85%\n",
            "of:   \t0.14%\n",
            "in:   \t0.0%\n",
            "on:   \t0.0%\n",
            "and:   \t0.0%\n",
            "--------\n",
            "\n"
          ]
        },
        {
          "output_type": "display_data",
          "data": {
            "text/plain": [
              "<IPython.core.display.HTML object>"
            ],
            "text/html": [
              "<span style=\"background-color:rgba(135,206,250,0.3115413);\">wine</span> <span style=\"background-color:rgba(135,206,250,0.4044373);\">review</span> <span style=\"background-color:rgba(135,206,250,0.22999941);\">:</span> <span style=\"background-color:rgba(135,206,250,0.34852454);\">germany</span> <span style=\"background-color:rgba(135,206,250,0.17681976);\">:</span> <span style=\"background-color:rgba(135,206,250,0.20523304);\">mosel</span> <span style=\"background-color:rgba(135,206,250,0.12592258);\">:</span> <span style=\"background-color:rgba(135,206,250,0.20345233);\">riesling</span> <span style=\"background-color:rgba(135,206,250,0.14968237);\">:</span> <span style=\"background-color:rgba(135,206,250,0.1735431);\">saffron</span> <span style=\"background-color:rgba(135,206,250,0.10352942);\">and</span> <span style=\"background-color:rgba(135,206,250,0.15180802);\">spice</span> <span style=\"background-color:rgba(135,206,250,0.15989368);\">notes</span> <span style=\"background-color:rgba(135,206,250,0.66229737);\">lend</span> <span style=\"background-color:rgba(135,206,250,0.29260257);\">a</span> <span style=\"background-color:rgba(135,206,250,0.3153);\">savory</span> <span style=\"background-color:rgba(135,206,250,1.0);\">tone</span> <span style=\"background-color:rgba(135,206,250,0.20720556);\">to</span>"
            ]
          },
          "metadata": {}
        },
        {
          "output_type": "stream",
          "name": "stdout",
          "text": [
            "this:   \t96.54%\n",
            "pressed:   \t0.83%\n",
            "the:   \t0.62%\n",
            "ripe:   \t0.54%\n",
            "fresh:   \t0.42%\n",
            "--------\n",
            "\n"
          ]
        },
        {
          "output_type": "display_data",
          "data": {
            "text/plain": [
              "<IPython.core.display.HTML object>"
            ],
            "text/html": [
              "<span style=\"background-color:rgba(135,206,250,0.4671732);\">wine</span> <span style=\"background-color:rgba(135,206,250,0.5361176);\">review</span> <span style=\"background-color:rgba(135,206,250,0.6047537);\">:</span> <span style=\"background-color:rgba(135,206,250,0.80759895);\">germany</span> <span style=\"background-color:rgba(135,206,250,0.27923736);\">:</span> <span style=\"background-color:rgba(135,206,250,0.55365074);\">mosel</span> <span style=\"background-color:rgba(135,206,250,0.24561074);\">:</span> <span style=\"background-color:rgba(135,206,250,0.58612007);\">riesling</span> <span style=\"background-color:rgba(135,206,250,0.36667114);\">:</span> <span style=\"background-color:rgba(135,206,250,0.52881384);\">saffron</span> <span style=\"background-color:rgba(135,206,250,0.21759355);\">and</span> <span style=\"background-color:rgba(135,206,250,0.22147846);\">spice</span> <span style=\"background-color:rgba(135,206,250,0.35644433);\">notes</span> <span style=\"background-color:rgba(135,206,250,0.5280145);\">lend</span> <span style=\"background-color:rgba(135,206,250,0.28593555);\">a</span> <span style=\"background-color:rgba(135,206,250,0.29548132);\">savory</span> <span style=\"background-color:rgba(135,206,250,1.0);\">tone</span> <span style=\"background-color:rgba(135,206,250,0.9427694);\">to</span> <span style=\"background-color:rgba(135,206,250,0.5494962);\">this</span>"
            ]
          },
          "metadata": {}
        },
        {
          "output_type": "stream",
          "name": "stdout",
          "text": [
            "intensely:   \t31.94%\n",
            "off:   \t26.98%\n",
            "dry:   \t11.02%\n",
            "delicately:   \t5.9%\n",
            "deeply:   \t2.74%\n",
            "--------\n",
            "\n"
          ]
        },
        {
          "output_type": "display_data",
          "data": {
            "text/plain": [
              "<IPython.core.display.HTML object>"
            ],
            "text/html": [
              "<span style=\"background-color:rgba(135,206,250,0.74350184);\">wine</span> <span style=\"background-color:rgba(135,206,250,0.8047817);\">review</span> <span style=\"background-color:rgba(135,206,250,0.9724906);\">:</span> <span style=\"background-color:rgba(135,206,250,0.9930741);\">germany</span> <span style=\"background-color:rgba(135,206,250,0.6520758);\">:</span> <span style=\"background-color:rgba(135,206,250,0.7085929);\">mosel</span> <span style=\"background-color:rgba(135,206,250,0.47862443);\">:</span> <span style=\"background-color:rgba(135,206,250,0.8938002);\">riesling</span> <span style=\"background-color:rgba(135,206,250,0.48880827);\">:</span> <span style=\"background-color:rgba(135,206,250,0.51772684);\">saffron</span> <span style=\"background-color:rgba(135,206,250,0.3630935);\">and</span> <span style=\"background-color:rgba(135,206,250,0.48280618);\">spice</span> <span style=\"background-color:rgba(135,206,250,0.50136447);\">notes</span> <span style=\"background-color:rgba(135,206,250,0.6598348);\">lend</span> <span style=\"background-color:rgba(135,206,250,0.49274436);\">a</span> <span style=\"background-color:rgba(135,206,250,0.6392899);\">savory</span> <span style=\"background-color:rgba(135,206,250,0.8646048);\">tone</span> <span style=\"background-color:rgba(135,206,250,0.96214366);\">to</span> <span style=\"background-color:rgba(135,206,250,1.0);\">this</span> <span style=\"background-color:rgba(135,206,250,0.50233936);\">intensely</span>"
            ]
          },
          "metadata": {}
        },
        {
          "output_type": "stream",
          "name": "stdout",
          "text": [
            "aromatic:   \t40.01%\n",
            "fruity:   \t28.18%\n",
            "concentrated:   \t11.5%\n",
            "mineral:   \t10.46%\n",
            "ripe:   \t4.2%\n",
            "--------\n",
            "\n"
          ]
        },
        {
          "output_type": "display_data",
          "data": {
            "text/plain": [
              "<IPython.core.display.HTML object>"
            ],
            "text/html": [
              "<span style=\"background-color:rgba(135,206,250,0.3105048);\">wine</span> <span style=\"background-color:rgba(135,206,250,0.32159916);\">review</span> <span style=\"background-color:rgba(135,206,250,0.29507712);\">:</span> <span style=\"background-color:rgba(135,206,250,0.34723416);\">germany</span> <span style=\"background-color:rgba(135,206,250,0.22990198);\">:</span> <span style=\"background-color:rgba(135,206,250,0.107981585);\">mosel</span> <span style=\"background-color:rgba(135,206,250,0.16907421);\">:</span> <span style=\"background-color:rgba(135,206,250,0.13370317);\">riesling</span> <span style=\"background-color:rgba(135,206,250,0.19098249);\">:</span> <span style=\"background-color:rgba(135,206,250,0.12437721);\">saffron</span> <span style=\"background-color:rgba(135,206,250,0.12652496);\">and</span> <span style=\"background-color:rgba(135,206,250,0.11247258);\">spice</span> <span style=\"background-color:rgba(135,206,250,0.2547418);\">notes</span> <span style=\"background-color:rgba(135,206,250,0.36517686);\">lend</span> <span style=\"background-color:rgba(135,206,250,0.27915564);\">a</span> <span style=\"background-color:rgba(135,206,250,0.10483344);\">savory</span> <span style=\"background-color:rgba(135,206,250,0.46215904);\">tone</span> <span style=\"background-color:rgba(135,206,250,0.55686843);\">to</span> <span style=\"background-color:rgba(135,206,250,1.0);\">this</span> <span style=\"background-color:rgba(135,206,250,0.6321927);\">intensely</span> <span style=\"background-color:rgba(135,206,250,0.2240583);\">mineral</span>"
            ]
          },
          "metadata": {}
        },
        {
          "output_type": "stream",
          "name": "stdout",
          "text": [
            "-:   \t76.91%\n",
            "riesling:   \t13.29%\n",
            ",:   \t4.67%\n",
            "beerenauslese:   \t2.85%\n",
            "auslese:   \t1.08%\n",
            "--------\n",
            "\n"
          ]
        },
        {
          "output_type": "display_data",
          "data": {
            "text/plain": [
              "<IPython.core.display.HTML object>"
            ],
            "text/html": [
              "<span style=\"background-color:rgba(135,206,250,0.14359897);\">wine</span> <span style=\"background-color:rgba(135,206,250,0.2355767);\">review</span> <span style=\"background-color:rgba(135,206,250,0.100281574);\">:</span> <span style=\"background-color:rgba(135,206,250,0.17893702);\">germany</span> <span style=\"background-color:rgba(135,206,250,0.13637036);\">:</span> <span style=\"background-color:rgba(135,206,250,0.15140127);\">mosel</span> <span style=\"background-color:rgba(135,206,250,0.0810834);\">:</span> <span style=\"background-color:rgba(135,206,250,0.21972689);\">riesling</span> <span style=\"background-color:rgba(135,206,250,0.11320966);\">:</span> <span style=\"background-color:rgba(135,206,250,0.08442181);\">saffron</span> <span style=\"background-color:rgba(135,206,250,0.070272245);\">and</span> <span style=\"background-color:rgba(135,206,250,0.055809576);\">spice</span> <span style=\"background-color:rgba(135,206,250,0.07013872);\">notes</span> <span style=\"background-color:rgba(135,206,250,0.11965791);\">lend</span> <span style=\"background-color:rgba(135,206,250,0.069808416);\">a</span> <span style=\"background-color:rgba(135,206,250,0.081311665);\">savory</span> <span style=\"background-color:rgba(135,206,250,0.13940948);\">tone</span> <span style=\"background-color:rgba(135,206,250,0.19087988);\">to</span> <span style=\"background-color:rgba(135,206,250,0.31033704);\">this</span> <span style=\"background-color:rgba(135,206,250,0.55612326);\">intensely</span> <span style=\"background-color:rgba(135,206,250,1.0);\">mineral</span> <span style=\"background-color:rgba(135,206,250,0.05606311);\">-</span>"
            ]
          },
          "metadata": {}
        },
        {
          "output_type": "stream",
          "name": "stdout",
          "text": [
            "textured:   \t53.96%\n",
            "driven:   \t23.83%\n",
            "kissed:   \t14.51%\n",
            "toned:   \t2.71%\n",
            "laden:   \t0.79%\n",
            "--------\n",
            "\n"
          ]
        },
        {
          "output_type": "display_data",
          "data": {
            "text/plain": [
              "<IPython.core.display.HTML object>"
            ],
            "text/html": [
              "<span style=\"background-color:rgba(135,206,250,0.19606285);\">wine</span> <span style=\"background-color:rgba(135,206,250,0.2466355);\">review</span> <span style=\"background-color:rgba(135,206,250,0.22551368);\">:</span> <span style=\"background-color:rgba(135,206,250,0.40519837);\">germany</span> <span style=\"background-color:rgba(135,206,250,0.14424236);\">:</span> <span style=\"background-color:rgba(135,206,250,0.21409105);\">mosel</span> <span style=\"background-color:rgba(135,206,250,0.12591018);\">:</span> <span style=\"background-color:rgba(135,206,250,0.476107);\">riesling</span> <span style=\"background-color:rgba(135,206,250,0.20843701);\">:</span> <span style=\"background-color:rgba(135,206,250,0.1957084);\">saffron</span> <span style=\"background-color:rgba(135,206,250,0.112927236);\">and</span> <span style=\"background-color:rgba(135,206,250,0.11401788);\">spice</span> <span style=\"background-color:rgba(135,206,250,0.1971586);\">notes</span> <span style=\"background-color:rgba(135,206,250,0.3304243);\">lend</span> <span style=\"background-color:rgba(135,206,250,0.20016435);\">a</span> <span style=\"background-color:rgba(135,206,250,0.052179154);\">savory</span> <span style=\"background-color:rgba(135,206,250,0.36194155);\">tone</span> <span style=\"background-color:rgba(135,206,250,0.40157616);\">to</span> <span style=\"background-color:rgba(135,206,250,1.0);\">this</span> <span style=\"background-color:rgba(135,206,250,0.20361641);\">intensely</span> <span style=\"background-color:rgba(135,206,250,0.40563285);\">mineral</span> <span style=\"background-color:rgba(135,206,250,0.23264846);\">-</span> <span style=\"background-color:rgba(135,206,250,0.4234715);\">textured</span>"
            ]
          },
          "metadata": {}
        },
        {
          "output_type": "stream",
          "name": "stdout",
          "text": [
            "riesling:   \t92.87%\n",
            "spätlese:   \t1.96%\n",
            ",:   \t1.64%\n",
            "wine:   \t1.4%\n",
            "auslese:   \t1.26%\n",
            "--------\n",
            "\n"
          ]
        },
        {
          "output_type": "display_data",
          "data": {
            "text/plain": [
              "<IPython.core.display.HTML object>"
            ],
            "text/html": [
              "<span style=\"background-color:rgba(135,206,250,0.4548822);\">wine</span> <span style=\"background-color:rgba(135,206,250,0.857688);\">review</span> <span style=\"background-color:rgba(135,206,250,0.43367523);\">:</span> <span style=\"background-color:rgba(135,206,250,0.4515284);\">germany</span> <span style=\"background-color:rgba(135,206,250,0.34967473);\">:</span> <span style=\"background-color:rgba(135,206,250,0.14604916);\">mosel</span> <span style=\"background-color:rgba(135,206,250,0.28477898);\">:</span> <span style=\"background-color:rgba(135,206,250,0.19178075);\">riesling</span> <span style=\"background-color:rgba(135,206,250,0.41305923);\">:</span> <span style=\"background-color:rgba(135,206,250,0.21194917);\">saffron</span> <span style=\"background-color:rgba(135,206,250,0.18576169);\">and</span> <span style=\"background-color:rgba(135,206,250,0.1980082);\">spice</span> <span style=\"background-color:rgba(135,206,250,0.36808652);\">notes</span> <span style=\"background-color:rgba(135,206,250,1.0);\">lend</span> <span style=\"background-color:rgba(135,206,250,0.44274715);\">a</span> <span style=\"background-color:rgba(135,206,250,0.13419329);\">savory</span> <span style=\"background-color:rgba(135,206,250,0.50311935);\">tone</span> <span style=\"background-color:rgba(135,206,250,0.6633669);\">to</span> <span style=\"background-color:rgba(135,206,250,0.9591698);\">this</span> <span style=\"background-color:rgba(135,206,250,0.35269594);\">intensely</span> <span style=\"background-color:rgba(135,206,250,0.40374872);\">mineral</span> <span style=\"background-color:rgba(135,206,250,0.4698738);\">-</span> <span style=\"background-color:rgba(135,206,250,0.855248);\">textured</span> <span style=\"background-color:rgba(135,206,250,0.6067905);\">riesling</span>"
            ]
          },
          "metadata": {}
        },
        {
          "output_type": "stream",
          "name": "stdout",
          "text": [
            ".:   \t99.94%\n",
            "that:   \t0.03%\n",
            "full:   \t0.02%\n",
            ",:   \t0.01%\n",
            "from:   \t0.0%\n",
            "--------\n",
            "\n"
          ]
        },
        {
          "output_type": "display_data",
          "data": {
            "text/plain": [
              "<IPython.core.display.HTML object>"
            ],
            "text/html": [
              "<span style=\"background-color:rgba(135,206,250,0.5815283);\">wine</span> <span style=\"background-color:rgba(135,206,250,1.0);\">review</span> <span style=\"background-color:rgba(135,206,250,0.32126912);\">:</span> <span style=\"background-color:rgba(135,206,250,0.51784295);\">germany</span> <span style=\"background-color:rgba(135,206,250,0.34277916);\">:</span> <span style=\"background-color:rgba(135,206,250,0.26011986);\">mosel</span> <span style=\"background-color:rgba(135,206,250,0.26552612);\">:</span> <span style=\"background-color:rgba(135,206,250,0.32267016);\">riesling</span> <span style=\"background-color:rgba(135,206,250,0.27984366);\">:</span> <span style=\"background-color:rgba(135,206,250,0.32306626);\">saffron</span> <span style=\"background-color:rgba(135,206,250,0.18407248);\">and</span> <span style=\"background-color:rgba(135,206,250,0.1657109);\">spice</span> <span style=\"background-color:rgba(135,206,250,0.26840892);\">notes</span> <span style=\"background-color:rgba(135,206,250,0.3020507);\">lend</span> <span style=\"background-color:rgba(135,206,250,0.13643204);\">a</span> <span style=\"background-color:rgba(135,206,250,0.14490439);\">savory</span> <span style=\"background-color:rgba(135,206,250,0.27420533);\">tone</span> <span style=\"background-color:rgba(135,206,250,0.14729959);\">to</span> <span style=\"background-color:rgba(135,206,250,0.4116788);\">this</span> <span style=\"background-color:rgba(135,206,250,0.14714342);\">intensely</span> <span style=\"background-color:rgba(135,206,250,0.19880252);\">mineral</span> <span style=\"background-color:rgba(135,206,250,0.15769276);\">-</span> <span style=\"background-color:rgba(135,206,250,0.24980189);\">textured</span> <span style=\"background-color:rgba(135,206,250,0.3066172);\">riesling</span> <span style=\"background-color:rgba(135,206,250,0.43142694);\">.</span>"
            ]
          },
          "metadata": {}
        },
        {
          "output_type": "stream",
          "name": "stdout",
          "text": [
            "it:   \t90.89%\n",
            "the:   \t3.21%\n",
            "dry:   \t0.92%\n",
            "while:   \t0.77%\n",
            "off:   \t0.59%\n",
            "--------\n",
            "\n"
          ]
        },
        {
          "output_type": "display_data",
          "data": {
            "text/plain": [
              "<IPython.core.display.HTML object>"
            ],
            "text/html": [
              "<span style=\"background-color:rgba(135,206,250,0.06616746);\">wine</span> <span style=\"background-color:rgba(135,206,250,0.0799128);\">review</span> <span style=\"background-color:rgba(135,206,250,0.09213211);\">:</span> <span style=\"background-color:rgba(135,206,250,0.1960002);\">germany</span> <span style=\"background-color:rgba(135,206,250,0.051824242);\">:</span> <span style=\"background-color:rgba(135,206,250,0.07902863);\">mosel</span> <span style=\"background-color:rgba(135,206,250,0.045321222);\">:</span> <span style=\"background-color:rgba(135,206,250,0.06359488);\">riesling</span> <span style=\"background-color:rgba(135,206,250,0.05651918);\">:</span> <span style=\"background-color:rgba(135,206,250,0.066849455);\">saffron</span> <span style=\"background-color:rgba(135,206,250,0.029303415);\">and</span> <span style=\"background-color:rgba(135,206,250,0.050181318);\">spice</span> <span style=\"background-color:rgba(135,206,250,0.081224106);\">notes</span> <span style=\"background-color:rgba(135,206,250,0.06580251);\">lend</span> <span style=\"background-color:rgba(135,206,250,0.029398996);\">a</span> <span style=\"background-color:rgba(135,206,250,0.046289418);\">savory</span> <span style=\"background-color:rgba(135,206,250,0.1001029);\">tone</span> <span style=\"background-color:rgba(135,206,250,0.048940435);\">to</span> <span style=\"background-color:rgba(135,206,250,0.04898265);\">this</span> <span style=\"background-color:rgba(135,206,250,0.07321613);\">intensely</span> <span style=\"background-color:rgba(135,206,250,0.089131676);\">mineral</span> <span style=\"background-color:rgba(135,206,250,0.059494946);\">-</span> <span style=\"background-color:rgba(135,206,250,0.19914266);\">textured</span> <span style=\"background-color:rgba(135,206,250,0.14426705);\">riesling</span> <span style=\"background-color:rgba(135,206,250,1.0);\">.</span> <span style=\"background-color:rgba(135,206,250,0.17695715);\">it</span>"
            ]
          },
          "metadata": {}
        },
        {
          "output_type": "stream",
          "name": "stdout",
          "text": [
            "':   \t99.99%\n",
            "is:   \t0.0%\n",
            "has:   \t0.0%\n",
            "balances:   \t0.0%\n",
            "drinks:   \t0.0%\n",
            "--------\n",
            "\n"
          ]
        },
        {
          "output_type": "display_data",
          "data": {
            "text/plain": [
              "<IPython.core.display.HTML object>"
            ],
            "text/html": [
              "<span style=\"background-color:rgba(135,206,250,0.13942704);\">wine</span> <span style=\"background-color:rgba(135,206,250,0.2168257);\">review</span> <span style=\"background-color:rgba(135,206,250,0.108060285);\">:</span> <span style=\"background-color:rgba(135,206,250,0.1610237);\">germany</span> <span style=\"background-color:rgba(135,206,250,0.0993455);\">:</span> <span style=\"background-color:rgba(135,206,250,0.12000006);\">mosel</span> <span style=\"background-color:rgba(135,206,250,0.07829027);\">:</span> <span style=\"background-color:rgba(135,206,250,0.16577867);\">riesling</span> <span style=\"background-color:rgba(135,206,250,0.10745142);\">:</span> <span style=\"background-color:rgba(135,206,250,0.1055526);\">saffron</span> <span style=\"background-color:rgba(135,206,250,0.055772446);\">and</span> <span style=\"background-color:rgba(135,206,250,0.04557455);\">spice</span> <span style=\"background-color:rgba(135,206,250,0.069504604);\">notes</span> <span style=\"background-color:rgba(135,206,250,0.08104204);\">lend</span> <span style=\"background-color:rgba(135,206,250,0.04566307);\">a</span> <span style=\"background-color:rgba(135,206,250,0.0413179);\">savory</span> <span style=\"background-color:rgba(135,206,250,0.07492186);\">tone</span> <span style=\"background-color:rgba(135,206,250,0.053043555);\">to</span> <span style=\"background-color:rgba(135,206,250,0.10703523);\">this</span> <span style=\"background-color:rgba(135,206,250,0.04492532);\">intensely</span> <span style=\"background-color:rgba(135,206,250,0.10759022);\">mineral</span> <span style=\"background-color:rgba(135,206,250,0.06542304);\">-</span> <span style=\"background-color:rgba(135,206,250,0.1992402);\">textured</span> <span style=\"background-color:rgba(135,206,250,0.27022073);\">riesling</span> <span style=\"background-color:rgba(135,206,250,0.89629835);\">.</span> <span style=\"background-color:rgba(135,206,250,1.0);\">it</span> <span style=\"background-color:rgba(135,206,250,0.17743522);\">'</span>"
            ]
          },
          "metadata": {}
        },
        {
          "output_type": "stream",
          "name": "stdout",
          "text": [
            "s:   \t100.0%\n",
            "ll:   \t0.0%\n",
            "11:   \t0.0%\n",
            "off:   \t0.0%\n",
            "[UNK]:   \t0.0%\n",
            "--------\n",
            "\n"
          ]
        },
        {
          "output_type": "display_data",
          "data": {
            "text/plain": [
              "<IPython.core.display.HTML object>"
            ],
            "text/html": [
              "<span style=\"background-color:rgba(135,206,250,0.1251716);\">wine</span> <span style=\"background-color:rgba(135,206,250,0.15490532);\">review</span> <span style=\"background-color:rgba(135,206,250,0.12088673);\">:</span> <span style=\"background-color:rgba(135,206,250,0.26833305);\">germany</span> <span style=\"background-color:rgba(135,206,250,0.09198998);\">:</span> <span style=\"background-color:rgba(135,206,250,0.2010643);\">mosel</span> <span style=\"background-color:rgba(135,206,250,0.08361537);\">:</span> <span style=\"background-color:rgba(135,206,250,0.2101845);\">riesling</span> <span style=\"background-color:rgba(135,206,250,0.12207289);\">:</span> <span style=\"background-color:rgba(135,206,250,0.13043094);\">saffron</span> <span style=\"background-color:rgba(135,206,250,0.065175876);\">and</span> <span style=\"background-color:rgba(135,206,250,0.068512924);\">spice</span> <span style=\"background-color:rgba(135,206,250,0.09242941);\">notes</span> <span style=\"background-color:rgba(135,206,250,0.07282357);\">lend</span> <span style=\"background-color:rgba(135,206,250,0.05262266);\">a</span> <span style=\"background-color:rgba(135,206,250,0.07069454);\">savory</span> <span style=\"background-color:rgba(135,206,250,0.10898877);\">tone</span> <span style=\"background-color:rgba(135,206,250,0.05919614);\">to</span> <span style=\"background-color:rgba(135,206,250,0.101893015);\">this</span> <span style=\"background-color:rgba(135,206,250,0.09285751);\">intensely</span> <span style=\"background-color:rgba(135,206,250,0.14705843);\">mineral</span> <span style=\"background-color:rgba(135,206,250,0.08526684);\">-</span> <span style=\"background-color:rgba(135,206,250,0.25096387);\">textured</span> <span style=\"background-color:rgba(135,206,250,0.25826964);\">riesling</span> <span style=\"background-color:rgba(135,206,250,1.0);\">.</span> <span style=\"background-color:rgba(135,206,250,0.94062954);\">it</span> <span style=\"background-color:rgba(135,206,250,0.17412809);\">'</span> <span style=\"background-color:rgba(135,206,250,0.20511945);\">s</span>"
            ]
          },
          "metadata": {}
        },
        {
          "output_type": "stream",
          "name": "stdout",
          "text": [
            "intensely:   \t31.29%\n",
            "dry:   \t16.31%\n",
            "juicy:   \t7.84%\n",
            "off:   \t5.67%\n",
            "a:   \t5.05%\n",
            "--------\n",
            "\n"
          ]
        },
        {
          "output_type": "display_data",
          "data": {
            "text/plain": [
              "<IPython.core.display.HTML object>"
            ],
            "text/html": [
              "<span style=\"background-color:rgba(135,206,250,0.5866335);\">wine</span> <span style=\"background-color:rgba(135,206,250,0.7852594);\">review</span> <span style=\"background-color:rgba(135,206,250,0.6297407);\">:</span> <span style=\"background-color:rgba(135,206,250,0.44828746);\">germany</span> <span style=\"background-color:rgba(135,206,250,0.6454478);\">:</span> <span style=\"background-color:rgba(135,206,250,0.51971376);\">mosel</span> <span style=\"background-color:rgba(135,206,250,0.45773116);\">:</span> <span style=\"background-color:rgba(135,206,250,0.718914);\">riesling</span> <span style=\"background-color:rgba(135,206,250,0.424406);\">:</span> <span style=\"background-color:rgba(135,206,250,0.30714598);\">saffron</span> <span style=\"background-color:rgba(135,206,250,0.22876896);\">and</span> <span style=\"background-color:rgba(135,206,250,0.23802221);\">spice</span> <span style=\"background-color:rgba(135,206,250,0.21093176);\">notes</span> <span style=\"background-color:rgba(135,206,250,0.1551856);\">lend</span> <span style=\"background-color:rgba(135,206,250,0.17908233);\">a</span> <span style=\"background-color:rgba(135,206,250,0.20448972);\">savory</span> <span style=\"background-color:rgba(135,206,250,0.18034267);\">tone</span> <span style=\"background-color:rgba(135,206,250,0.2275715);\">to</span> <span style=\"background-color:rgba(135,206,250,0.22050959);\">this</span> <span style=\"background-color:rgba(135,206,250,0.13078777);\">intensely</span> <span style=\"background-color:rgba(135,206,250,0.4345364);\">mineral</span> <span style=\"background-color:rgba(135,206,250,0.22631885);\">-</span> <span style=\"background-color:rgba(135,206,250,0.523966);\">textured</span> <span style=\"background-color:rgba(135,206,250,0.67252505);\">riesling</span> <span style=\"background-color:rgba(135,206,250,0.9309741);\">.</span> <span style=\"background-color:rgba(135,206,250,0.9019903);\">it</span> <span style=\"background-color:rgba(135,206,250,0.57366616);\">'</span> <span style=\"background-color:rgba(135,206,250,1.0);\">s</span> <span style=\"background-color:rgba(135,206,250,0.58558905);\">lavishly</span>"
            ]
          },
          "metadata": {}
        },
        {
          "output_type": "stream",
          "name": "stdout",
          "text": [
            "textured:   \t38.31%\n",
            "aromatic:   \t24.3%\n",
            "fruity:   \t14.21%\n",
            "perfumed:   \t9.15%\n",
            "sweet:   \t5.7%\n",
            "--------\n",
            "\n"
          ]
        },
        {
          "output_type": "display_data",
          "data": {
            "text/plain": [
              "<IPython.core.display.HTML object>"
            ],
            "text/html": [
              "<span style=\"background-color:rgba(135,206,250,0.1642993);\">wine</span> <span style=\"background-color:rgba(135,206,250,0.2681296);\">review</span> <span style=\"background-color:rgba(135,206,250,0.13167235);\">:</span> <span style=\"background-color:rgba(135,206,250,0.27913606);\">germany</span> <span style=\"background-color:rgba(135,206,250,0.14624032);\">:</span> <span style=\"background-color:rgba(135,206,250,0.17365512);\">mosel</span> <span style=\"background-color:rgba(135,206,250,0.099197514);\">:</span> <span style=\"background-color:rgba(135,206,250,0.29791498);\">riesling</span> <span style=\"background-color:rgba(135,206,250,0.15705493);\">:</span> <span style=\"background-color:rgba(135,206,250,0.12960704);\">saffron</span> <span style=\"background-color:rgba(135,206,250,0.07872684);\">and</span> <span style=\"background-color:rgba(135,206,250,0.07321569);\">spice</span> <span style=\"background-color:rgba(135,206,250,0.09079093);\">notes</span> <span style=\"background-color:rgba(135,206,250,0.08612209);\">lend</span> <span style=\"background-color:rgba(135,206,250,0.06978708);\">a</span> <span style=\"background-color:rgba(135,206,250,0.03792539);\">savory</span> <span style=\"background-color:rgba(135,206,250,0.08896932);\">tone</span> <span style=\"background-color:rgba(135,206,250,0.065575704);\">to</span> <span style=\"background-color:rgba(135,206,250,0.11998448);\">this</span> <span style=\"background-color:rgba(135,206,250,0.060832296);\">intensely</span> <span style=\"background-color:rgba(135,206,250,0.10683644);\">mineral</span> <span style=\"background-color:rgba(135,206,250,0.04793344);\">-</span> <span style=\"background-color:rgba(135,206,250,0.13029993);\">textured</span> <span style=\"background-color:rgba(135,206,250,0.29023573);\">riesling</span> <span style=\"background-color:rgba(135,206,250,1.0);\">.</span> <span style=\"background-color:rgba(135,206,250,0.5519616);\">it</span> <span style=\"background-color:rgba(135,206,250,0.21276851);\">'</span> <span style=\"background-color:rgba(135,206,250,0.69081527);\">s</span> <span style=\"background-color:rgba(135,206,250,0.8674404);\">lavishly</span> <span style=\"background-color:rgba(135,206,250,0.19161123);\">aromatic</span>"
            ]
          },
          "metadata": {}
        },
        {
          "output_type": "stream",
          "name": "stdout",
          "text": [
            ",:   \t66.36%\n",
            "with:   \t28.79%\n",
            "in:   \t2.34%\n",
            "and:   \t2.0%\n",
            "on:   \t0.45%\n",
            "--------\n",
            "\n"
          ]
        },
        {
          "output_type": "display_data",
          "data": {
            "text/plain": [
              "<IPython.core.display.HTML object>"
            ],
            "text/html": [
              "<span style=\"background-color:rgba(135,206,250,0.08101758);\">wine</span> <span style=\"background-color:rgba(135,206,250,0.12157593);\">review</span> <span style=\"background-color:rgba(135,206,250,0.111532554);\">:</span> <span style=\"background-color:rgba(135,206,250,0.30842453);\">germany</span> <span style=\"background-color:rgba(135,206,250,0.08014709);\">:</span> <span style=\"background-color:rgba(135,206,250,0.1614924);\">mosel</span> <span style=\"background-color:rgba(135,206,250,0.05776643);\">:</span> <span style=\"background-color:rgba(135,206,250,0.23533668);\">riesling</span> <span style=\"background-color:rgba(135,206,250,0.0913822);\">:</span> <span style=\"background-color:rgba(135,206,250,0.116167516);\">saffron</span> <span style=\"background-color:rgba(135,206,250,0.0465006);\">and</span> <span style=\"background-color:rgba(135,206,250,0.08789121);\">spice</span> <span style=\"background-color:rgba(135,206,250,0.10690349);\">notes</span> <span style=\"background-color:rgba(135,206,250,0.044231433);\">lend</span> <span style=\"background-color:rgba(135,206,250,0.0368421);\">a</span> <span style=\"background-color:rgba(135,206,250,0.072016284);\">savory</span> <span style=\"background-color:rgba(135,206,250,0.08885456);\">tone</span> <span style=\"background-color:rgba(135,206,250,0.031256825);\">to</span> <span style=\"background-color:rgba(135,206,250,0.07290621);\">this</span> <span style=\"background-color:rgba(135,206,250,0.069186874);\">intensely</span> <span style=\"background-color:rgba(135,206,250,0.11581565);\">mineral</span> <span style=\"background-color:rgba(135,206,250,0.03625001);\">-</span> <span style=\"background-color:rgba(135,206,250,0.18806902);\">textured</span> <span style=\"background-color:rgba(135,206,250,0.122645155);\">riesling</span> <span style=\"background-color:rgba(135,206,250,0.39455026);\">.</span> <span style=\"background-color:rgba(135,206,250,0.15949698);\">it</span> <span style=\"background-color:rgba(135,206,250,0.08501993);\">'</span> <span style=\"background-color:rgba(135,206,250,0.1662901);\">s</span> <span style=\"background-color:rgba(135,206,250,0.6459363);\">lavishly</span> <span style=\"background-color:rgba(135,206,250,1.0);\">aromatic</span> <span style=\"background-color:rgba(135,206,250,0.5188391);\">with</span>"
            ]
          },
          "metadata": {}
        },
        {
          "output_type": "stream",
          "name": "stdout",
          "text": [
            "notes:   \t63.2%\n",
            "honey:   \t12.87%\n",
            "sweet:   \t5.39%\n",
            "loads:   \t3.6%\n",
            "ripe:   \t2.29%\n",
            "--------\n",
            "\n"
          ]
        },
        {
          "output_type": "display_data",
          "data": {
            "text/plain": [
              "<IPython.core.display.HTML object>"
            ],
            "text/html": [
              "<span style=\"background-color:rgba(135,206,250,0.0758118);\">wine</span> <span style=\"background-color:rgba(135,206,250,0.10930232);\">review</span> <span style=\"background-color:rgba(135,206,250,0.10357531);\">:</span> <span style=\"background-color:rgba(135,206,250,0.19189659);\">germany</span> <span style=\"background-color:rgba(135,206,250,0.071167216);\">:</span> <span style=\"background-color:rgba(135,206,250,0.039959475);\">mosel</span> <span style=\"background-color:rgba(135,206,250,0.052878648);\">:</span> <span style=\"background-color:rgba(135,206,250,0.0420992);\">riesling</span> <span style=\"background-color:rgba(135,206,250,0.053903483);\">:</span> <span style=\"background-color:rgba(135,206,250,0.03370481);\">saffron</span> <span style=\"background-color:rgba(135,206,250,0.02543296);\">and</span> <span style=\"background-color:rgba(135,206,250,0.03184711);\">spice</span> <span style=\"background-color:rgba(135,206,250,0.05002096);\">notes</span> <span style=\"background-color:rgba(135,206,250,0.08223652);\">lend</span> <span style=\"background-color:rgba(135,206,250,0.0317677);\">a</span> <span style=\"background-color:rgba(135,206,250,0.024686353);\">savory</span> <span style=\"background-color:rgba(135,206,250,0.048023272);\">tone</span> <span style=\"background-color:rgba(135,206,250,0.041047085);\">to</span> <span style=\"background-color:rgba(135,206,250,0.056796066);\">this</span> <span style=\"background-color:rgba(135,206,250,0.027154477);\">intensely</span> <span style=\"background-color:rgba(135,206,250,0.03022847);\">mineral</span> <span style=\"background-color:rgba(135,206,250,0.030749004);\">-</span> <span style=\"background-color:rgba(135,206,250,0.06896701);\">textured</span> <span style=\"background-color:rgba(135,206,250,0.047560684);\">riesling</span> <span style=\"background-color:rgba(135,206,250,0.31417125);\">.</span> <span style=\"background-color:rgba(135,206,250,0.17448069);\">it</span> <span style=\"background-color:rgba(135,206,250,0.06882691);\">'</span> <span style=\"background-color:rgba(135,206,250,0.19714153);\">s</span> <span style=\"background-color:rgba(135,206,250,0.25272363);\">lavishly</span> <span style=\"background-color:rgba(135,206,250,0.21170616);\">aromatic</span> <span style=\"background-color:rgba(135,206,250,1.0);\">with</span> <span style=\"background-color:rgba(135,206,250,0.18774676);\">honey</span>"
            ]
          },
          "metadata": {}
        },
        {
          "output_type": "stream",
          "name": "stdout",
          "text": [
            "and:   \t78.78%\n",
            ",:   \t20.04%\n",
            "notes:   \t0.67%\n",
            "-:   \t0.24%\n",
            "flavors:   \t0.19%\n",
            "--------\n",
            "\n"
          ]
        },
        {
          "output_type": "display_data",
          "data": {
            "text/plain": [
              "<IPython.core.display.HTML object>"
            ],
            "text/html": [
              "<span style=\"background-color:rgba(135,206,250,0.05025784);\">wine</span> <span style=\"background-color:rgba(135,206,250,0.077536635);\">review</span> <span style=\"background-color:rgba(135,206,250,0.05797599);\">:</span> <span style=\"background-color:rgba(135,206,250,0.21879742);\">germany</span> <span style=\"background-color:rgba(135,206,250,0.047403768);\">:</span> <span style=\"background-color:rgba(135,206,250,0.09977945);\">mosel</span> <span style=\"background-color:rgba(135,206,250,0.034427673);\">:</span> <span style=\"background-color:rgba(135,206,250,0.144036);\">riesling</span> <span style=\"background-color:rgba(135,206,250,0.054061934);\">:</span> <span style=\"background-color:rgba(135,206,250,0.062130626);\">saffron</span> <span style=\"background-color:rgba(135,206,250,0.023267087);\">and</span> <span style=\"background-color:rgba(135,206,250,0.038907304);\">spice</span> <span style=\"background-color:rgba(135,206,250,0.049445808);\">notes</span> <span style=\"background-color:rgba(135,206,250,0.03396043);\">lend</span> <span style=\"background-color:rgba(135,206,250,0.016705649);\">a</span> <span style=\"background-color:rgba(135,206,250,0.03698676);\">savory</span> <span style=\"background-color:rgba(135,206,250,0.046758093);\">tone</span> <span style=\"background-color:rgba(135,206,250,0.016097289);\">to</span> <span style=\"background-color:rgba(135,206,250,0.031249573);\">this</span> <span style=\"background-color:rgba(135,206,250,0.040501162);\">intensely</span> <span style=\"background-color:rgba(135,206,250,0.05180006);\">mineral</span> <span style=\"background-color:rgba(135,206,250,0.016018862);\">-</span> <span style=\"background-color:rgba(135,206,250,0.06953309);\">textured</span> <span style=\"background-color:rgba(135,206,250,0.0684928);\">riesling</span> <span style=\"background-color:rgba(135,206,250,0.12453392);\">.</span> <span style=\"background-color:rgba(135,206,250,0.061010763);\">it</span> <span style=\"background-color:rgba(135,206,250,0.029116658);\">'</span> <span style=\"background-color:rgba(135,206,250,0.09187015);\">s</span> <span style=\"background-color:rgba(135,206,250,0.20046873);\">lavishly</span> <span style=\"background-color:rgba(135,206,250,0.1658992);\">aromatic</span> <span style=\"background-color:rgba(135,206,250,0.4830239);\">with</span> <span style=\"background-color:rgba(135,206,250,1.0);\">honey</span> <span style=\"background-color:rgba(135,206,250,0.17698772);\">and</span>"
            ]
          },
          "metadata": {}
        },
        {
          "output_type": "stream",
          "name": "stdout",
          "text": [
            "marmalade:   \t45.27%\n",
            "lemon:   \t13.77%\n",
            "tangerine:   \t12.97%\n",
            "peach:   \t10.09%\n",
            "spice:   \t2.23%\n",
            "--------\n",
            "\n"
          ]
        },
        {
          "output_type": "display_data",
          "data": {
            "text/plain": [
              "<IPython.core.display.HTML object>"
            ],
            "text/html": [
              "<span style=\"background-color:rgba(135,206,250,0.081322275);\">wine</span> <span style=\"background-color:rgba(135,206,250,0.11367536);\">review</span> <span style=\"background-color:rgba(135,206,250,0.1393335);\">:</span> <span style=\"background-color:rgba(135,206,250,0.23099074);\">germany</span> <span style=\"background-color:rgba(135,206,250,0.10329856);\">:</span> <span style=\"background-color:rgba(135,206,250,0.048804622);\">mosel</span> <span style=\"background-color:rgba(135,206,250,0.069408335);\">:</span> <span style=\"background-color:rgba(135,206,250,0.057489045);\">riesling</span> <span style=\"background-color:rgba(135,206,250,0.08019616);\">:</span> <span style=\"background-color:rgba(135,206,250,0.043930028);\">saffron</span> <span style=\"background-color:rgba(135,206,250,0.03958829);\">and</span> <span style=\"background-color:rgba(135,206,250,0.05810658);\">spice</span> <span style=\"background-color:rgba(135,206,250,0.0936679);\">notes</span> <span style=\"background-color:rgba(135,206,250,0.094930924);\">lend</span> <span style=\"background-color:rgba(135,206,250,0.05964256);\">a</span> <span style=\"background-color:rgba(135,206,250,0.036481638);\">savory</span> <span style=\"background-color:rgba(135,206,250,0.07285485);\">tone</span> <span style=\"background-color:rgba(135,206,250,0.0684252);\">to</span> <span style=\"background-color:rgba(135,206,250,0.09196994);\">this</span> <span style=\"background-color:rgba(135,206,250,0.042292275);\">intensely</span> <span style=\"background-color:rgba(135,206,250,0.038894698);\">mineral</span> <span style=\"background-color:rgba(135,206,250,0.036870014);\">-</span> <span style=\"background-color:rgba(135,206,250,0.084497996);\">textured</span> <span style=\"background-color:rgba(135,206,250,0.073907);\">riesling</span> <span style=\"background-color:rgba(135,206,250,0.35325992);\">.</span> <span style=\"background-color:rgba(135,206,250,0.22573623);\">it</span> <span style=\"background-color:rgba(135,206,250,0.07305032);\">'</span> <span style=\"background-color:rgba(135,206,250,0.31080708);\">s</span> <span style=\"background-color:rgba(135,206,250,0.20557441);\">lavishly</span> <span style=\"background-color:rgba(135,206,250,0.2288067);\">aromatic</span> <span style=\"background-color:rgba(135,206,250,1.0);\">with</span> <span style=\"background-color:rgba(135,206,250,0.26741916);\">honey</span> <span style=\"background-color:rgba(135,206,250,0.75896335);\">and</span> <span style=\"background-color:rgba(135,206,250,0.35714966);\">tangerine</span>"
            ]
          },
          "metadata": {}
        },
        {
          "output_type": "stream",
          "name": "stdout",
          "text": [
            "flavors:   \t98.22%\n",
            "flavor:   \t0.65%\n",
            "-:   \t0.4%\n",
            "acidity:   \t0.3%\n",
            "notes:   \t0.19%\n",
            "--------\n",
            "\n"
          ]
        },
        {
          "output_type": "display_data",
          "data": {
            "text/plain": [
              "<IPython.core.display.HTML object>"
            ],
            "text/html": [
              "<span style=\"background-color:rgba(135,206,250,0.073957995);\">wine</span> <span style=\"background-color:rgba(135,206,250,0.13023156);\">review</span> <span style=\"background-color:rgba(135,206,250,0.13998196);\">:</span> <span style=\"background-color:rgba(135,206,250,0.23611829);\">germany</span> <span style=\"background-color:rgba(135,206,250,0.082913116);\">:</span> <span style=\"background-color:rgba(135,206,250,0.064371064);\">mosel</span> <span style=\"background-color:rgba(135,206,250,0.06838322);\">:</span> <span style=\"background-color:rgba(135,206,250,0.066060394);\">riesling</span> <span style=\"background-color:rgba(135,206,250,0.06918293);\">:</span> <span style=\"background-color:rgba(135,206,250,0.04725331);\">saffron</span> <span style=\"background-color:rgba(135,206,250,0.037746914);\">and</span> <span style=\"background-color:rgba(135,206,250,0.04291636);\">spice</span> <span style=\"background-color:rgba(135,206,250,0.04812384);\">notes</span> <span style=\"background-color:rgba(135,206,250,0.10511738);\">lend</span> <span style=\"background-color:rgba(135,206,250,0.027618479);\">a</span> <span style=\"background-color:rgba(135,206,250,0.028031973);\">savory</span> <span style=\"background-color:rgba(135,206,250,0.08611179);\">tone</span> <span style=\"background-color:rgba(135,206,250,0.046268992);\">to</span> <span style=\"background-color:rgba(135,206,250,0.07487749);\">this</span> <span style=\"background-color:rgba(135,206,250,0.04304758);\">intensely</span> <span style=\"background-color:rgba(135,206,250,0.046840526);\">mineral</span> <span style=\"background-color:rgba(135,206,250,0.027884595);\">-</span> <span style=\"background-color:rgba(135,206,250,0.06964207);\">textured</span> <span style=\"background-color:rgba(135,206,250,0.070529185);\">riesling</span> <span style=\"background-color:rgba(135,206,250,0.4331461);\">.</span> <span style=\"background-color:rgba(135,206,250,0.19121127);\">it</span> <span style=\"background-color:rgba(135,206,250,0.124938935);\">'</span> <span style=\"background-color:rgba(135,206,250,0.14464544);\">s</span> <span style=\"background-color:rgba(135,206,250,0.31910455);\">lavishly</span> <span style=\"background-color:rgba(135,206,250,0.11538113);\">aromatic</span> <span style=\"background-color:rgba(135,206,250,1.0);\">with</span> <span style=\"background-color:rgba(135,206,250,0.32458872);\">honey</span> <span style=\"background-color:rgba(135,206,250,0.4515589);\">and</span> <span style=\"background-color:rgba(135,206,250,0.49387124);\">tangerine</span> <span style=\"background-color:rgba(135,206,250,0.2793341);\">flavors</span>"
            ]
          },
          "metadata": {}
        },
        {
          "output_type": "stream",
          "name": "stdout",
          "text": [
            "that:   \t74.01%\n",
            ".:   \t13.57%\n",
            ",:   \t11.16%\n",
            "on:   \t0.62%\n",
            "of:   \t0.34%\n",
            "--------\n",
            "\n"
          ]
        },
        {
          "output_type": "display_data",
          "data": {
            "text/plain": [
              "<IPython.core.display.HTML object>"
            ],
            "text/html": [
              "<span style=\"background-color:rgba(135,206,250,0.51250565);\">wine</span> <span style=\"background-color:rgba(135,206,250,0.86918014);\">review</span> <span style=\"background-color:rgba(135,206,250,0.49065173);\">:</span> <span style=\"background-color:rgba(135,206,250,1.0);\">germany</span> <span style=\"background-color:rgba(135,206,250,0.45331445);\">:</span> <span style=\"background-color:rgba(135,206,250,0.39735344);\">mosel</span> <span style=\"background-color:rgba(135,206,250,0.38282242);\">:</span> <span style=\"background-color:rgba(135,206,250,0.5132477);\">riesling</span> <span style=\"background-color:rgba(135,206,250,0.33422744);\">:</span> <span style=\"background-color:rgba(135,206,250,0.30996957);\">saffron</span> <span style=\"background-color:rgba(135,206,250,0.198643);\">and</span> <span style=\"background-color:rgba(135,206,250,0.1755762);\">spice</span> <span style=\"background-color:rgba(135,206,250,0.25842306);\">notes</span> <span style=\"background-color:rgba(135,206,250,0.20603359);\">lend</span> <span style=\"background-color:rgba(135,206,250,0.12802473);\">a</span> <span style=\"background-color:rgba(135,206,250,0.1421676);\">savory</span> <span style=\"background-color:rgba(135,206,250,0.21374287);\">tone</span> <span style=\"background-color:rgba(135,206,250,0.1092314);\">to</span> <span style=\"background-color:rgba(135,206,250,0.28982502);\">this</span> <span style=\"background-color:rgba(135,206,250,0.1293053);\">intensely</span> <span style=\"background-color:rgba(135,206,250,0.18050417);\">mineral</span> <span style=\"background-color:rgba(135,206,250,0.10790406);\">-</span> <span style=\"background-color:rgba(135,206,250,0.21615912);\">textured</span> <span style=\"background-color:rgba(135,206,250,0.24780753);\">riesling</span> <span style=\"background-color:rgba(135,206,250,0.39647922);\">.</span> <span style=\"background-color:rgba(135,206,250,0.2333245);\">it</span> <span style=\"background-color:rgba(135,206,250,0.14123303);\">'</span> <span style=\"background-color:rgba(135,206,250,0.18113248);\">s</span> <span style=\"background-color:rgba(135,206,250,0.3012457);\">lavishly</span> <span style=\"background-color:rgba(135,206,250,0.21610649);\">aromatic</span> <span style=\"background-color:rgba(135,206,250,0.2934972);\">with</span> <span style=\"background-color:rgba(135,206,250,0.27524728);\">honey</span> <span style=\"background-color:rgba(135,206,250,0.21371897);\">and</span> <span style=\"background-color:rgba(135,206,250,0.3635023);\">tangerine</span> <span style=\"background-color:rgba(135,206,250,0.44554067);\">flavors</span> <span style=\"background-color:rgba(135,206,250,0.51020616);\">.</span>"
            ]
          },
          "metadata": {}
        },
        {
          "output_type": "stream",
          "name": "stdout",
          "text": [
            "it:   \t83.99%\n",
            "the:   \t5.75%\n",
            "a:   \t3.35%\n",
            ":   \t3.3%\n",
            "finishes:   \t0.66%\n",
            "--------\n",
            "\n"
          ]
        },
        {
          "output_type": "display_data",
          "data": {
            "text/plain": [
              "<IPython.core.display.HTML object>"
            ],
            "text/html": [
              "<span style=\"background-color:rgba(135,206,250,0.03443767);\">wine</span> <span style=\"background-color:rgba(135,206,250,0.0434392);\">review</span> <span style=\"background-color:rgba(135,206,250,0.05210524);\">:</span> <span style=\"background-color:rgba(135,206,250,0.17628731);\">germany</span> <span style=\"background-color:rgba(135,206,250,0.03412073);\">:</span> <span style=\"background-color:rgba(135,206,250,0.062873);\">mosel</span> <span style=\"background-color:rgba(135,206,250,0.028216934);\">:</span> <span style=\"background-color:rgba(135,206,250,0.049428083);\">riesling</span> <span style=\"background-color:rgba(135,206,250,0.033719525);\">:</span> <span style=\"background-color:rgba(135,206,250,0.039176024);\">saffron</span> <span style=\"background-color:rgba(135,206,250,0.016751256);\">and</span> <span style=\"background-color:rgba(135,206,250,0.029638356);\">spice</span> <span style=\"background-color:rgba(135,206,250,0.04381557);\">notes</span> <span style=\"background-color:rgba(135,206,250,0.023700071);\">lend</span> <span style=\"background-color:rgba(135,206,250,0.012358927);\">a</span> <span style=\"background-color:rgba(135,206,250,0.024872445);\">savory</span> <span style=\"background-color:rgba(135,206,250,0.051064637);\">tone</span> <span style=\"background-color:rgba(135,206,250,0.013090226);\">to</span> <span style=\"background-color:rgba(135,206,250,0.01721113);\">this</span> <span style=\"background-color:rgba(135,206,250,0.036128283);\">intensely</span> <span style=\"background-color:rgba(135,206,250,0.028504053);\">mineral</span> <span style=\"background-color:rgba(135,206,250,0.011099627);\">-</span> <span style=\"background-color:rgba(135,206,250,0.051149692);\">textured</span> <span style=\"background-color:rgba(135,206,250,0.025148503);\">riesling</span> <span style=\"background-color:rgba(135,206,250,0.06162037);\">.</span> <span style=\"background-color:rgba(135,206,250,0.024001798);\">it</span> <span style=\"background-color:rgba(135,206,250,0.014652885);\">'</span> <span style=\"background-color:rgba(135,206,250,0.032782968);\">s</span> <span style=\"background-color:rgba(135,206,250,0.13390374);\">lavishly</span> <span style=\"background-color:rgba(135,206,250,0.051108494);\">aromatic</span> <span style=\"background-color:rgba(135,206,250,0.1039042);\">with</span> <span style=\"background-color:rgba(135,206,250,0.07714366);\">honey</span> <span style=\"background-color:rgba(135,206,250,0.080843486);\">and</span> <span style=\"background-color:rgba(135,206,250,0.1409614);\">tangerine</span> <span style=\"background-color:rgba(135,206,250,0.2018806);\">flavors</span> <span style=\"background-color:rgba(135,206,250,1.0);\">.</span> <span style=\"background-color:rgba(135,206,250,0.18862662);\">it</span>"
            ]
          },
          "metadata": {}
        },
        {
          "output_type": "stream",
          "name": "stdout",
          "text": [
            "':   \t99.96%\n",
            "finishes:   \t0.02%\n",
            "is:   \t0.01%\n",
            "has:   \t0.0%\n",
            "penetrates:   \t0.0%\n",
            "--------\n",
            "\n"
          ]
        },
        {
          "output_type": "display_data",
          "data": {
            "text/plain": [
              "<IPython.core.display.HTML object>"
            ],
            "text/html": [
              "<span style=\"background-color:rgba(135,206,250,0.087518364);\">wine</span> <span style=\"background-color:rgba(135,206,250,0.15407667);\">review</span> <span style=\"background-color:rgba(135,206,250,0.07624659);\">:</span> <span style=\"background-color:rgba(135,206,250,0.16024287);\">germany</span> <span style=\"background-color:rgba(135,206,250,0.08189818);\">:</span> <span style=\"background-color:rgba(135,206,250,0.11376476);\">mosel</span> <span style=\"background-color:rgba(135,206,250,0.0587574);\">:</span> <span style=\"background-color:rgba(135,206,250,0.15655904);\">riesling</span> <span style=\"background-color:rgba(135,206,250,0.07623177);\">:</span> <span style=\"background-color:rgba(135,206,250,0.07123396);\">saffron</span> <span style=\"background-color:rgba(135,206,250,0.037873495);\">and</span> <span style=\"background-color:rgba(135,206,250,0.028653946);\">spice</span> <span style=\"background-color:rgba(135,206,250,0.039865375);\">notes</span> <span style=\"background-color:rgba(135,206,250,0.035671815);\">lend</span> <span style=\"background-color:rgba(135,206,250,0.024701245);\">a</span> <span style=\"background-color:rgba(135,206,250,0.023357965);\">savory</span> <span style=\"background-color:rgba(135,206,250,0.039326888);\">tone</span> <span style=\"background-color:rgba(135,206,250,0.020290416);\">to</span> <span style=\"background-color:rgba(135,206,250,0.041209146);\">this</span> <span style=\"background-color:rgba(135,206,250,0.018455282);\">intensely</span> <span style=\"background-color:rgba(135,206,250,0.03653777);\">mineral</span> <span style=\"background-color:rgba(135,206,250,0.016507821);\">-</span> <span style=\"background-color:rgba(135,206,250,0.04863695);\">textured</span> <span style=\"background-color:rgba(135,206,250,0.061793473);\">riesling</span> <span style=\"background-color:rgba(135,206,250,0.11503673);\">.</span> <span style=\"background-color:rgba(135,206,250,0.059680536);\">it</span> <span style=\"background-color:rgba(135,206,250,0.022572016);\">'</span> <span style=\"background-color:rgba(135,206,250,0.053399313);\">s</span> <span style=\"background-color:rgba(135,206,250,0.08149952);\">lavishly</span> <span style=\"background-color:rgba(135,206,250,0.05258184);\">aromatic</span> <span style=\"background-color:rgba(135,206,250,0.12706585);\">with</span> <span style=\"background-color:rgba(135,206,250,0.13221711);\">honey</span> <span style=\"background-color:rgba(135,206,250,0.16115162);\">and</span> <span style=\"background-color:rgba(135,206,250,0.1881363);\">tangerine</span> <span style=\"background-color:rgba(135,206,250,0.31212935);\">flavors</span> <span style=\"background-color:rgba(135,206,250,0.95089644);\">.</span> <span style=\"background-color:rgba(135,206,250,1.0);\">it</span> <span style=\"background-color:rgba(135,206,250,0.1302893);\">'</span>"
            ]
          },
          "metadata": {}
        },
        {
          "output_type": "stream",
          "name": "stdout",
          "text": [
            "s:   \t100.0%\n",
            "ll:   \t0.0%\n",
            "11:   \t0.0%\n",
            "re:   \t0.0%\n",
            "[UNK]:   \t0.0%\n",
            "--------\n",
            "\n"
          ]
        },
        {
          "output_type": "display_data",
          "data": {
            "text/plain": [
              "<IPython.core.display.HTML object>"
            ],
            "text/html": [
              "<span style=\"background-color:rgba(135,206,250,0.061937746);\">wine</span> <span style=\"background-color:rgba(135,206,250,0.08206432);\">review</span> <span style=\"background-color:rgba(135,206,250,0.06250868);\">:</span> <span style=\"background-color:rgba(135,206,250,0.22599968);\">germany</span> <span style=\"background-color:rgba(135,206,250,0.05716077);\">:</span> <span style=\"background-color:rgba(135,206,250,0.15579002);\">mosel</span> <span style=\"background-color:rgba(135,206,250,0.046529222);\">:</span> <span style=\"background-color:rgba(135,206,250,0.15436837);\">riesling</span> <span style=\"background-color:rgba(135,206,250,0.06893615);\">:</span> <span style=\"background-color:rgba(135,206,250,0.0763182);\">saffron</span> <span style=\"background-color:rgba(135,206,250,0.03555208);\">and</span> <span style=\"background-color:rgba(135,206,250,0.041528195);\">spice</span> <span style=\"background-color:rgba(135,206,250,0.05150718);\">notes</span> <span style=\"background-color:rgba(135,206,250,0.023566123);\">lend</span> <span style=\"background-color:rgba(135,206,250,0.022705024);\">a</span> <span style=\"background-color:rgba(135,206,250,0.041139983);\">savory</span> <span style=\"background-color:rgba(135,206,250,0.054890968);\">tone</span> <span style=\"background-color:rgba(135,206,250,0.016517134);\">to</span> <span style=\"background-color:rgba(135,206,250,0.033474896);\">this</span> <span style=\"background-color:rgba(135,206,250,0.051452026);\">intensely</span> <span style=\"background-color:rgba(135,206,250,0.05827478);\">mineral</span> <span style=\"background-color:rgba(135,206,250,0.017854985);\">-</span> <span style=\"background-color:rgba(135,206,250,0.08191033);\">textured</span> <span style=\"background-color:rgba(135,206,250,0.06243334);\">riesling</span> <span style=\"background-color:rgba(135,206,250,0.09067624);\">.</span> <span style=\"background-color:rgba(135,206,250,0.040839408);\">it</span> <span style=\"background-color:rgba(135,206,250,0.023326151);\">'</span> <span style=\"background-color:rgba(135,206,250,0.03540271);\">s</span> <span style=\"background-color:rgba(135,206,250,0.16635741);\">lavishly</span> <span style=\"background-color:rgba(135,206,250,0.071011774);\">aromatic</span> <span style=\"background-color:rgba(135,206,250,0.14265843);\">with</span> <span style=\"background-color:rgba(135,206,250,0.11974475);\">honey</span> <span style=\"background-color:rgba(135,206,250,0.114431456);\">and</span> <span style=\"background-color:rgba(135,206,250,0.16465664);\">tangerine</span> <span style=\"background-color:rgba(135,206,250,0.21397547);\">flavors</span> <span style=\"background-color:rgba(135,206,250,1.0);\">.</span> <span style=\"background-color:rgba(135,206,250,0.8306336);\">it</span> <span style=\"background-color:rgba(135,206,250,0.12302255);\">'</span> <span style=\"background-color:rgba(135,206,250,0.19262606);\">s</span>"
            ]
          },
          "metadata": {}
        },
        {
          "output_type": "stream",
          "name": "stdout",
          "text": [
            "a:   \t45.84%\n",
            "concentrated:   \t9.87%\n",
            "intensely:   \t7.67%\n",
            "lusciously:   \t4.58%\n",
            "lavishly:   \t3.81%\n",
            "--------\n",
            "\n"
          ]
        },
        {
          "output_type": "display_data",
          "data": {
            "text/plain": [
              "<IPython.core.display.HTML object>"
            ],
            "text/html": [
              "<span style=\"background-color:rgba(135,206,250,0.06338088);\">wine</span> <span style=\"background-color:rgba(135,206,250,0.09046495);\">review</span> <span style=\"background-color:rgba(135,206,250,0.06421827);\">:</span> <span style=\"background-color:rgba(135,206,250,0.2299077);\">germany</span> <span style=\"background-color:rgba(135,206,250,0.064787924);\">:</span> <span style=\"background-color:rgba(135,206,250,0.13876441);\">mosel</span> <span style=\"background-color:rgba(135,206,250,0.053906992);\">:</span> <span style=\"background-color:rgba(135,206,250,0.31272152);\">riesling</span> <span style=\"background-color:rgba(135,206,250,0.075376265);\">:</span> <span style=\"background-color:rgba(135,206,250,0.07684796);\">saffron</span> <span style=\"background-color:rgba(135,206,250,0.037688047);\">and</span> <span style=\"background-color:rgba(135,206,250,0.03374611);\">spice</span> <span style=\"background-color:rgba(135,206,250,0.042512);\">notes</span> <span style=\"background-color:rgba(135,206,250,0.027970089);\">lend</span> <span style=\"background-color:rgba(135,206,250,0.014850239);\">a</span> <span style=\"background-color:rgba(135,206,250,0.019244391);\">savory</span> <span style=\"background-color:rgba(135,206,250,0.047300637);\">tone</span> <span style=\"background-color:rgba(135,206,250,0.014841767);\">to</span> <span style=\"background-color:rgba(135,206,250,0.025948593);\">this</span> <span style=\"background-color:rgba(135,206,250,0.024205461);\">intensely</span> <span style=\"background-color:rgba(135,206,250,0.037623808);\">mineral</span> <span style=\"background-color:rgba(135,206,250,0.00895019);\">-</span> <span style=\"background-color:rgba(135,206,250,0.051256973);\">textured</span> <span style=\"background-color:rgba(135,206,250,0.088506505);\">riesling</span> <span style=\"background-color:rgba(135,206,250,0.11410343);\">.</span> <span style=\"background-color:rgba(135,206,250,0.056754094);\">it</span> <span style=\"background-color:rgba(135,206,250,0.020099275);\">'</span> <span style=\"background-color:rgba(135,206,250,0.05001518);\">s</span> <span style=\"background-color:rgba(135,206,250,0.12513076);\">lavishly</span> <span style=\"background-color:rgba(135,206,250,0.048657607);\">aromatic</span> <span style=\"background-color:rgba(135,206,250,0.12306499);\">with</span> <span style=\"background-color:rgba(135,206,250,0.12028543);\">honey</span> <span style=\"background-color:rgba(135,206,250,0.08575211);\">and</span> <span style=\"background-color:rgba(135,206,250,0.17179318);\">tangerine</span> <span style=\"background-color:rgba(135,206,250,0.25924778);\">flavors</span> <span style=\"background-color:rgba(135,206,250,1.0);\">.</span> <span style=\"background-color:rgba(135,206,250,0.5223477);\">it</span> <span style=\"background-color:rgba(135,206,250,0.1687338);\">'</span> <span style=\"background-color:rgba(135,206,250,0.67438316);\">s</span> <span style=\"background-color:rgba(135,206,250,0.3046366);\">dry</span>"
            ]
          },
          "metadata": {}
        },
        {
          "output_type": "stream",
          "name": "stdout",
          "text": [
            "in:   \t53.32%\n",
            "and:   \t35.55%\n",
            ",:   \t8.73%\n",
            "on:   \t1.62%\n",
            "but:   \t0.36%\n",
            "--------\n",
            "\n"
          ]
        },
        {
          "output_type": "display_data",
          "data": {
            "text/plain": [
              "<IPython.core.display.HTML object>"
            ],
            "text/html": [
              "<span style=\"background-color:rgba(135,206,250,0.0379044);\">wine</span> <span style=\"background-color:rgba(135,206,250,0.061208036);\">review</span> <span style=\"background-color:rgba(135,206,250,0.050204486);\">:</span> <span style=\"background-color:rgba(135,206,250,0.24083683);\">germany</span> <span style=\"background-color:rgba(135,206,250,0.044785935);\">:</span> <span style=\"background-color:rgba(135,206,250,0.10745228);\">mosel</span> <span style=\"background-color:rgba(135,206,250,0.03101048);\">:</span> <span style=\"background-color:rgba(135,206,250,0.15576562);\">riesling</span> <span style=\"background-color:rgba(135,206,250,0.047299232);\">:</span> <span style=\"background-color:rgba(135,206,250,0.0580587);\">saffron</span> <span style=\"background-color:rgba(135,206,250,0.020804616);\">and</span> <span style=\"background-color:rgba(135,206,250,0.036635276);\">spice</span> <span style=\"background-color:rgba(135,206,250,0.044514343);\">notes</span> <span style=\"background-color:rgba(135,206,250,0.026286883);\">lend</span> <span style=\"background-color:rgba(135,206,250,0.014064064);\">a</span> <span style=\"background-color:rgba(135,206,250,0.033032976);\">savory</span> <span style=\"background-color:rgba(135,206,250,0.04132663);\">tone</span> <span style=\"background-color:rgba(135,206,250,0.011628969);\">to</span> <span style=\"background-color:rgba(135,206,250,0.02216238);\">this</span> <span style=\"background-color:rgba(135,206,250,0.035827227);\">intensely</span> <span style=\"background-color:rgba(135,206,250,0.04081647);\">mineral</span> <span style=\"background-color:rgba(135,206,250,0.010072641);\">-</span> <span style=\"background-color:rgba(135,206,250,0.0486999);\">textured</span> <span style=\"background-color:rgba(135,206,250,0.05003652);\">riesling</span> <span style=\"background-color:rgba(135,206,250,0.07115759);\">.</span> <span style=\"background-color:rgba(135,206,250,0.03131459);\">it</span> <span style=\"background-color:rgba(135,206,250,0.012409014);\">'</span> <span style=\"background-color:rgba(135,206,250,0.030267015);\">s</span> <span style=\"background-color:rgba(135,206,250,0.10062351);\">lavishly</span> <span style=\"background-color:rgba(135,206,250,0.044354256);\">aromatic</span> <span style=\"background-color:rgba(135,206,250,0.05122111);\">with</span> <span style=\"background-color:rgba(135,206,250,0.0877665);\">honey</span> <span style=\"background-color:rgba(135,206,250,0.031670786);\">and</span> <span style=\"background-color:rgba(135,206,250,0.12777519);\">tangerine</span> <span style=\"background-color:rgba(135,206,250,0.18349394);\">flavors</span> <span style=\"background-color:rgba(135,206,250,0.34024227);\">.</span> <span style=\"background-color:rgba(135,206,250,0.16984446);\">it</span> <span style=\"background-color:rgba(135,206,250,0.07604662);\">'</span> <span style=\"background-color:rgba(135,206,250,0.39647213);\">s</span> <span style=\"background-color:rgba(135,206,250,1.0);\">dry</span> <span style=\"background-color:rgba(135,206,250,0.28716215);\">and</span>"
            ]
          },
          "metadata": {}
        },
        {
          "output_type": "stream",
          "name": "stdout",
          "text": [
            "spry:   \t63.39%\n",
            "concentrated:   \t8.46%\n",
            "taut:   \t2.76%\n",
            "sprightly:   \t2.6%\n",
            "intensely:   \t2.19%\n",
            "--------\n",
            "\n"
          ]
        },
        {
          "output_type": "display_data",
          "data": {
            "text/plain": [
              "<IPython.core.display.HTML object>"
            ],
            "text/html": [
              "<span style=\"background-color:rgba(135,206,250,0.06055607);\">wine</span> <span style=\"background-color:rgba(135,206,250,0.09693296);\">review</span> <span style=\"background-color:rgba(135,206,250,0.07379888);\">:</span> <span style=\"background-color:rgba(135,206,250,0.26312205);\">germany</span> <span style=\"background-color:rgba(135,206,250,0.06494472);\">:</span> <span style=\"background-color:rgba(135,206,250,0.1474109);\">mosel</span> <span style=\"background-color:rgba(135,206,250,0.056196995);\">:</span> <span style=\"background-color:rgba(135,206,250,0.23310311);\">riesling</span> <span style=\"background-color:rgba(135,206,250,0.08073268);\">:</span> <span style=\"background-color:rgba(135,206,250,0.077223785);\">saffron</span> <span style=\"background-color:rgba(135,206,250,0.036228932);\">and</span> <span style=\"background-color:rgba(135,206,250,0.037819676);\">spice</span> <span style=\"background-color:rgba(135,206,250,0.05431465);\">notes</span> <span style=\"background-color:rgba(135,206,250,0.028300744);\">lend</span> <span style=\"background-color:rgba(135,206,250,0.019863417);\">a</span> <span style=\"background-color:rgba(135,206,250,0.016923772);\">savory</span> <span style=\"background-color:rgba(135,206,250,0.0540186);\">tone</span> <span style=\"background-color:rgba(135,206,250,0.018235428);\">to</span> <span style=\"background-color:rgba(135,206,250,0.032707527);\">this</span> <span style=\"background-color:rgba(135,206,250,0.025280394);\">intensely</span> <span style=\"background-color:rgba(135,206,250,0.034246385);\">mineral</span> <span style=\"background-color:rgba(135,206,250,0.012679052);\">-</span> <span style=\"background-color:rgba(135,206,250,0.05039703);\">textured</span> <span style=\"background-color:rgba(135,206,250,0.086241275);\">riesling</span> <span style=\"background-color:rgba(135,206,250,0.14353609);\">.</span> <span style=\"background-color:rgba(135,206,250,0.06118805);\">it</span> <span style=\"background-color:rgba(135,206,250,0.024352426);\">'</span> <span style=\"background-color:rgba(135,206,250,0.06723509);\">s</span> <span style=\"background-color:rgba(135,206,250,0.11973549);\">lavishly</span> <span style=\"background-color:rgba(135,206,250,0.04572651);\">aromatic</span> <span style=\"background-color:rgba(135,206,250,0.11173224);\">with</span> <span style=\"background-color:rgba(135,206,250,0.122342125);\">honey</span> <span style=\"background-color:rgba(135,206,250,0.092929885);\">and</span> <span style=\"background-color:rgba(135,206,250,0.1729518);\">tangerine</span> <span style=\"background-color:rgba(135,206,250,0.23850173);\">flavors</span> <span style=\"background-color:rgba(135,206,250,0.82666194);\">.</span> <span style=\"background-color:rgba(135,206,250,0.37470764);\">it</span> <span style=\"background-color:rgba(135,206,250,0.1218707);\">'</span> <span style=\"background-color:rgba(135,206,250,0.51959085);\">s</span> <span style=\"background-color:rgba(135,206,250,0.30036455);\">dry</span> <span style=\"background-color:rgba(135,206,250,1.0);\">and</span> <span style=\"background-color:rgba(135,206,250,0.5518741);\">spry</span>"
            ]
          },
          "metadata": {}
        },
        {
          "output_type": "stream",
          "name": "stdout",
          "text": [
            ",:   \t96.84%\n",
            "on:   \t0.8%\n",
            "with:   \t0.79%\n",
            "yet:   \t0.55%\n",
            "in:   \t0.4%\n",
            "--------\n",
            "\n"
          ]
        },
        {
          "output_type": "display_data",
          "data": {
            "text/plain": [
              "<IPython.core.display.HTML object>"
            ],
            "text/html": [
              "<span style=\"background-color:rgba(135,206,250,0.030412888);\">wine</span> <span style=\"background-color:rgba(135,206,250,0.06348867);\">review</span> <span style=\"background-color:rgba(135,206,250,0.045481496);\">:</span> <span style=\"background-color:rgba(135,206,250,0.22873972);\">germany</span> <span style=\"background-color:rgba(135,206,250,0.035425816);\">:</span> <span style=\"background-color:rgba(135,206,250,0.070606746);\">mosel</span> <span style=\"background-color:rgba(135,206,250,0.031679854);\">:</span> <span style=\"background-color:rgba(135,206,250,0.13499217);\">riesling</span> <span style=\"background-color:rgba(135,206,250,0.047182728);\">:</span> <span style=\"background-color:rgba(135,206,250,0.039076682);\">saffron</span> <span style=\"background-color:rgba(135,206,250,0.024151117);\">and</span> <span style=\"background-color:rgba(135,206,250,0.029969532);\">spice</span> <span style=\"background-color:rgba(135,206,250,0.03699425);\">notes</span> <span style=\"background-color:rgba(135,206,250,0.04092555);\">lend</span> <span style=\"background-color:rgba(135,206,250,0.011001983);\">a</span> <span style=\"background-color:rgba(135,206,250,0.020663202);\">savory</span> <span style=\"background-color:rgba(135,206,250,0.04113351);\">tone</span> <span style=\"background-color:rgba(135,206,250,0.013322211);\">to</span> <span style=\"background-color:rgba(135,206,250,0.04172267);\">this</span> <span style=\"background-color:rgba(135,206,250,0.027454406);\">intensely</span> <span style=\"background-color:rgba(135,206,250,0.03415195);\">mineral</span> <span style=\"background-color:rgba(135,206,250,0.0090863155);\">-</span> <span style=\"background-color:rgba(135,206,250,0.033143833);\">textured</span> <span style=\"background-color:rgba(135,206,250,0.043609314);\">riesling</span> <span style=\"background-color:rgba(135,206,250,0.09517428);\">.</span> <span style=\"background-color:rgba(135,206,250,0.07913036);\">it</span> <span style=\"background-color:rgba(135,206,250,0.011782476);\">'</span> <span style=\"background-color:rgba(135,206,250,0.05789582);\">s</span> <span style=\"background-color:rgba(135,206,250,0.07441507);\">lavishly</span> <span style=\"background-color:rgba(135,206,250,0.03772292);\">aromatic</span> <span style=\"background-color:rgba(135,206,250,0.09655856);\">with</span> <span style=\"background-color:rgba(135,206,250,0.08580851);\">honey</span> <span style=\"background-color:rgba(135,206,250,0.06170622);\">and</span> <span style=\"background-color:rgba(135,206,250,0.11604569);\">tangerine</span> <span style=\"background-color:rgba(135,206,250,0.105004035);\">flavors</span> <span style=\"background-color:rgba(135,206,250,0.35909423);\">.</span> <span style=\"background-color:rgba(135,206,250,0.214125);\">it</span> <span style=\"background-color:rgba(135,206,250,0.036988087);\">'</span> <span style=\"background-color:rgba(135,206,250,0.2429961);\">s</span> <span style=\"background-color:rgba(135,206,250,0.3303149);\">dry</span> <span style=\"background-color:rgba(135,206,250,0.6752824);\">and</span> <span style=\"background-color:rgba(135,206,250,1.0);\">spry</span> <span style=\"background-color:rgba(135,206,250,0.33435285);\">,</span>"
            ]
          },
          "metadata": {}
        },
        {
          "output_type": "stream",
          "name": "stdout",
          "text": [
            "yet:   \t48.6%\n",
            "finishing:   \t21.71%\n",
            "but:   \t20.0%\n",
            "it:   \t5.15%\n",
            "with:   \t2.63%\n",
            "--------\n",
            "\n"
          ]
        },
        {
          "output_type": "display_data",
          "data": {
            "text/plain": [
              "<IPython.core.display.HTML object>"
            ],
            "text/html": [
              "<span style=\"background-color:rgba(135,206,250,0.06455744);\">wine</span> <span style=\"background-color:rgba(135,206,250,0.1358962);\">review</span> <span style=\"background-color:rgba(135,206,250,0.0853733);\">:</span> <span style=\"background-color:rgba(135,206,250,0.31528834);\">germany</span> <span style=\"background-color:rgba(135,206,250,0.100009136);\">:</span> <span style=\"background-color:rgba(135,206,250,0.08520527);\">mosel</span> <span style=\"background-color:rgba(135,206,250,0.06073415);\">:</span> <span style=\"background-color:rgba(135,206,250,0.11364621);\">riesling</span> <span style=\"background-color:rgba(135,206,250,0.06968181);\">:</span> <span style=\"background-color:rgba(135,206,250,0.058131903);\">saffron</span> <span style=\"background-color:rgba(135,206,250,0.033871662);\">and</span> <span style=\"background-color:rgba(135,206,250,0.03638466);\">spice</span> <span style=\"background-color:rgba(135,206,250,0.056301545);\">notes</span> <span style=\"background-color:rgba(135,206,250,0.08163761);\">lend</span> <span style=\"background-color:rgba(135,206,250,0.033342436);\">a</span> <span style=\"background-color:rgba(135,206,250,0.022303699);\">savory</span> <span style=\"background-color:rgba(135,206,250,0.041837245);\">tone</span> <span style=\"background-color:rgba(135,206,250,0.024706524);\">to</span> <span style=\"background-color:rgba(135,206,250,0.0385862);\">this</span> <span style=\"background-color:rgba(135,206,250,0.01728196);\">intensely</span> <span style=\"background-color:rgba(135,206,250,0.021385068);\">mineral</span> <span style=\"background-color:rgba(135,206,250,0.011074156);\">-</span> <span style=\"background-color:rgba(135,206,250,0.033606373);\">textured</span> <span style=\"background-color:rgba(135,206,250,0.03832236);\">riesling</span> <span style=\"background-color:rgba(135,206,250,0.1057573);\">.</span> <span style=\"background-color:rgba(135,206,250,0.04856574);\">it</span> <span style=\"background-color:rgba(135,206,250,0.016107468);\">'</span> <span style=\"background-color:rgba(135,206,250,0.040768903);\">s</span> <span style=\"background-color:rgba(135,206,250,0.07911138);\">lavishly</span> <span style=\"background-color:rgba(135,206,250,0.040284093);\">aromatic</span> <span style=\"background-color:rgba(135,206,250,0.09058955);\">with</span> <span style=\"background-color:rgba(135,206,250,0.058823444);\">honey</span> <span style=\"background-color:rgba(135,206,250,0.048061065);\">and</span> <span style=\"background-color:rgba(135,206,250,0.077414565);\">tangerine</span> <span style=\"background-color:rgba(135,206,250,0.15939222);\">flavors</span> <span style=\"background-color:rgba(135,206,250,0.40587232);\">.</span> <span style=\"background-color:rgba(135,206,250,0.18332823);\">it</span> <span style=\"background-color:rgba(135,206,250,0.063240744);\">'</span> <span style=\"background-color:rgba(135,206,250,0.22852851);\">s</span> <span style=\"background-color:rgba(135,206,250,0.17596555);\">dry</span> <span style=\"background-color:rgba(135,206,250,0.25153336);\">and</span> <span style=\"background-color:rgba(135,206,250,0.6515336);\">spry</span> <span style=\"background-color:rgba(135,206,250,1.0);\">,</span> <span style=\"background-color:rgba(135,206,250,0.36328784);\">yet</span>"
            ]
          },
          "metadata": {}
        },
        {
          "output_type": "stream",
          "name": "stdout",
          "text": [
            "deeply:   \t32.52%\n",
            "balanced:   \t18.06%\n",
            "finishes:   \t17.05%\n",
            "concentrated:   \t8.03%\n",
            "intensely:   \t3.36%\n",
            "--------\n",
            "\n"
          ]
        },
        {
          "output_type": "display_data",
          "data": {
            "text/plain": [
              "<IPython.core.display.HTML object>"
            ],
            "text/html": [
              "<span style=\"background-color:rgba(135,206,250,0.083165966);\">wine</span> <span style=\"background-color:rgba(135,206,250,0.12308824);\">review</span> <span style=\"background-color:rgba(135,206,250,0.08564247);\">:</span> <span style=\"background-color:rgba(135,206,250,0.25435743);\">germany</span> <span style=\"background-color:rgba(135,206,250,0.1338869);\">:</span> <span style=\"background-color:rgba(135,206,250,0.16668063);\">mosel</span> <span style=\"background-color:rgba(135,206,250,0.06887928);\">:</span> <span style=\"background-color:rgba(135,206,250,0.28499138);\">riesling</span> <span style=\"background-color:rgba(135,206,250,0.07978788);\">:</span> <span style=\"background-color:rgba(135,206,250,0.068906195);\">saffron</span> <span style=\"background-color:rgba(135,206,250,0.044005405);\">and</span> <span style=\"background-color:rgba(135,206,250,0.060578246);\">spice</span> <span style=\"background-color:rgba(135,206,250,0.042818647);\">notes</span> <span style=\"background-color:rgba(135,206,250,0.023113303);\">lend</span> <span style=\"background-color:rgba(135,206,250,0.028133737);\">a</span> <span style=\"background-color:rgba(135,206,250,0.03520192);\">savory</span> <span style=\"background-color:rgba(135,206,250,0.035821);\">tone</span> <span style=\"background-color:rgba(135,206,250,0.015944475);\">to</span> <span style=\"background-color:rgba(135,206,250,0.030628933);\">this</span> <span style=\"background-color:rgba(135,206,250,0.020447902);\">intensely</span> <span style=\"background-color:rgba(135,206,250,0.056637365);\">mineral</span> <span style=\"background-color:rgba(135,206,250,0.010841757);\">-</span> <span style=\"background-color:rgba(135,206,250,0.053961802);\">textured</span> <span style=\"background-color:rgba(135,206,250,0.093201265);\">riesling</span> <span style=\"background-color:rgba(135,206,250,0.097021736);\">.</span> <span style=\"background-color:rgba(135,206,250,0.022979578);\">it</span> <span style=\"background-color:rgba(135,206,250,0.021116275);\">'</span> <span style=\"background-color:rgba(135,206,250,0.025959883);\">s</span> <span style=\"background-color:rgba(135,206,250,0.06290508);\">lavishly</span> <span style=\"background-color:rgba(135,206,250,0.057318654);\">aromatic</span> <span style=\"background-color:rgba(135,206,250,0.039993428);\">with</span> <span style=\"background-color:rgba(135,206,250,0.08707372);\">honey</span> <span style=\"background-color:rgba(135,206,250,0.058223553);\">and</span> <span style=\"background-color:rgba(135,206,250,0.13012831);\">tangerine</span> <span style=\"background-color:rgba(135,206,250,0.118199065);\">flavors</span> <span style=\"background-color:rgba(135,206,250,0.27098706);\">.</span> <span style=\"background-color:rgba(135,206,250,0.13182509);\">it</span> <span style=\"background-color:rgba(135,206,250,0.07089966);\">'</span> <span style=\"background-color:rgba(135,206,250,0.09879929);\">s</span> <span style=\"background-color:rgba(135,206,250,0.19611116);\">dry</span> <span style=\"background-color:rgba(135,206,250,0.22855416);\">and</span> <span style=\"background-color:rgba(135,206,250,0.6828331);\">spry</span> <span style=\"background-color:rgba(135,206,250,1.0);\">,</span> <span style=\"background-color:rgba(135,206,250,0.8906624);\">yet</span> <span style=\"background-color:rgba(135,206,250,0.2631898);\">deeply</span>"
            ]
          },
          "metadata": {}
        },
        {
          "output_type": "stream",
          "name": "stdout",
          "text": [
            "mineral:   \t45.51%\n",
            "concentrated:   \t27.57%\n",
            "penetrating:   \t22.69%\n",
            "textured:   \t2.3%\n",
            "fruity:   \t0.63%\n",
            "--------\n",
            "\n"
          ]
        },
        {
          "output_type": "display_data",
          "data": {
            "text/plain": [
              "<IPython.core.display.HTML object>"
            ],
            "text/html": [
              "<span style=\"background-color:rgba(135,206,250,0.103047736);\">wine</span> <span style=\"background-color:rgba(135,206,250,0.14516792);\">review</span> <span style=\"background-color:rgba(135,206,250,0.16068134);\">:</span> <span style=\"background-color:rgba(135,206,250,0.40188745);\">germany</span> <span style=\"background-color:rgba(135,206,250,0.15486448);\">:</span> <span style=\"background-color:rgba(135,206,250,0.09406943);\">mosel</span> <span style=\"background-color:rgba(135,206,250,0.10333138);\">:</span> <span style=\"background-color:rgba(135,206,250,0.12432214);\">riesling</span> <span style=\"background-color:rgba(135,206,250,0.109576896);\">:</span> <span style=\"background-color:rgba(135,206,250,0.05033193);\">saffron</span> <span style=\"background-color:rgba(135,206,250,0.050353944);\">and</span> <span style=\"background-color:rgba(135,206,250,0.046786495);\">spice</span> <span style=\"background-color:rgba(135,206,250,0.08084921);\">notes</span> <span style=\"background-color:rgba(135,206,250,0.06622199);\">lend</span> <span style=\"background-color:rgba(135,206,250,0.041698918);\">a</span> <span style=\"background-color:rgba(135,206,250,0.028996516);\">savory</span> <span style=\"background-color:rgba(135,206,250,0.07074843);\">tone</span> <span style=\"background-color:rgba(135,206,250,0.049788952);\">to</span> <span style=\"background-color:rgba(135,206,250,0.060211647);\">this</span> <span style=\"background-color:rgba(135,206,250,0.04377651);\">intensely</span> <span style=\"background-color:rgba(135,206,250,0.034578294);\">mineral</span> <span style=\"background-color:rgba(135,206,250,0.020552086);\">-</span> <span style=\"background-color:rgba(135,206,250,0.076356545);\">textured</span> <span style=\"background-color:rgba(135,206,250,0.06607651);\">riesling</span> <span style=\"background-color:rgba(135,206,250,0.21241593);\">.</span> <span style=\"background-color:rgba(135,206,250,0.1268603);\">it</span> <span style=\"background-color:rgba(135,206,250,0.04354334);\">'</span> <span style=\"background-color:rgba(135,206,250,0.13034736);\">s</span> <span style=\"background-color:rgba(135,206,250,0.14827044);\">lavishly</span> <span style=\"background-color:rgba(135,206,250,0.10775905);\">aromatic</span> <span style=\"background-color:rgba(135,206,250,0.22794743);\">with</span> <span style=\"background-color:rgba(135,206,250,0.12487008);\">honey</span> <span style=\"background-color:rgba(135,206,250,0.13809551);\">and</span> <span style=\"background-color:rgba(135,206,250,0.18280178);\">tangerine</span> <span style=\"background-color:rgba(135,206,250,0.32016766);\">flavors</span> <span style=\"background-color:rgba(135,206,250,0.7244534);\">.</span> <span style=\"background-color:rgba(135,206,250,0.41470024);\">it</span> <span style=\"background-color:rgba(135,206,250,0.15019318);\">'</span> <span style=\"background-color:rgba(135,206,250,0.50505704);\">s</span> <span style=\"background-color:rgba(135,206,250,0.27765864);\">dry</span> <span style=\"background-color:rgba(135,206,250,0.5756071);\">and</span> <span style=\"background-color:rgba(135,206,250,0.6887196);\">spry</span> <span style=\"background-color:rgba(135,206,250,0.7415746);\">,</span> <span style=\"background-color:rgba(135,206,250,0.992856);\">yet</span> <span style=\"background-color:rgba(135,206,250,1.0);\">deeply</span> <span style=\"background-color:rgba(135,206,250,0.5207364);\">mineral</span>"
            ]
          },
          "metadata": {}
        },
        {
          "output_type": "stream",
          "name": "stdout",
          "text": [
            "-:   \t87.05%\n",
            "on:   \t4.71%\n",
            ",:   \t4.42%\n",
            "in:   \t2.62%\n",
            "and:   \t0.47%\n",
            "--------\n",
            "\n"
          ]
        },
        {
          "output_type": "display_data",
          "data": {
            "text/plain": [
              "<IPython.core.display.HTML object>"
            ],
            "text/html": [
              "<span style=\"background-color:rgba(135,206,250,0.042165224);\">wine</span> <span style=\"background-color:rgba(135,206,250,0.08398738);\">review</span> <span style=\"background-color:rgba(135,206,250,0.042110186);\">:</span> <span style=\"background-color:rgba(135,206,250,0.1552577);\">germany</span> <span style=\"background-color:rgba(135,206,250,0.078048356);\">:</span> <span style=\"background-color:rgba(135,206,250,0.1009822);\">mosel</span> <span style=\"background-color:rgba(135,206,250,0.03928992);\">:</span> <span style=\"background-color:rgba(135,206,250,0.15797082);\">riesling</span> <span style=\"background-color:rgba(135,206,250,0.048158254);\">:</span> <span style=\"background-color:rgba(135,206,250,0.030753132);\">saffron</span> <span style=\"background-color:rgba(135,206,250,0.027860396);\">and</span> <span style=\"background-color:rgba(135,206,250,0.018839266);\">spice</span> <span style=\"background-color:rgba(135,206,250,0.022609336);\">notes</span> <span style=\"background-color:rgba(135,206,250,0.02205378);\">lend</span> <span style=\"background-color:rgba(135,206,250,0.016927874);\">a</span> <span style=\"background-color:rgba(135,206,250,0.014224987);\">savory</span> <span style=\"background-color:rgba(135,206,250,0.02287936);\">tone</span> <span style=\"background-color:rgba(135,206,250,0.011834372);\">to</span> <span style=\"background-color:rgba(135,206,250,0.022030452);\">this</span> <span style=\"background-color:rgba(135,206,250,0.013779161);\">intensely</span> <span style=\"background-color:rgba(135,206,250,0.021193372);\">mineral</span> <span style=\"background-color:rgba(135,206,250,0.00573975);\">-</span> <span style=\"background-color:rgba(135,206,250,0.026591094);\">textured</span> <span style=\"background-color:rgba(135,206,250,0.04292143);\">riesling</span> <span style=\"background-color:rgba(135,206,250,0.055425562);\">.</span> <span style=\"background-color:rgba(135,206,250,0.024370655);\">it</span> <span style=\"background-color:rgba(135,206,250,0.009787191);\">'</span> <span style=\"background-color:rgba(135,206,250,0.029124945);\">s</span> <span style=\"background-color:rgba(135,206,250,0.033845875);\">lavishly</span> <span style=\"background-color:rgba(135,206,250,0.024318187);\">aromatic</span> <span style=\"background-color:rgba(135,206,250,0.03540503);\">with</span> <span style=\"background-color:rgba(135,206,250,0.037932575);\">honey</span> <span style=\"background-color:rgba(135,206,250,0.036052432);\">and</span> <span style=\"background-color:rgba(135,206,250,0.047132675);\">tangerine</span> <span style=\"background-color:rgba(135,206,250,0.05314014);\">flavors</span> <span style=\"background-color:rgba(135,206,250,0.08423864);\">.</span> <span style=\"background-color:rgba(135,206,250,0.041960906);\">it</span> <span style=\"background-color:rgba(135,206,250,0.015443329);\">'</span> <span style=\"background-color:rgba(135,206,250,0.049584992);\">s</span> <span style=\"background-color:rgba(135,206,250,0.07104613);\">dry</span> <span style=\"background-color:rgba(135,206,250,0.07188919);\">and</span> <span style=\"background-color:rgba(135,206,250,0.17352913);\">spry</span> <span style=\"background-color:rgba(135,206,250,0.12744433);\">,</span> <span style=\"background-color:rgba(135,206,250,0.2604571);\">yet</span> <span style=\"background-color:rgba(135,206,250,0.5601898);\">deeply</span> <span style=\"background-color:rgba(135,206,250,1.0);\">mineral</span> <span style=\"background-color:rgba(135,206,250,0.041972894);\">-</span>"
            ]
          },
          "metadata": {}
        },
        {
          "output_type": "stream",
          "name": "stdout",
          "text": [
            "driven:   \t50.29%\n",
            "textured:   \t32.05%\n",
            "kissed:   \t13.0%\n",
            "tinged:   \t0.94%\n",
            "drenched:   \t0.76%\n",
            "--------\n",
            "\n"
          ]
        },
        {
          "output_type": "display_data",
          "data": {
            "text/plain": [
              "<IPython.core.display.HTML object>"
            ],
            "text/html": [
              "<span style=\"background-color:rgba(135,206,250,0.13394226);\">wine</span> <span style=\"background-color:rgba(135,206,250,0.20723753);\">review</span> <span style=\"background-color:rgba(135,206,250,0.12470638);\">:</span> <span style=\"background-color:rgba(135,206,250,0.34772834);\">germany</span> <span style=\"background-color:rgba(135,206,250,0.15266158);\">:</span> <span style=\"background-color:rgba(135,206,250,0.22945836);\">mosel</span> <span style=\"background-color:rgba(135,206,250,0.1167297);\">:</span> <span style=\"background-color:rgba(135,206,250,0.40950602);\">riesling</span> <span style=\"background-color:rgba(135,206,250,0.18424317);\">:</span> <span style=\"background-color:rgba(135,206,250,0.12789883);\">saffron</span> <span style=\"background-color:rgba(135,206,250,0.0696751);\">and</span> <span style=\"background-color:rgba(135,206,250,0.05998454);\">spice</span> <span style=\"background-color:rgba(135,206,250,0.086089365);\">notes</span> <span style=\"background-color:rgba(135,206,250,0.048877742);\">lend</span> <span style=\"background-color:rgba(135,206,250,0.043716315);\">a</span> <span style=\"background-color:rgba(135,206,250,0.033325795);\">savory</span> <span style=\"background-color:rgba(135,206,250,0.05769412);\">tone</span> <span style=\"background-color:rgba(135,206,250,0.034022674);\">to</span> <span style=\"background-color:rgba(135,206,250,0.052258402);\">this</span> <span style=\"background-color:rgba(135,206,250,0.039109517);\">intensely</span> <span style=\"background-color:rgba(135,206,250,0.051171944);\">mineral</span> <span style=\"background-color:rgba(135,206,250,0.022145053);\">-</span> <span style=\"background-color:rgba(135,206,250,0.08982227);\">textured</span> <span style=\"background-color:rgba(135,206,250,0.115963556);\">riesling</span> <span style=\"background-color:rgba(135,206,250,0.22374988);\">.</span> <span style=\"background-color:rgba(135,206,250,0.08675825);\">it</span> <span style=\"background-color:rgba(135,206,250,0.03503864);\">'</span> <span style=\"background-color:rgba(135,206,250,0.08748997);\">s</span> <span style=\"background-color:rgba(135,206,250,0.17697436);\">lavishly</span> <span style=\"background-color:rgba(135,206,250,0.08101694);\">aromatic</span> <span style=\"background-color:rgba(135,206,250,0.13302228);\">with</span> <span style=\"background-color:rgba(135,206,250,0.13807796);\">honey</span> <span style=\"background-color:rgba(135,206,250,0.11737009);\">and</span> <span style=\"background-color:rgba(135,206,250,0.18084435);\">tangerine</span> <span style=\"background-color:rgba(135,206,250,0.42200038);\">flavors</span> <span style=\"background-color:rgba(135,206,250,0.6918825);\">.</span> <span style=\"background-color:rgba(135,206,250,0.3108676);\">it</span> <span style=\"background-color:rgba(135,206,250,0.11651162);\">'</span> <span style=\"background-color:rgba(135,206,250,0.4572613);\">s</span> <span style=\"background-color:rgba(135,206,250,0.26603442);\">dry</span> <span style=\"background-color:rgba(135,206,250,0.4314236);\">and</span> <span style=\"background-color:rgba(135,206,250,0.6351645);\">spry</span> <span style=\"background-color:rgba(135,206,250,0.76828015);\">,</span> <span style=\"background-color:rgba(135,206,250,0.67906183);\">yet</span> <span style=\"background-color:rgba(135,206,250,0.65947086);\">deeply</span> <span style=\"background-color:rgba(135,206,250,0.8484097);\">mineral</span> <span style=\"background-color:rgba(135,206,250,1.0);\">-</span> <span style=\"background-color:rgba(135,206,250,0.9634457);\">driven</span>"
            ]
          },
          "metadata": {}
        },
        {
          "output_type": "stream",
          "name": "stdout",
          "text": [
            ",:   \t80.07%\n",
            "riesling:   \t8.39%\n",
            ".:   \t6.53%\n",
            "and:   \t1.45%\n",
            "on:   \t1.17%\n",
            "--------\n",
            "\n"
          ]
        },
        {
          "output_type": "display_data",
          "data": {
            "text/plain": [
              "<IPython.core.display.HTML object>"
            ],
            "text/html": [
              "<span style=\"background-color:rgba(135,206,250,0.039044235);\">wine</span> <span style=\"background-color:rgba(135,206,250,0.0839778);\">review</span> <span style=\"background-color:rgba(135,206,250,0.05822145);\">:</span> <span style=\"background-color:rgba(135,206,250,0.33210817);\">germany</span> <span style=\"background-color:rgba(135,206,250,0.052886);\">:</span> <span style=\"background-color:rgba(135,206,250,0.109307975);\">mosel</span> <span style=\"background-color:rgba(135,206,250,0.046307217);\">:</span> <span style=\"background-color:rgba(135,206,250,0.22020194);\">riesling</span> <span style=\"background-color:rgba(135,206,250,0.06889536);\">:</span> <span style=\"background-color:rgba(135,206,250,0.056307502);\">saffron</span> <span style=\"background-color:rgba(135,206,250,0.03535556);\">and</span> <span style=\"background-color:rgba(135,206,250,0.041952237);\">spice</span> <span style=\"background-color:rgba(135,206,250,0.05089951);\">notes</span> <span style=\"background-color:rgba(135,206,250,0.053973716);\">lend</span> <span style=\"background-color:rgba(135,206,250,0.016367877);\">a</span> <span style=\"background-color:rgba(135,206,250,0.02857142);\">savory</span> <span style=\"background-color:rgba(135,206,250,0.055045974);\">tone</span> <span style=\"background-color:rgba(135,206,250,0.016732695);\">to</span> <span style=\"background-color:rgba(135,206,250,0.056252934);\">this</span> <span style=\"background-color:rgba(135,206,250,0.036394246);\">intensely</span> <span style=\"background-color:rgba(135,206,250,0.044789743);\">mineral</span> <span style=\"background-color:rgba(135,206,250,0.0109221935);\">-</span> <span style=\"background-color:rgba(135,206,250,0.041925333);\">textured</span> <span style=\"background-color:rgba(135,206,250,0.05780732);\">riesling</span> <span style=\"background-color:rgba(135,206,250,0.10941452);\">.</span> <span style=\"background-color:rgba(135,206,250,0.08704043);\">it</span> <span style=\"background-color:rgba(135,206,250,0.013259227);\">'</span> <span style=\"background-color:rgba(135,206,250,0.0661889);\">s</span> <span style=\"background-color:rgba(135,206,250,0.088952385);\">lavishly</span> <span style=\"background-color:rgba(135,206,250,0.043444853);\">aromatic</span> <span style=\"background-color:rgba(135,206,250,0.09436155);\">with</span> <span style=\"background-color:rgba(135,206,250,0.09089475);\">honey</span> <span style=\"background-color:rgba(135,206,250,0.054179285);\">and</span> <span style=\"background-color:rgba(135,206,250,0.103982106);\">tangerine</span> <span style=\"background-color:rgba(135,206,250,0.090710595);\">flavors</span> <span style=\"background-color:rgba(135,206,250,0.24127625);\">.</span> <span style=\"background-color:rgba(135,206,250,0.17383242);\">it</span> <span style=\"background-color:rgba(135,206,250,0.02606045);\">'</span> <span style=\"background-color:rgba(135,206,250,0.1379813);\">s</span> <span style=\"background-color:rgba(135,206,250,0.13978894);\">dry</span> <span style=\"background-color:rgba(135,206,250,0.2051371);\">and</span> <span style=\"background-color:rgba(135,206,250,0.3551366);\">spry</span> <span style=\"background-color:rgba(135,206,250,0.1191455);\">,</span> <span style=\"background-color:rgba(135,206,250,0.5881382);\">yet</span> <span style=\"background-color:rgba(135,206,250,0.4382715);\">deeply</span> <span style=\"background-color:rgba(135,206,250,0.6864809);\">mineral</span> <span style=\"background-color:rgba(135,206,250,0.4362057);\">-</span> <span style=\"background-color:rgba(135,206,250,1.0);\">driven</span> <span style=\"background-color:rgba(135,206,250,0.70741355);\">,</span>"
            ]
          },
          "metadata": {}
        },
        {
          "output_type": "stream",
          "name": "stdout",
          "text": [
            "it:   \t66.9%\n",
            "finishing:   \t11.99%\n",
            "with:   \t9.62%\n",
            "its:   \t5.11%\n",
            "yet:   \t2.59%\n",
            "--------\n",
            "\n"
          ]
        },
        {
          "output_type": "display_data",
          "data": {
            "text/plain": [
              "<IPython.core.display.HTML object>"
            ],
            "text/html": [
              "<span style=\"background-color:rgba(135,206,250,0.054682966);\">wine</span> <span style=\"background-color:rgba(135,206,250,0.104305305);\">review</span> <span style=\"background-color:rgba(135,206,250,0.07360492);\">:</span> <span style=\"background-color:rgba(135,206,250,0.19640183);\">germany</span> <span style=\"background-color:rgba(135,206,250,0.09936946);\">:</span> <span style=\"background-color:rgba(135,206,250,0.10482626);\">mosel</span> <span style=\"background-color:rgba(135,206,250,0.04409406);\">:</span> <span style=\"background-color:rgba(135,206,250,0.078700446);\">riesling</span> <span style=\"background-color:rgba(135,206,250,0.062535);\">:</span> <span style=\"background-color:rgba(135,206,250,0.048361603);\">saffron</span> <span style=\"background-color:rgba(135,206,250,0.040763345);\">and</span> <span style=\"background-color:rgba(135,206,250,0.036422715);\">spice</span> <span style=\"background-color:rgba(135,206,250,0.0511722);\">notes</span> <span style=\"background-color:rgba(135,206,250,0.020000258);\">lend</span> <span style=\"background-color:rgba(135,206,250,0.03962038);\">a</span> <span style=\"background-color:rgba(135,206,250,0.033627454);\">savory</span> <span style=\"background-color:rgba(135,206,250,0.047944132);\">tone</span> <span style=\"background-color:rgba(135,206,250,0.018853018);\">to</span> <span style=\"background-color:rgba(135,206,250,0.019720191);\">this</span> <span style=\"background-color:rgba(135,206,250,0.030984025);\">intensely</span> <span style=\"background-color:rgba(135,206,250,0.035482638);\">mineral</span> <span style=\"background-color:rgba(135,206,250,0.009527387);\">-</span> <span style=\"background-color:rgba(135,206,250,0.04040976);\">textured</span> <span style=\"background-color:rgba(135,206,250,0.029258866);\">riesling</span> <span style=\"background-color:rgba(135,206,250,0.044280794);\">.</span> <span style=\"background-color:rgba(135,206,250,0.012736765);\">it</span> <span style=\"background-color:rgba(135,206,250,0.013618515);\">'</span> <span style=\"background-color:rgba(135,206,250,0.026277326);\">s</span> <span style=\"background-color:rgba(135,206,250,0.054288886);\">lavishly</span> <span style=\"background-color:rgba(135,206,250,0.029436493);\">aromatic</span> <span style=\"background-color:rgba(135,206,250,0.026007133);\">with</span> <span style=\"background-color:rgba(135,206,250,0.04102688);\">honey</span> <span style=\"background-color:rgba(135,206,250,0.036077);\">and</span> <span style=\"background-color:rgba(135,206,250,0.040279355);\">tangerine</span> <span style=\"background-color:rgba(135,206,250,0.055908464);\">flavors</span> <span style=\"background-color:rgba(135,206,250,0.07827192);\">.</span> <span style=\"background-color:rgba(135,206,250,0.027426263);\">it</span> <span style=\"background-color:rgba(135,206,250,0.020123757);\">'</span> <span style=\"background-color:rgba(135,206,250,0.052271158);\">s</span> <span style=\"background-color:rgba(135,206,250,0.055555876);\">dry</span> <span style=\"background-color:rgba(135,206,250,0.0706114);\">and</span> <span style=\"background-color:rgba(135,206,250,0.13129446);\">spry</span> <span style=\"background-color:rgba(135,206,250,0.15080138);\">,</span> <span style=\"background-color:rgba(135,206,250,0.13575229);\">yet</span> <span style=\"background-color:rgba(135,206,250,0.12220014);\">deeply</span> <span style=\"background-color:rgba(135,206,250,0.17121413);\">mineral</span> <span style=\"background-color:rgba(135,206,250,0.16323426);\">-</span> <span style=\"background-color:rgba(135,206,250,0.29186755);\">driven</span> <span style=\"background-color:rgba(135,206,250,1.0);\">,</span> <span style=\"background-color:rgba(135,206,250,0.37028012);\">finishing</span>"
            ]
          },
          "metadata": {}
        },
        {
          "output_type": "stream",
          "name": "stdout",
          "text": [
            "long:   \t61.29%\n",
            "with:   \t21.28%\n",
            "on:   \t11.26%\n",
            "briskly:   \t2.36%\n",
            "brisk:   \t1.29%\n",
            "--------\n",
            "\n"
          ]
        },
        {
          "output_type": "display_data",
          "data": {
            "text/plain": [
              "<IPython.core.display.HTML object>"
            ],
            "text/html": [
              "<span style=\"background-color:rgba(135,206,250,0.030389987);\">wine</span> <span style=\"background-color:rgba(135,206,250,0.046989374);\">review</span> <span style=\"background-color:rgba(135,206,250,0.0382758);\">:</span> <span style=\"background-color:rgba(135,206,250,0.123353414);\">germany</span> <span style=\"background-color:rgba(135,206,250,0.05406653);\">:</span> <span style=\"background-color:rgba(135,206,250,0.056992743);\">mosel</span> <span style=\"background-color:rgba(135,206,250,0.033967823);\">:</span> <span style=\"background-color:rgba(135,206,250,0.044284422);\">riesling</span> <span style=\"background-color:rgba(135,206,250,0.023373995);\">:</span> <span style=\"background-color:rgba(135,206,250,0.019133387);\">saffron</span> <span style=\"background-color:rgba(135,206,250,0.018494792);\">and</span> <span style=\"background-color:rgba(135,206,250,0.018110048);\">spice</span> <span style=\"background-color:rgba(135,206,250,0.014470251);\">notes</span> <span style=\"background-color:rgba(135,206,250,0.01786643);\">lend</span> <span style=\"background-color:rgba(135,206,250,0.012029942);\">a</span> <span style=\"background-color:rgba(135,206,250,0.014624241);\">savory</span> <span style=\"background-color:rgba(135,206,250,0.018877931);\">tone</span> <span style=\"background-color:rgba(135,206,250,0.007380235);\">to</span> <span style=\"background-color:rgba(135,206,250,0.016158631);\">this</span> <span style=\"background-color:rgba(135,206,250,0.012765387);\">intensely</span> <span style=\"background-color:rgba(135,206,250,0.016254297);\">mineral</span> <span style=\"background-color:rgba(135,206,250,0.0080147935);\">-</span> <span style=\"background-color:rgba(135,206,250,0.022970242);\">textured</span> <span style=\"background-color:rgba(135,206,250,0.019876206);\">riesling</span> <span style=\"background-color:rgba(135,206,250,0.03425847);\">.</span> <span style=\"background-color:rgba(135,206,250,0.012080552);\">it</span> <span style=\"background-color:rgba(135,206,250,0.013064876);\">'</span> <span style=\"background-color:rgba(135,206,250,0.015915776);\">s</span> <span style=\"background-color:rgba(135,206,250,0.0390589);\">lavishly</span> <span style=\"background-color:rgba(135,206,250,0.023489647);\">aromatic</span> <span style=\"background-color:rgba(135,206,250,0.019607086);\">with</span> <span style=\"background-color:rgba(135,206,250,0.021509659);\">honey</span> <span style=\"background-color:rgba(135,206,250,0.021146396);\">and</span> <span style=\"background-color:rgba(135,206,250,0.031381764);\">tangerine</span> <span style=\"background-color:rgba(135,206,250,0.024652911);\">flavors</span> <span style=\"background-color:rgba(135,206,250,0.04823183);\">.</span> <span style=\"background-color:rgba(135,206,250,0.017776694);\">it</span> <span style=\"background-color:rgba(135,206,250,0.018090779);\">'</span> <span style=\"background-color:rgba(135,206,250,0.02473131);\">s</span> <span style=\"background-color:rgba(135,206,250,0.030404085);\">dry</span> <span style=\"background-color:rgba(135,206,250,0.034532994);\">and</span> <span style=\"background-color:rgba(135,206,250,0.074950874);\">spry</span> <span style=\"background-color:rgba(135,206,250,0.04855202);\">,</span> <span style=\"background-color:rgba(135,206,250,0.053109687);\">yet</span> <span style=\"background-color:rgba(135,206,250,0.034572683);\">deeply</span> <span style=\"background-color:rgba(135,206,250,0.08200516);\">mineral</span> <span style=\"background-color:rgba(135,206,250,0.050950117);\">-</span> <span style=\"background-color:rgba(135,206,250,0.16001247);\">driven</span> <span style=\"background-color:rgba(135,206,250,0.24135926);\">,</span> <span style=\"background-color:rgba(135,206,250,1.0);\">finishing</span> <span style=\"background-color:rgba(135,206,250,0.08552162);\">long</span>"
            ]
          },
          "metadata": {}
        },
        {
          "output_type": "stream",
          "name": "stdout",
          "text": [
            "and:   \t42.83%\n",
            ".:   \t29.58%\n",
            "with:   \t24.81%\n",
            ",:   \t2.66%\n",
            "on:   \t0.1%\n",
            "--------\n",
            "\n"
          ]
        },
        {
          "output_type": "display_data",
          "data": {
            "text/plain": [
              "<IPython.core.display.HTML object>"
            ],
            "text/html": [
              "<span style=\"background-color:rgba(135,206,250,0.32906625);\">wine</span> <span style=\"background-color:rgba(135,206,250,0.54775214);\">review</span> <span style=\"background-color:rgba(135,206,250,0.40729856);\">:</span> <span style=\"background-color:rgba(135,206,250,1.0);\">germany</span> <span style=\"background-color:rgba(135,206,250,0.34947836);\">:</span> <span style=\"background-color:rgba(135,206,250,0.37050167);\">mosel</span> <span style=\"background-color:rgba(135,206,250,0.3396039);\">:</span> <span style=\"background-color:rgba(135,206,250,0.48754966);\">riesling</span> <span style=\"background-color:rgba(135,206,250,0.2648488);\">:</span> <span style=\"background-color:rgba(135,206,250,0.18995963);\">saffron</span> <span style=\"background-color:rgba(135,206,250,0.13727587);\">and</span> <span style=\"background-color:rgba(135,206,250,0.11013795);\">spice</span> <span style=\"background-color:rgba(135,206,250,0.15987179);\">notes</span> <span style=\"background-color:rgba(135,206,250,0.09461838);\">lend</span> <span style=\"background-color:rgba(135,206,250,0.0732286);\">a</span> <span style=\"background-color:rgba(135,206,250,0.07896792);\">savory</span> <span style=\"background-color:rgba(135,206,250,0.10503191);\">tone</span> <span style=\"background-color:rgba(135,206,250,0.04549804);\">to</span> <span style=\"background-color:rgba(135,206,250,0.124847405);\">this</span> <span style=\"background-color:rgba(135,206,250,0.06040242);\">intensely</span> <span style=\"background-color:rgba(135,206,250,0.079092436);\">mineral</span> <span style=\"background-color:rgba(135,206,250,0.043150898);\">-</span> <span style=\"background-color:rgba(135,206,250,0.08806769);\">textured</span> <span style=\"background-color:rgba(135,206,250,0.10830617);\">riesling</span> <span style=\"background-color:rgba(135,206,250,0.14131972);\">.</span> <span style=\"background-color:rgba(135,206,250,0.08077759);\">it</span> <span style=\"background-color:rgba(135,206,250,0.04890285);\">'</span> <span style=\"background-color:rgba(135,206,250,0.072469786);\">s</span> <span style=\"background-color:rgba(135,206,250,0.13002458);\">lavishly</span> <span style=\"background-color:rgba(135,206,250,0.08250083);\">aromatic</span> <span style=\"background-color:rgba(135,206,250,0.09689099);\">with</span> <span style=\"background-color:rgba(135,206,250,0.11584032);\">honey</span> <span style=\"background-color:rgba(135,206,250,0.08063512);\">and</span> <span style=\"background-color:rgba(135,206,250,0.13823138);\">tangerine</span> <span style=\"background-color:rgba(135,206,250,0.1657448);\">flavors</span> <span style=\"background-color:rgba(135,206,250,0.18649626);\">.</span> <span style=\"background-color:rgba(135,206,250,0.09725912);\">it</span> <span style=\"background-color:rgba(135,206,250,0.05137577);\">'</span> <span style=\"background-color:rgba(135,206,250,0.09325339);\">s</span> <span style=\"background-color:rgba(135,206,250,0.11469545);\">dry</span> <span style=\"background-color:rgba(135,206,250,0.09403016);\">and</span> <span style=\"background-color:rgba(135,206,250,0.31327623);\">spry</span> <span style=\"background-color:rgba(135,206,250,0.081713505);\">,</span> <span style=\"background-color:rgba(135,206,250,0.13016003);\">yet</span> <span style=\"background-color:rgba(135,206,250,0.1307074);\">deeply</span> <span style=\"background-color:rgba(135,206,250,0.12656751);\">mineral</span> <span style=\"background-color:rgba(135,206,250,0.061209626);\">-</span> <span style=\"background-color:rgba(135,206,250,0.106419116);\">driven</span> <span style=\"background-color:rgba(135,206,250,0.10023459);\">,</span> <span style=\"background-color:rgba(135,206,250,0.5989671);\">finishing</span> <span style=\"background-color:rgba(135,206,250,0.14136617);\">long</span> <span style=\"background-color:rgba(135,206,250,0.26800346);\">.</span>"
            ]
          },
          "metadata": {}
        },
        {
          "output_type": "stream",
          "name": "stdout",
          "text": [
            ":   \t91.89%\n",
            "drink:   \t8.07%\n",
            "enjoy:   \t0.02%\n",
            "it:   \t0.01%\n",
            "drinks:   \t0.01%\n",
            "--------\n",
            "\n"
          ]
        }
      ],
      "source": [
        "info = text_generator.generate(\n",
        "    \"wine review : germany\", max_tokens=80, temperature=0.5\n",
        ")\n",
        "print_probs(info, vocab)"
      ]
    }
  ],
  "metadata": {
    "kernelspec": {
      "display_name": "Python 3",
      "name": "python3"
    },
    "language_info": {
      "codemirror_mode": {
        "name": "ipython",
        "version": 3
      },
      "file_extension": ".py",
      "mimetype": "text/x-python",
      "name": "python",
      "nbconvert_exporter": "python",
      "pygments_lexer": "ipython3",
      "version": "3.10.9"
    },
    "vscode": {
      "interpreter": {
        "hash": "31f2aee4e71d21fbe5cf8b01ff0e069b9275f58929596ceb00d14d90e3e16cd6"
      }
    },
    "colab": {
      "provenance": [],
      "gpuType": "T4"
    },
    "accelerator": "GPU"
  },
  "nbformat": 4,
  "nbformat_minor": 5
}